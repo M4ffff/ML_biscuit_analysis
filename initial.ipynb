{
 "cells": [
  {
   "cell_type": "markdown",
   "metadata": {},
   "source": [
    "# Dunkin assessment"
   ]
  },
  {
   "cell_type": "code",
   "execution_count": 1,
   "metadata": {},
   "outputs": [],
   "source": [
    "# some imports used throughout script\n",
    "import pandas as pd\n",
    "import numpy as np\n",
    "import matplotlib.pyplot as plt"
   ]
  },
  {
   "cell_type": "code",
   "execution_count": 2,
   "metadata": {},
   "outputs": [],
   "source": [
    "def encode_biscuit_type(dataframe, biscuits):\n",
    "    \"\"\"\n",
    "    Add new column to dataframe, chaanging biscui names to integers. \n",
    "\n",
    "    Args:\n",
    "        dataframe (df): dataframe containing 'biscuit' column\n",
    "        biscuits (list): list of biscuit names in correct order\n",
    "    \"\"\"\n",
    "    # check biscuit column exists\n",
    "    # do a test?\n",
    "    try:\n",
    "        biscuit_column = dataframe['biscuit']\n",
    "        for i, biscuit in enumerate(biscuits):\n",
    "            biscuit_column = np.where([biscuit_column==biscuit], i, biscuit_column)[0]\n",
    "            \n",
    "        dataframe['encoded biscuit'] = biscuit_column\n",
    "        \n",
    "        print(\"added encoded biscuit column\")\n",
    "    except:\n",
    "        raise ValueError(\"\\\"biscuit\\\" column does not exist in this dataframe.\")"
   ]
  },
  {
   "cell_type": "markdown",
   "metadata": {},
   "source": [
    "#### Big data collection\n",
    "\n",
    "1. gamma: the tea surface tension, in N m−1\n",
    ".\n",
    "2. phi: the contact angle between the biscuit and the tea surface, in rad.\n",
    "3. eta: the tea dynamic viscosity, in Pa s\n",
    "4. L: the distance up the biscuit that the tea was visible, in m.\n",
    "5. t: the time after initial dunking that the measurement was made, in s.\n",
    "6. biscuit: the type of biscuit that was dunked, which is Rich Tea, Hobnob or Digestive.\n"
   ]
  },
  {
   "cell_type": "code",
   "execution_count": 3,
   "metadata": {},
   "outputs": [
    {
     "name": "stdout",
     "output_type": "stream",
     "text": [
      "shape: (3000, 6)\n"
     ]
    },
    {
     "data": {
      "application/vnd.microsoft.datawrangler.viewer.v0+json": {
       "columns": [
        {
         "name": "index",
         "rawType": "int64",
         "type": "integer"
        },
        {
         "name": "gamma",
         "rawType": "float64",
         "type": "float"
        },
        {
         "name": "phi",
         "rawType": "float64",
         "type": "float"
        },
        {
         "name": "eta",
         "rawType": "float64",
         "type": "float"
        },
        {
         "name": "L",
         "rawType": "float64",
         "type": "float"
        },
        {
         "name": "t",
         "rawType": "float64",
         "type": "float"
        },
        {
         "name": "biscuit",
         "rawType": "object",
         "type": "string"
        }
       ],
       "conversionMethod": "pd.DataFrame",
       "ref": "d7c925b6-01fe-48e0-87f6-908432037292",
       "rows": [
        [
         "0",
         "0.073896719371497",
         "1.3330055466388109",
         "0.0009987327666543",
         "0.0111960696011351",
         "19.362213715937266",
         "Digestive"
        ],
        [
         "1",
         "0.0809461966098991",
         "1.47675793946145",
         "0.0010117571591316",
         "0.0058943259660231",
         "11.85258933147959",
         "Digestive"
        ],
        [
         "2",
         "0.0874078993348664",
         "1.4771414922137245",
         "0.0009835886160519",
         "0.0092486331281393",
         "24.793669186847307",
         "Digestive"
        ],
        [
         "3",
         "0.0707929707747368",
         "1.502001460603669",
         "0.0010015968629928",
         "0.0037737484142437",
         "16.292779732948908",
         "Hobnob"
        ],
        [
         "4",
         "0.058917455291466",
         "1.548274080494855",
         "0.0010043325545818",
         "0.0022907146279044",
         "13.66227134082432",
         "Hobnob"
        ]
       ],
       "shape": {
        "columns": 6,
        "rows": 5
       }
      },
      "text/html": [
       "<div>\n",
       "<style scoped>\n",
       "    .dataframe tbody tr th:only-of-type {\n",
       "        vertical-align: middle;\n",
       "    }\n",
       "\n",
       "    .dataframe tbody tr th {\n",
       "        vertical-align: top;\n",
       "    }\n",
       "\n",
       "    .dataframe thead th {\n",
       "        text-align: right;\n",
       "    }\n",
       "</style>\n",
       "<table border=\"1\" class=\"dataframe\">\n",
       "  <thead>\n",
       "    <tr style=\"text-align: right;\">\n",
       "      <th></th>\n",
       "      <th>gamma</th>\n",
       "      <th>phi</th>\n",
       "      <th>eta</th>\n",
       "      <th>L</th>\n",
       "      <th>t</th>\n",
       "      <th>biscuit</th>\n",
       "    </tr>\n",
       "  </thead>\n",
       "  <tbody>\n",
       "    <tr>\n",
       "      <th>0</th>\n",
       "      <td>0.073897</td>\n",
       "      <td>1.333006</td>\n",
       "      <td>0.000999</td>\n",
       "      <td>0.011196</td>\n",
       "      <td>19.362214</td>\n",
       "      <td>Digestive</td>\n",
       "    </tr>\n",
       "    <tr>\n",
       "      <th>1</th>\n",
       "      <td>0.080946</td>\n",
       "      <td>1.476758</td>\n",
       "      <td>0.001012</td>\n",
       "      <td>0.005894</td>\n",
       "      <td>11.852589</td>\n",
       "      <td>Digestive</td>\n",
       "    </tr>\n",
       "    <tr>\n",
       "      <th>2</th>\n",
       "      <td>0.087408</td>\n",
       "      <td>1.477141</td>\n",
       "      <td>0.000984</td>\n",
       "      <td>0.009249</td>\n",
       "      <td>24.793669</td>\n",
       "      <td>Digestive</td>\n",
       "    </tr>\n",
       "    <tr>\n",
       "      <th>3</th>\n",
       "      <td>0.070793</td>\n",
       "      <td>1.502001</td>\n",
       "      <td>0.001002</td>\n",
       "      <td>0.003774</td>\n",
       "      <td>16.292780</td>\n",
       "      <td>Hobnob</td>\n",
       "    </tr>\n",
       "    <tr>\n",
       "      <th>4</th>\n",
       "      <td>0.058917</td>\n",
       "      <td>1.548274</td>\n",
       "      <td>0.001004</td>\n",
       "      <td>0.002291</td>\n",
       "      <td>13.662271</td>\n",
       "      <td>Hobnob</td>\n",
       "    </tr>\n",
       "  </tbody>\n",
       "</table>\n",
       "</div>"
      ],
      "text/plain": [
       "      gamma       phi       eta         L          t    biscuit\n",
       "0  0.073897  1.333006  0.000999  0.011196  19.362214  Digestive\n",
       "1  0.080946  1.476758  0.001012  0.005894  11.852589  Digestive\n",
       "2  0.087408  1.477141  0.000984  0.009249  24.793669  Digestive\n",
       "3  0.070793  1.502001  0.001002  0.003774  16.292780     Hobnob\n",
       "4  0.058917  1.548274  0.001004  0.002291  13.662271     Hobnob"
      ]
     },
     "execution_count": 3,
     "metadata": {},
     "output_type": "execute_result"
    }
   ],
   "source": [
    "# load in dunking-data, and show dataframe\n",
    "\n",
    "big_data = pd.read_csv(\"dunking-data.csv\")\n",
    "print(f\"shape: {big_data.shape}\")\n",
    "big_data.head()"
   ]
  },
  {
   "cell_type": "code",
   "execution_count": 4,
   "metadata": {},
   "outputs": [
    {
     "data": {
      "text/plain": [
       "array(['Digestive', 'Hobnob', 'Rich Tea'], dtype=object)"
      ]
     },
     "execution_count": 4,
     "metadata": {},
     "output_type": "execute_result"
    }
   ],
   "source": [
    "# get names of all types of biscuits\n",
    "\n",
    "biscuits = np.unique(big_data[\"biscuit\"])\n",
    "biscuits"
   ]
  },
  {
   "cell_type": "code",
   "execution_count": 5,
   "metadata": {},
   "outputs": [
    {
     "name": "stdout",
     "output_type": "stream",
     "text": [
      "added encoded biscuit column\n"
     ]
    },
    {
     "data": {
      "application/vnd.microsoft.datawrangler.viewer.v0+json": {
       "columns": [
        {
         "name": "index",
         "rawType": "int64",
         "type": "integer"
        },
        {
         "name": "gamma",
         "rawType": "float64",
         "type": "float"
        },
        {
         "name": "phi",
         "rawType": "float64",
         "type": "float"
        },
        {
         "name": "eta",
         "rawType": "float64",
         "type": "float"
        },
        {
         "name": "L",
         "rawType": "float64",
         "type": "float"
        },
        {
         "name": "t",
         "rawType": "float64",
         "type": "float"
        },
        {
         "name": "biscuit",
         "rawType": "object",
         "type": "string"
        },
        {
         "name": "encoded biscuit",
         "rawType": "object",
         "type": "unknown"
        }
       ],
       "conversionMethod": "pd.DataFrame",
       "ref": "27446682-b802-42d7-9081-97b99790aec0",
       "rows": [
        [
         "0",
         "0.073896719371497",
         "1.3330055466388109",
         "0.0009987327666543",
         "0.0111960696011351",
         "19.362213715937266",
         "Digestive",
         "0"
        ],
        [
         "1",
         "0.0809461966098991",
         "1.47675793946145",
         "0.0010117571591316",
         "0.0058943259660231",
         "11.85258933147959",
         "Digestive",
         "0"
        ],
        [
         "2",
         "0.0874078993348664",
         "1.4771414922137245",
         "0.0009835886160519",
         "0.0092486331281393",
         "24.793669186847307",
         "Digestive",
         "0"
        ],
        [
         "3",
         "0.0707929707747368",
         "1.502001460603669",
         "0.0010015968629928",
         "0.0037737484142437",
         "16.292779732948908",
         "Hobnob",
         "1"
        ],
        [
         "4",
         "0.058917455291466",
         "1.548274080494855",
         "0.0010043325545818",
         "0.0022907146279044",
         "13.66227134082432",
         "Hobnob",
         "1"
        ]
       ],
       "shape": {
        "columns": 7,
        "rows": 5
       }
      },
      "text/html": [
       "<div>\n",
       "<style scoped>\n",
       "    .dataframe tbody tr th:only-of-type {\n",
       "        vertical-align: middle;\n",
       "    }\n",
       "\n",
       "    .dataframe tbody tr th {\n",
       "        vertical-align: top;\n",
       "    }\n",
       "\n",
       "    .dataframe thead th {\n",
       "        text-align: right;\n",
       "    }\n",
       "</style>\n",
       "<table border=\"1\" class=\"dataframe\">\n",
       "  <thead>\n",
       "    <tr style=\"text-align: right;\">\n",
       "      <th></th>\n",
       "      <th>gamma</th>\n",
       "      <th>phi</th>\n",
       "      <th>eta</th>\n",
       "      <th>L</th>\n",
       "      <th>t</th>\n",
       "      <th>biscuit</th>\n",
       "      <th>encoded biscuit</th>\n",
       "    </tr>\n",
       "  </thead>\n",
       "  <tbody>\n",
       "    <tr>\n",
       "      <th>0</th>\n",
       "      <td>0.073897</td>\n",
       "      <td>1.333006</td>\n",
       "      <td>0.000999</td>\n",
       "      <td>0.011196</td>\n",
       "      <td>19.362214</td>\n",
       "      <td>Digestive</td>\n",
       "      <td>0</td>\n",
       "    </tr>\n",
       "    <tr>\n",
       "      <th>1</th>\n",
       "      <td>0.080946</td>\n",
       "      <td>1.476758</td>\n",
       "      <td>0.001012</td>\n",
       "      <td>0.005894</td>\n",
       "      <td>11.852589</td>\n",
       "      <td>Digestive</td>\n",
       "      <td>0</td>\n",
       "    </tr>\n",
       "    <tr>\n",
       "      <th>2</th>\n",
       "      <td>0.087408</td>\n",
       "      <td>1.477141</td>\n",
       "      <td>0.000984</td>\n",
       "      <td>0.009249</td>\n",
       "      <td>24.793669</td>\n",
       "      <td>Digestive</td>\n",
       "      <td>0</td>\n",
       "    </tr>\n",
       "    <tr>\n",
       "      <th>3</th>\n",
       "      <td>0.070793</td>\n",
       "      <td>1.502001</td>\n",
       "      <td>0.001002</td>\n",
       "      <td>0.003774</td>\n",
       "      <td>16.292780</td>\n",
       "      <td>Hobnob</td>\n",
       "      <td>1</td>\n",
       "    </tr>\n",
       "    <tr>\n",
       "      <th>4</th>\n",
       "      <td>0.058917</td>\n",
       "      <td>1.548274</td>\n",
       "      <td>0.001004</td>\n",
       "      <td>0.002291</td>\n",
       "      <td>13.662271</td>\n",
       "      <td>Hobnob</td>\n",
       "      <td>1</td>\n",
       "    </tr>\n",
       "  </tbody>\n",
       "</table>\n",
       "</div>"
      ],
      "text/plain": [
       "      gamma       phi       eta         L          t    biscuit  \\\n",
       "0  0.073897  1.333006  0.000999  0.011196  19.362214  Digestive   \n",
       "1  0.080946  1.476758  0.001012  0.005894  11.852589  Digestive   \n",
       "2  0.087408  1.477141  0.000984  0.009249  24.793669  Digestive   \n",
       "3  0.070793  1.502001  0.001002  0.003774  16.292780     Hobnob   \n",
       "4  0.058917  1.548274  0.001004  0.002291  13.662271     Hobnob   \n",
       "\n",
       "  encoded biscuit  \n",
       "0               0  \n",
       "1               0  \n",
       "2               0  \n",
       "3               1  \n",
       "4               1  "
      ]
     },
     "execution_count": 5,
     "metadata": {},
     "output_type": "execute_result"
    }
   ],
   "source": [
    "# encode names to integers\n",
    "\n",
    "encode_biscuit_type(big_data, biscuits)\n",
    "big_data.head()"
   ]
  },
  {
   "cell_type": "markdown",
   "metadata": {},
   "source": [
    "# Classification of biscuit type \n",
    "\n",
    "In this section, a random forest classifier is trained and tested on the dunking-data.csv. It aims to be able to classify biscuit type from the provided data (phi,eta,L,t)\n",
    "\n"
   ]
  },
  {
   "cell_type": "code",
   "execution_count": 6,
   "metadata": {},
   "outputs": [],
   "source": [
    "from sklearn.preprocessing import StandardScaler\n",
    "from sklearn.model_selection import train_test_split\n",
    "\n",
    "train, test = train_test_split(big_data, test_size=0.4)\n",
    "\n",
    "scaler = StandardScaler()\n",
    "scaled_training_features = scaler.fit_transform(train.drop(['biscuit', 'encoded biscuit'], axis=1))\n",
    "scaled_test_features = scaler.fit_transform(test.drop(['biscuit', 'encoded biscuit'], axis=1))"
   ]
  },
  {
   "cell_type": "code",
   "execution_count": 7,
   "metadata": {},
   "outputs": [],
   "source": [
    "true_test_vals = np.array(test[\"encoded biscuit\"].values, dtype=int)"
   ]
  },
  {
   "cell_type": "code",
   "execution_count": 8,
   "metadata": {},
   "outputs": [
    {
     "data": {
      "application/vnd.microsoft.datawrangler.viewer.v0+json": {
       "columns": [
        {
         "name": "index",
         "rawType": "int64",
         "type": "integer"
        },
        {
         "name": "gamma",
         "rawType": "float64",
         "type": "float"
        },
        {
         "name": "phi",
         "rawType": "float64",
         "type": "float"
        },
        {
         "name": "eta",
         "rawType": "float64",
         "type": "float"
        },
        {
         "name": "L",
         "rawType": "float64",
         "type": "float"
        },
        {
         "name": "t",
         "rawType": "float64",
         "type": "float"
        },
        {
         "name": "biscuit",
         "rawType": "object",
         "type": "string"
        },
        {
         "name": "encoded biscuit",
         "rawType": "object",
         "type": "unknown"
        }
       ],
       "conversionMethod": "pd.DataFrame",
       "ref": "7206d464-f95c-490e-a356-3957a1319d4f",
       "rows": [
        [
         "1126",
         "0.0641732549489329",
         "1.3408775274728",
         "0.0009934419139091",
         "0.0065567300441243",
         "19.312768547835585",
         "Rich Tea",
         "2"
        ],
        [
         "141",
         "0.0686146139225152",
         "1.2523595549510356",
         "0.0010185271908846",
         "0.0100481319091587",
         "26.01097880384503",
         "Rich Tea",
         "2"
        ],
        [
         "1990",
         "0.0873290052593187",
         "1.378663699912352",
         "0.0009896613875801",
         "0.0052043930777307",
         "10.205677161308468",
         "Rich Tea",
         "2"
        ],
        [
         "664",
         "0.0666213774565313",
         "1.5386055885764764",
         "0.0009902206780494",
         "0.0023939245573885",
         "20.85718729520922",
         "Rich Tea",
         "2"
        ],
        [
         "934",
         "0.0504873918095497",
         "1.4456053883810704",
         "0.0009873918042199",
         "0.0057622306228538",
         "13.0687661608121",
         "Digestive",
         "0"
        ]
       ],
       "shape": {
        "columns": 7,
        "rows": 5
       }
      },
      "text/html": [
       "<div>\n",
       "<style scoped>\n",
       "    .dataframe tbody tr th:only-of-type {\n",
       "        vertical-align: middle;\n",
       "    }\n",
       "\n",
       "    .dataframe tbody tr th {\n",
       "        vertical-align: top;\n",
       "    }\n",
       "\n",
       "    .dataframe thead th {\n",
       "        text-align: right;\n",
       "    }\n",
       "</style>\n",
       "<table border=\"1\" class=\"dataframe\">\n",
       "  <thead>\n",
       "    <tr style=\"text-align: right;\">\n",
       "      <th></th>\n",
       "      <th>gamma</th>\n",
       "      <th>phi</th>\n",
       "      <th>eta</th>\n",
       "      <th>L</th>\n",
       "      <th>t</th>\n",
       "      <th>biscuit</th>\n",
       "      <th>encoded biscuit</th>\n",
       "    </tr>\n",
       "  </thead>\n",
       "  <tbody>\n",
       "    <tr>\n",
       "      <th>1126</th>\n",
       "      <td>0.064173</td>\n",
       "      <td>1.340878</td>\n",
       "      <td>0.000993</td>\n",
       "      <td>0.006557</td>\n",
       "      <td>19.312769</td>\n",
       "      <td>Rich Tea</td>\n",
       "      <td>2</td>\n",
       "    </tr>\n",
       "    <tr>\n",
       "      <th>141</th>\n",
       "      <td>0.068615</td>\n",
       "      <td>1.252360</td>\n",
       "      <td>0.001019</td>\n",
       "      <td>0.010048</td>\n",
       "      <td>26.010979</td>\n",
       "      <td>Rich Tea</td>\n",
       "      <td>2</td>\n",
       "    </tr>\n",
       "    <tr>\n",
       "      <th>1990</th>\n",
       "      <td>0.087329</td>\n",
       "      <td>1.378664</td>\n",
       "      <td>0.000990</td>\n",
       "      <td>0.005204</td>\n",
       "      <td>10.205677</td>\n",
       "      <td>Rich Tea</td>\n",
       "      <td>2</td>\n",
       "    </tr>\n",
       "    <tr>\n",
       "      <th>664</th>\n",
       "      <td>0.066621</td>\n",
       "      <td>1.538606</td>\n",
       "      <td>0.000990</td>\n",
       "      <td>0.002394</td>\n",
       "      <td>20.857187</td>\n",
       "      <td>Rich Tea</td>\n",
       "      <td>2</td>\n",
       "    </tr>\n",
       "    <tr>\n",
       "      <th>934</th>\n",
       "      <td>0.050487</td>\n",
       "      <td>1.445605</td>\n",
       "      <td>0.000987</td>\n",
       "      <td>0.005762</td>\n",
       "      <td>13.068766</td>\n",
       "      <td>Digestive</td>\n",
       "      <td>0</td>\n",
       "    </tr>\n",
       "  </tbody>\n",
       "</table>\n",
       "</div>"
      ],
      "text/plain": [
       "         gamma       phi       eta         L          t    biscuit  \\\n",
       "1126  0.064173  1.340878  0.000993  0.006557  19.312769   Rich Tea   \n",
       "141   0.068615  1.252360  0.001019  0.010048  26.010979   Rich Tea   \n",
       "1990  0.087329  1.378664  0.000990  0.005204  10.205677   Rich Tea   \n",
       "664   0.066621  1.538606  0.000990  0.002394  20.857187   Rich Tea   \n",
       "934   0.050487  1.445605  0.000987  0.005762  13.068766  Digestive   \n",
       "\n",
       "     encoded biscuit  \n",
       "1126               2  \n",
       "141                2  \n",
       "1990               2  \n",
       "664                2  \n",
       "934                0  "
      ]
     },
     "execution_count": 8,
     "metadata": {},
     "output_type": "execute_result"
    }
   ],
   "source": [
    "# irrelevant?\n",
    "train.head()"
   ]
  },
  {
   "cell_type": "code",
   "execution_count": 9,
   "metadata": {},
   "outputs": [
    {
     "data": {
      "text/plain": [
       "array([2, 2, 2, ..., 1, 0, 0])"
      ]
     },
     "execution_count": 9,
     "metadata": {},
     "output_type": "execute_result"
    }
   ],
   "source": [
    "training_results = np.array(train['encoded biscuit'].values, dtype=int)\n",
    "training_results\n",
    "# len(results.values)"
   ]
  },
  {
   "cell_type": "code",
   "execution_count": 10,
   "metadata": {},
   "outputs": [],
   "source": [
    "# use GridSearchCV\n",
    "rfc_param_grid = [\n",
    "    {'n_estimators': [50, 1000]},\n",
    "  {'max_features': [ None]}\n",
    " ]\n",
    "\n",
    "svc_param_grid = [\n",
    "  {'C': [5000, 1000, 100, 10, 5],  \n",
    "  'gamma': [0.001, 0.01, 0.1, 8, 'scale', 'auto'], \n",
    "  'kernel': ['rbf']} \n",
    " ]"
   ]
  },
  {
   "cell_type": "code",
   "execution_count": 11,
   "metadata": {},
   "outputs": [
    {
     "name": "stdout",
     "output_type": "stream",
     "text": [
      "Random Forest\n",
      "Random Forest BEST ESTIMATOR: RandomForestClassifier(max_features=None)\n",
      "Updating best model\n",
      "Estimator Top F1-Score: 0.797\n",
      "True F1-Score: 0.816\n",
      "SVM\n",
      "SVM BEST ESTIMATOR: SVC(C=5000, gamma=0.01)\n",
      "Updating best model\n",
      "Estimator Top F1-Score: 0.913\n",
      "True F1-Score: 0.924\n"
     ]
    }
   ],
   "source": [
    "from sklearn.svm import SVC\n",
    "from sklearn.ensemble import RandomForestClassifier\n",
    "from sklearn.model_selection import GridSearchCV, RandomizedSearchCV\n",
    "from sklearn.metrics import precision_score, recall_score, f1_score\n",
    "\n",
    "methods = {'Random Forest': [RandomForestClassifier, rfc_param_grid], 'SVM': [SVC, svc_param_grid] }\n",
    "# grids = [rfc_param_grid, svc_param_grid]\n",
    "\n",
    "current_f1 = 0\n",
    "for i, method in methods.items():\n",
    "    print(i)\n",
    "    gscv = GridSearchCV(method[0](), method[1], scoring=\"f1_weighted\")\n",
    "    gscv.fit(scaled_training_features, training_results)\n",
    "    print(f\"{i} BEST ESTIMATOR: {gscv.best_estimator_}\")\n",
    "    \n",
    "    if gscv.best_score_ > current_f1:\n",
    "        print(\"Updating best model\")\n",
    "        print(f'Estimator Top F1-Score: {gscv.best_score_:.3f}')\n",
    "        best_estimator = gscv.best_estimator_\n",
    "        predicted_test_vals = best_estimator.predict(scaled_test_features)\n",
    "        \n",
    "        f1score = f1_score(true_test_vals, predicted_test_vals, average='weighted')\n",
    "        \n",
    "        print(f'True F1-Score: {f1score:.3f}')"
   ]
  },
  {
   "cell_type": "code",
   "execution_count": 12,
   "metadata": {},
   "outputs": [],
   "source": [
    "# from sklearn.svm import SVC\n",
    "\n",
    "# SVC = SVC(C=5000, gamma=0.01, kernel='rbf')\n",
    "# SVC.fit(scaled_training_features, training_results)\n",
    "# predicted_test_vals= SVC.predict(scaled_test_features)\n",
    "# len(predicted_test_vals)"
   ]
  },
  {
   "cell_type": "code",
   "execution_count": 13,
   "metadata": {},
   "outputs": [
    {
     "data": {
      "text/plain": [
       "1407    1\n",
       "1289    2\n",
       "2783    0\n",
       "1665    2\n",
       "124     1\n",
       "       ..\n",
       "2502    0\n",
       "2582    2\n",
       "2225    2\n",
       "171     1\n",
       "2546    2\n",
       "Name: encoded biscuit, Length: 1200, dtype: object"
      ]
     },
     "execution_count": 13,
     "metadata": {},
     "output_type": "execute_result"
    }
   ],
   "source": [
    "test['encoded biscuit']"
   ]
  },
  {
   "cell_type": "code",
   "execution_count": 14,
   "metadata": {},
   "outputs": [],
   "source": [
    "# encoding test values to ints\n",
    "\n",
    "# true_test_vals = np.array(test[\"encoded biscuit\"].values, dtype=int)\n",
    "# len(true_test_vals)"
   ]
  },
  {
   "cell_type": "code",
   "execution_count": 15,
   "metadata": {},
   "outputs": [
    {
     "name": "stdout",
     "output_type": "stream",
     "text": [
      "Number of true Digestive values: 393\n",
      "Number of predicted Digestive values: 389\n",
      "Number of true Hobnob values: 412\n",
      "Number of predicted Hobnob values: 386\n",
      "Number of true Rich Tea values: 395\n",
      "Number of predicted Rich Tea values: 425\n"
     ]
    }
   ],
   "source": [
    "# compare raw number of predicted biscuit types and true biscuit types\n",
    "\n",
    "max_num_predictions = 0\n",
    "for i, biscuit in enumerate(biscuits):\n",
    "    num_true_test_vals = len(true_test_vals[true_test_vals == i])\n",
    "    num_pred_test_vals = len(predicted_test_vals[predicted_test_vals == i])\n",
    "    print( f\"Number of true {biscuit} values: {num_true_test_vals}\")\n",
    "    print( f\"Number of predicted {biscuit} values: {num_pred_test_vals}\")\n",
    "    \n",
    "    max_num_predictions = max(max_num_predictions, num_pred_test_vals)"
   ]
  },
  {
   "cell_type": "code",
   "execution_count": 16,
   "metadata": {},
   "outputs": [
    {
     "data": {
      "image/png": "[encoded data removed]",
      "text/plain": [
       "<Figure size 640x480 with 1 Axes>"
      ]
     },
     "metadata": {},
     "output_type": "display_data"
    }
   ],
   "source": [
    "# plot bar chart\n",
    "\n",
    "fig,ax = plt.subplots()\n",
    "\n",
    "for i, biscuit in enumerate(biscuits):\n",
    "    # Get values where this biscuit was predicted\n",
    "    biscuit_prediction = np.where(predicted_test_vals==i, True, False)\n",
    "\n",
    "    # Filter test values to just these biscuit predictions\n",
    "    biscuit_test = true_test_vals[biscuit_prediction]\n",
    "    \n",
    "    # Number of correct predictions\n",
    "    correct_predictions = len( biscuit_test[biscuit_test==i] )\n",
    "    \n",
    "    ax.bar(biscuit, correct_predictions, color=f\"C{i}\", label=biscuit)\n",
    "    \n",
    "    base = correct_predictions\n",
    "    for j in range(len(biscuits)):\n",
    "        if j != i:\n",
    "            # NUmber of incorrect predictions, recording which biscuit was predicted instead\n",
    "            incorrect_predictions = len( biscuit_test[biscuit_test==j] )\n",
    "            ax.bar(biscuit, incorrect_predictions, bottom=base, color=f\"C{j}\")\n",
    "            base += incorrect_predictions\n",
    "            \n",
    "ax.set_ylabel(\"Number of predictions\")\n",
    "ax.set_ylim(0, max_num_predictions+5)\n",
    "ax.legend(loc=\"lower right\");"
   ]
  },
  {
   "cell_type": "code",
   "execution_count": 17,
   "metadata": {},
   "outputs": [
    {
     "name": "stdout",
     "output_type": "stream",
     "text": [
      "Precision: 0.925\n",
      "Recall: 0.924\n",
      "F1-Score: 0.924\n"
     ]
    }
   ],
   "source": [
    "# metrics\n",
    "\n",
    "from sklearn.metrics import precision_score, recall_score, f1_score\n",
    "\n",
    "precision = precision_score(true_test_vals, predicted_test_vals, average='weighted')\n",
    "print(f'Precision: {precision:.3f}')\n",
    "\n",
    "recall = recall_score(true_test_vals, predicted_test_vals, average='weighted')\n",
    "print(f'Recall: {recall:.3f}')\n",
    "\n",
    "f1score = f1_score(true_test_vals, predicted_test_vals, average='weighted')\n",
    "print(f'F1-Score: {f1score:.3f}')"
   ]
  },
  {
   "cell_type": "code",
   "execution_count": 18,
   "metadata": {},
   "outputs": [],
   "source": [
    "# importances = RFC.feature_importances_\n",
    "# feature_names = big_data.drop(['biscuit', 'encoded biscuit'],axis=1).columns\n",
    "# feature_df = pd.DataFrame({'Feature': feature_names, 'Gini Importance': importances}).sort_values('Gini Importance', ascending=False) \n",
    "# (feature_df)"
   ]
  },
  {
   "cell_type": "markdown",
   "metadata": {},
   "source": [
    "#### comparison to true distribution"
   ]
  },
  {
   "cell_type": "markdown",
   "metadata": {},
   "source": [
    "#### microscopy measurements"
   ]
  },
  {
   "cell_type": "markdown",
   "metadata": {},
   "source": [
    "The final dataset was generated by taking a subset, one-sixth, of the dunking-data.csv samples and finding the pore radius by microscopy. This data file has similar information to the dunking-data.csv but without the biscuit type and with the pore radius. The columns, in order, are:\n",
    "\n",
    "The final dataset is a subset of the training data.csv, where the biscuit type is no longer identified, but this has been replaced with the pore size as measured with microscopy. Therefore, this data also has six columns."
   ]
  },
  {
   "cell_type": "markdown",
   "metadata": {},
   "source": [
    "1. gamma: the tea surface tension, in N m−1\n",
    ".\n",
    "2. phi: the contact angle between the biscuit and the tea surface, in rad.\n",
    "3. eta: the tea dynamic viscosity, in Pa s\n",
    "4. L: the distance up the biscuit that the tea was visible, in m.\n",
    "5. t: the time after initial dunking that the measurement was made, in s.\n",
    "6. r: the radius of the pore, in m\n"
   ]
  },
  {
   "cell_type": "code",
   "execution_count": 19,
   "metadata": {},
   "outputs": [
    {
     "data": {
      "application/vnd.microsoft.datawrangler.viewer.v0+json": {
       "columns": [
        {
         "name": "index",
         "rawType": "int64",
         "type": "integer"
        },
        {
         "name": "gamma",
         "rawType": "float64",
         "type": "float"
        },
        {
         "name": "phi",
         "rawType": "float64",
         "type": "float"
        },
        {
         "name": "eta",
         "rawType": "float64",
         "type": "float"
        },
        {
         "name": "L",
         "rawType": "float64",
         "type": "float"
        },
        {
         "name": "t",
         "rawType": "float64",
         "type": "float"
        },
        {
         "name": "r",
         "rawType": "float64",
         "type": "float"
        }
       ],
       "conversionMethod": "pd.DataFrame",
       "ref": "1d093cec-41fb-423d-a56b-ea0816a26739",
       "rows": [
        [
         "0",
         "0.0845956324584587",
         "1.557367032478192",
         "0.0009814830091385",
         "0.0032205495542128",
         "24.2311065424372",
         "7.453712135492654e-07"
        ],
        [
         "1",
         "0.0642912318275465",
         "1.5388422115607554",
         "0.0009975033413744",
         "0.0023950588951781",
         "22.169764818033904",
         "2.600679920403219e-07"
        ],
        [
         "2",
         "0.0862235631288667",
         "1.5461380388178143",
         "0.0010076172459006",
         "0.0030364515927952",
         "23.25770905910201",
         "3.73461769779581e-07"
        ],
        [
         "3",
         "0.0828590710652354",
         "1.5668780336011534",
         "0.0009974565756668",
         "0.0012606889246228",
         "12.717431992562547",
         "7.567172656627005e-07"
        ],
        [
         "4",
         "0.0908324449331105",
         "1.570229053820606",
         "0.0010017078574895",
         "0.0005760748801939",
         "15.189146468953714",
         "8.23906656220311e-07"
        ]
       ],
       "shape": {
        "columns": 6,
        "rows": 5
       }
      },
      "text/html": [
       "<div>\n",
       "<style scoped>\n",
       "    .dataframe tbody tr th:only-of-type {\n",
       "        vertical-align: middle;\n",
       "    }\n",
       "\n",
       "    .dataframe tbody tr th {\n",
       "        vertical-align: top;\n",
       "    }\n",
       "\n",
       "    .dataframe thead th {\n",
       "        text-align: right;\n",
       "    }\n",
       "</style>\n",
       "<table border=\"1\" class=\"dataframe\">\n",
       "  <thead>\n",
       "    <tr style=\"text-align: right;\">\n",
       "      <th></th>\n",
       "      <th>gamma</th>\n",
       "      <th>phi</th>\n",
       "      <th>eta</th>\n",
       "      <th>L</th>\n",
       "      <th>t</th>\n",
       "      <th>r</th>\n",
       "    </tr>\n",
       "  </thead>\n",
       "  <tbody>\n",
       "    <tr>\n",
       "      <th>0</th>\n",
       "      <td>0.084596</td>\n",
       "      <td>1.557367</td>\n",
       "      <td>0.000981</td>\n",
       "      <td>0.003221</td>\n",
       "      <td>24.231107</td>\n",
       "      <td>7.453712e-07</td>\n",
       "    </tr>\n",
       "    <tr>\n",
       "      <th>1</th>\n",
       "      <td>0.064291</td>\n",
       "      <td>1.538842</td>\n",
       "      <td>0.000998</td>\n",
       "      <td>0.002395</td>\n",
       "      <td>22.169765</td>\n",
       "      <td>2.600680e-07</td>\n",
       "    </tr>\n",
       "    <tr>\n",
       "      <th>2</th>\n",
       "      <td>0.086224</td>\n",
       "      <td>1.546138</td>\n",
       "      <td>0.001008</td>\n",
       "      <td>0.003036</td>\n",
       "      <td>23.257709</td>\n",
       "      <td>3.734618e-07</td>\n",
       "    </tr>\n",
       "    <tr>\n",
       "      <th>3</th>\n",
       "      <td>0.082859</td>\n",
       "      <td>1.566878</td>\n",
       "      <td>0.000997</td>\n",
       "      <td>0.001261</td>\n",
       "      <td>12.717432</td>\n",
       "      <td>7.567173e-07</td>\n",
       "    </tr>\n",
       "    <tr>\n",
       "      <th>4</th>\n",
       "      <td>0.090832</td>\n",
       "      <td>1.570229</td>\n",
       "      <td>0.001002</td>\n",
       "      <td>0.000576</td>\n",
       "      <td>15.189146</td>\n",
       "      <td>8.239067e-07</td>\n",
       "    </tr>\n",
       "  </tbody>\n",
       "</table>\n",
       "</div>"
      ],
      "text/plain": [
       "      gamma       phi       eta         L          t             r\n",
       "0  0.084596  1.557367  0.000981  0.003221  24.231107  7.453712e-07\n",
       "1  0.064291  1.538842  0.000998  0.002395  22.169765  2.600680e-07\n",
       "2  0.086224  1.546138  0.001008  0.003036  23.257709  3.734618e-07\n",
       "3  0.082859  1.566878  0.000997  0.001261  12.717432  7.567173e-07\n",
       "4  0.090832  1.570229  0.001002  0.000576  15.189146  8.239067e-07"
      ]
     },
     "execution_count": 19,
     "metadata": {},
     "output_type": "execute_result"
    }
   ],
   "source": [
    "microscopy_data = pd.read_csv(\"microscopy-data.csv\")\n",
    "microscopy_data.head()"
   ]
  },
  {
   "cell_type": "code",
   "execution_count": 20,
   "metadata": {},
   "outputs": [],
   "source": [
    "def washburn(gamma,r,t,phi,eta):\n",
    "    numerator = gamma*r*t*np.cos(phi)\n",
    "    denominator = 2*eta\n",
    "    \n",
    "    L = np.sqrt(numerator / denominator)\n",
    "    \n",
    "    return L"
   ]
  },
  {
   "cell_type": "code",
   "execution_count": 21,
   "metadata": {},
   "outputs": [],
   "source": [
    "# def predict_washburn_r(gamma,L,t,phi,eta):\n",
    "#     numerator = (L**2)*2*eta\n",
    "#     denominator = gamma*t*np.cos(phi)\n",
    "    \n",
    "#     r = numerator / denominator\n",
    "    \n",
    "#     return r"
   ]
  },
  {
   "cell_type": "code",
   "execution_count": 22,
   "metadata": {},
   "outputs": [],
   "source": [
    "# irrelevant - adding L_wash and r_pred\n",
    "\n",
    "# microscopy_data[\"L_wash\"] = washburn(microscopy_data[\"gamma\"], microscopy_data[\"r\"], microscopy_data[\"t\"], microscopy_data[\"phi\"], microscopy_data[\"eta\"])\n",
    "# microscopy_data[\"r_pred\"] = predict_washburn_r(microscopy_data[\"gamma\"], microscopy_data[\"L\"], microscopy_data[\"t\"], microscopy_data[\"phi\"], microscopy_data[\"eta\"])\n",
    "# # washburn(gamma,r,t,phi,eta)\n",
    "# microscopy_data.head()"
   ]
  },
  {
   "cell_type": "code",
   "execution_count": 23,
   "metadata": {},
   "outputs": [],
   "source": [
    "# irrelevant plot\n",
    "\n",
    "# fig,ax=plt.subplots()\n",
    "\n",
    "# ax.scatter(microscopy_data[\"L_wash\"], microscopy_data[\"r_pred\"], s=5)\n"
   ]
  },
  {
   "cell_type": "code",
   "execution_count": 24,
   "metadata": {},
   "outputs": [
    {
     "data": {
      "application/vnd.microsoft.datawrangler.viewer.v0+json": {
       "columns": [
        {
         "name": "index",
         "rawType": "int64",
         "type": "integer"
        },
        {
         "name": "gamma",
         "rawType": "float64",
         "type": "float"
        },
        {
         "name": "phi",
         "rawType": "float64",
         "type": "float"
        },
        {
         "name": "eta",
         "rawType": "float64",
         "type": "float"
        },
        {
         "name": "L",
         "rawType": "float64",
         "type": "float"
        },
        {
         "name": "t",
         "rawType": "float64",
         "type": "float"
        }
       ],
       "conversionMethod": "pd.DataFrame",
       "ref": "b2ab4e5d-f051-4649-a15c-246ec052e117",
       "rows": [
        [
         "0",
         "0.0845956324584587",
         "1.557367032478192",
         "0.0009814830091385",
         "0.0032205495542128",
         "24.2311065424372"
        ],
        [
         "1",
         "0.0642912318275465",
         "1.5388422115607554",
         "0.0009975033413744",
         "0.0023950588951781",
         "22.169764818033904"
        ],
        [
         "2",
         "0.0862235631288667",
         "1.5461380388178143",
         "0.0010076172459006",
         "0.0030364515927952",
         "23.25770905910201"
        ],
        [
         "3",
         "0.0828590710652354",
         "1.5668780336011534",
         "0.0009974565756668",
         "0.0012606889246228",
         "12.717431992562547"
        ],
        [
         "4",
         "0.0908324449331105",
         "1.570229053820606",
         "0.0010017078574895",
         "0.0005760748801939",
         "15.189146468953714"
        ]
       ],
       "shape": {
        "columns": 5,
        "rows": 5
       }
      },
      "text/html": [
       "<div>\n",
       "<style scoped>\n",
       "    .dataframe tbody tr th:only-of-type {\n",
       "        vertical-align: middle;\n",
       "    }\n",
       "\n",
       "    .dataframe tbody tr th {\n",
       "        vertical-align: top;\n",
       "    }\n",
       "\n",
       "    .dataframe thead th {\n",
       "        text-align: right;\n",
       "    }\n",
       "</style>\n",
       "<table border=\"1\" class=\"dataframe\">\n",
       "  <thead>\n",
       "    <tr style=\"text-align: right;\">\n",
       "      <th></th>\n",
       "      <th>gamma</th>\n",
       "      <th>phi</th>\n",
       "      <th>eta</th>\n",
       "      <th>L</th>\n",
       "      <th>t</th>\n",
       "    </tr>\n",
       "  </thead>\n",
       "  <tbody>\n",
       "    <tr>\n",
       "      <th>0</th>\n",
       "      <td>0.084596</td>\n",
       "      <td>1.557367</td>\n",
       "      <td>0.000981</td>\n",
       "      <td>0.003221</td>\n",
       "      <td>24.231107</td>\n",
       "    </tr>\n",
       "    <tr>\n",
       "      <th>1</th>\n",
       "      <td>0.064291</td>\n",
       "      <td>1.538842</td>\n",
       "      <td>0.000998</td>\n",
       "      <td>0.002395</td>\n",
       "      <td>22.169765</td>\n",
       "    </tr>\n",
       "    <tr>\n",
       "      <th>2</th>\n",
       "      <td>0.086224</td>\n",
       "      <td>1.546138</td>\n",
       "      <td>0.001008</td>\n",
       "      <td>0.003036</td>\n",
       "      <td>23.257709</td>\n",
       "    </tr>\n",
       "    <tr>\n",
       "      <th>3</th>\n",
       "      <td>0.082859</td>\n",
       "      <td>1.566878</td>\n",
       "      <td>0.000997</td>\n",
       "      <td>0.001261</td>\n",
       "      <td>12.717432</td>\n",
       "    </tr>\n",
       "    <tr>\n",
       "      <th>4</th>\n",
       "      <td>0.090832</td>\n",
       "      <td>1.570229</td>\n",
       "      <td>0.001002</td>\n",
       "      <td>0.000576</td>\n",
       "      <td>15.189146</td>\n",
       "    </tr>\n",
       "  </tbody>\n",
       "</table>\n",
       "</div>"
      ],
      "text/plain": [
       "      gamma       phi       eta         L          t\n",
       "0  0.084596  1.557367  0.000981  0.003221  24.231107\n",
       "1  0.064291  1.538842  0.000998  0.002395  22.169765\n",
       "2  0.086224  1.546138  0.001008  0.003036  23.257709\n",
       "3  0.082859  1.566878  0.000997  0.001261  12.717432\n",
       "4  0.090832  1.570229  0.001002  0.000576  15.189146"
      ]
     },
     "execution_count": 24,
     "metadata": {},
     "output_type": "execute_result"
    }
   ],
   "source": [
    "test_micro = microscopy_data.drop(['r'], axis=1)\n",
    "test_micro.head()"
   ]
  },
  {
   "cell_type": "code",
   "execution_count": 25,
   "metadata": {},
   "outputs": [
    {
     "data": {
      "text/plain": [
       "array([[ 1.14599561,  1.1356957 , -1.85755021, -0.89683791,  0.77167231],\n",
       "       [-0.89539042,  0.94168794, -0.27453187, -1.15666199,  0.41612889],\n",
       "       [ 1.30966628,  1.01809608,  0.72485416, -0.95478295,  0.6037792 ],\n",
       "       ...,\n",
       "       [ 0.09739798,  1.10899036, -0.32077567, -0.953279  , -0.30290994],\n",
       "       [ 0.82621258, -0.09441766,  1.04595373,  0.95980465, -0.10701664],\n",
       "       [ 1.37150823,  0.79061851,  0.6782453 , -0.96069037, -1.44258582]])"
      ]
     },
     "execution_count": 25,
     "metadata": {},
     "output_type": "execute_result"
    }
   ],
   "source": [
    "scaled_test_micro = scaler.fit_transform(test_micro)\n",
    "scaled_test_micro"
   ]
  },
  {
   "cell_type": "code",
   "execution_count": 26,
   "metadata": {},
   "outputs": [
    {
     "data": {
      "text/plain": [
       "500"
      ]
     },
     "execution_count": 26,
     "metadata": {},
     "output_type": "execute_result"
    }
   ],
   "source": [
    "micro_predictions = best_estimator.predict(scaled_test_micro)\n",
    "len(micro_predictions)\n"
   ]
  },
  {
   "cell_type": "code",
   "execution_count": 27,
   "metadata": {},
   "outputs": [
    {
     "data": {
      "text/plain": [
       "array([1, 2, 2, 2, 2, 1, 1, 2, 2, 0, 1, 1, 0, 2, 2, 1, 2, 2, 2, 0, 2, 2,\n",
       "       0, 1, 2, 1, 1, 2, 1, 0, 2, 2, 1, 1, 0, 1, 2, 2, 0, 1, 1, 1, 2, 1,\n",
       "       2, 1, 2, 1, 0, 2, 2, 0, 2, 0, 1, 2, 2, 1, 0, 2, 2, 2, 2, 0, 0, 2,\n",
       "       0, 2, 1, 2, 0, 2, 2, 0, 1, 0, 1, 2, 2, 1, 0, 2, 0, 2, 2, 0, 1, 2,\n",
       "       1, 2, 2, 2, 1, 0, 0, 2, 1, 2, 0, 0, 1, 2, 0, 0, 0, 0, 2, 2, 1, 2,\n",
       "       1, 0, 1, 2, 2, 1, 1, 2, 2, 1, 2, 1, 2, 2, 0, 2, 2, 2, 1, 0, 2, 2,\n",
       "       1, 2, 0, 0, 2, 2, 0, 0, 2, 1, 0, 2, 1, 2, 0, 0, 1, 0, 0, 2, 1, 2,\n",
       "       1, 0, 1, 0, 0, 2, 1, 2, 1, 0, 0, 0, 0, 0, 2, 2, 2, 0, 2, 2, 1, 2,\n",
       "       0, 0, 2, 0, 0, 2, 1, 0, 1, 1, 1, 0, 2, 2, 0, 1, 2, 2, 1, 2, 1, 1,\n",
       "       0, 0, 0, 1, 2, 2, 0, 2, 2, 0, 2, 0, 2, 2, 0, 2, 2, 0, 0, 2, 0, 2,\n",
       "       2, 0, 1, 0, 0, 1, 1, 1, 1, 0, 1, 2, 1, 1, 1, 1, 2, 1, 2, 2, 2, 0,\n",
       "       0, 2, 2, 2, 2, 0, 0, 2, 1, 0, 2, 0, 2, 2, 0, 2, 0, 2, 0, 0, 1, 2,\n",
       "       0, 2, 0, 0, 1, 2, 2, 2, 2, 1, 1, 2, 0, 2, 2, 0, 0, 1, 2, 1, 1, 1,\n",
       "       1, 0, 2, 0, 2, 1, 1, 1, 1, 2, 2, 1, 2, 1, 2, 0, 0, 1, 1, 0, 1, 1,\n",
       "       2, 2, 1, 2, 0, 2, 0, 1, 2, 1, 0, 0, 2, 2, 0, 2, 1, 0, 0, 1, 0, 0,\n",
       "       1, 1, 1, 2, 1, 0, 0, 2, 1, 2, 0, 0, 2, 1, 0, 1, 0, 1, 1, 1, 2, 2,\n",
       "       0, 1, 0, 1, 1, 0, 0, 2, 2, 1, 1, 1, 1, 0, 0, 0, 2, 0, 0, 1, 1, 2,\n",
       "       2, 1, 1, 2, 2, 2, 1, 0, 2, 0, 0, 2, 1, 1, 2, 0, 1, 2, 1, 1, 2, 1,\n",
       "       2, 2, 2, 0, 0, 1, 2, 1, 0, 2, 0, 2, 1, 1, 2, 1, 1, 1, 0, 2, 0, 0,\n",
       "       1, 1, 1, 1, 2, 2, 2, 2, 0, 0, 0, 0, 1, 2, 2, 1, 1, 2, 0, 2, 0, 2,\n",
       "       2, 0, 2, 2, 1, 2, 1, 0, 0, 0, 2, 0, 0, 0, 2, 1, 2, 2, 0, 1, 2, 0,\n",
       "       2, 1, 0, 2, 2, 0, 0, 0, 0, 1, 0, 1, 0, 0, 0, 0, 2, 2, 0, 1, 1, 2,\n",
       "       1, 0, 2, 0, 0, 2, 2, 1, 0, 1, 2, 1, 0, 0, 0, 1])"
      ]
     },
     "execution_count": 27,
     "metadata": {},
     "output_type": "execute_result"
    }
   ],
   "source": [
    "micro_predictions"
   ]
  },
  {
   "cell_type": "code",
   "execution_count": 28,
   "metadata": {},
   "outputs": [],
   "source": [
    "# irrelevant plot\n",
    "\n",
    "# fig,ax=plt.subplots()\n",
    "\n",
    "# ax.scatter(microscopy_data[\"L_wash\"], microscopy_data[\"r_pred\"], s=5, c=micro_predictions)\n",
    "# ax.set_xlabel(\"Predicted L\")\n",
    "# ax.set_ylabel(\"Predicted r\")"
   ]
  },
  {
   "cell_type": "code",
   "execution_count": 29,
   "metadata": {},
   "outputs": [
    {
     "data": {
      "application/vnd.microsoft.datawrangler.viewer.v0+json": {
       "columns": [
        {
         "name": "index",
         "rawType": "int64",
         "type": "integer"
        },
        {
         "name": "encoded biscuit",
         "rawType": "object",
         "type": "unknown"
        },
        {
         "name": "r",
         "rawType": "float64",
         "type": "float"
        }
       ],
       "conversionMethod": "pd.DataFrame",
       "ref": "30c37be7-b700-4e7a-9f1c-58144f7ac6c5",
       "rows": [
        [
         "0",
         "0",
         "7.797960613605848e-07"
        ],
        [
         "1",
         "0",
         "8.189772254008458e-07"
        ],
        [
         "2",
         "1",
         "3.63943376341258e-07"
        ],
        [
         "3",
         "2",
         "3.198696672621654e-07"
        ],
        [
         "4",
         "2",
         "2.9734475448185e-07"
        ],
        [
         "5",
         "1",
         "5.518377305382778e-07"
        ],
        [
         "6",
         "2",
         "3.141562690439023e-07"
        ],
        [
         "7",
         "1",
         "4.936484654062183e-07"
        ],
        [
         "8",
         "0",
         "7.930241372930378e-07"
        ],
        [
         "9",
         "2",
         "2.99681623218618e-07"
        ],
        [
         "10",
         "1",
         "4.667185166647237e-07"
        ],
        [
         "11",
         "1",
         "4.521101059526911e-07"
        ],
        [
         "12",
         "0",
         "7.69313686272661e-07"
        ],
        [
         "13",
         "2",
         "3.731184514524907e-07"
        ],
        [
         "14",
         "0",
         "8.343526051606491e-07"
        ],
        [
         "15",
         "0",
         "8.550193423305071e-07"
        ],
        [
         "16",
         "0",
         "8.02542384457958e-07"
        ],
        [
         "17",
         "2",
         "3.5088692447635936e-07"
        ],
        [
         "18",
         "1",
         "4.204342013425531e-07"
        ],
        [
         "19",
         "1",
         "5.97757132143619e-07"
        ],
        [
         "20",
         "0",
         "7.286919285253125e-07"
        ],
        [
         "21",
         "2",
         "3.09334627465361e-07"
        ],
        [
         "22",
         "2",
         "2.3169157082884875e-07"
        ],
        [
         "23",
         "1",
         "4.759836346044865e-07"
        ],
        [
         "24",
         "0",
         "7.698580594303742e-07"
        ],
        [
         "25",
         "0",
         "7.308079329062444e-07"
        ],
        [
         "26",
         "1",
         "4.700559410153252e-07"
        ],
        [
         "27",
         "2",
         "3.60241589299291e-07"
        ],
        [
         "28",
         "2",
         "3.462955527494354e-07"
        ],
        [
         "29",
         "1",
         "6.029231624768917e-07"
        ],
        [
         "30",
         "2",
         "4.297786970529531e-07"
        ],
        [
         "31",
         "1",
         "6.103278944678709e-07"
        ],
        [
         "32",
         "2",
         "3.635748223667312e-07"
        ],
        [
         "33",
         "2",
         "3.742770594980285e-07"
        ],
        [
         "34",
         "1",
         "4.59687862703427e-07"
        ],
        [
         "35",
         "0",
         "7.821553748287343e-07"
        ],
        [
         "36",
         "2",
         "3.22882162034498e-07"
        ],
        [
         "37",
         "2",
         "2.911893457466177e-07"
        ],
        [
         "38",
         "1",
         "4.723671296548504e-07"
        ],
        [
         "39",
         "2",
         "2.811799967265042e-07"
        ],
        [
         "40",
         "1",
         "4.293578195811919e-07"
        ],
        [
         "41",
         "2",
         "2.8533709005432405e-07"
        ],
        [
         "42",
         "2",
         "2.218400462356027e-07"
        ],
        [
         "43",
         "2",
         "2.955675666473473e-07"
        ],
        [
         "44",
         "0",
         "8.06503928744846e-07"
        ],
        [
         "45",
         "2",
         "2.58342296531601e-07"
        ],
        [
         "46",
         "2",
         "3.4451272329841165e-07"
        ],
        [
         "47",
         "0",
         "8.326721381127279e-07"
        ],
        [
         "48",
         "1",
         "5.713150877640167e-07"
        ],
        [
         "49",
         "1",
         "5.894819299286022e-07"
        ]
       ],
       "shape": {
        "columns": 2,
        "rows": 500
       }
      },
      "text/html": [
       "<div>\n",
       "<style scoped>\n",
       "    .dataframe tbody tr th:only-of-type {\n",
       "        vertical-align: middle;\n",
       "    }\n",
       "\n",
       "    .dataframe tbody tr th {\n",
       "        vertical-align: top;\n",
       "    }\n",
       "\n",
       "    .dataframe thead th {\n",
       "        text-align: right;\n",
       "    }\n",
       "</style>\n",
       "<table border=\"1\" class=\"dataframe\">\n",
       "  <thead>\n",
       "    <tr style=\"text-align: right;\">\n",
       "      <th></th>\n",
       "      <th>encoded biscuit</th>\n",
       "      <th>r</th>\n",
       "    </tr>\n",
       "  </thead>\n",
       "  <tbody>\n",
       "    <tr>\n",
       "      <th>0</th>\n",
       "      <td>0</td>\n",
       "      <td>7.797961e-07</td>\n",
       "    </tr>\n",
       "    <tr>\n",
       "      <th>1</th>\n",
       "      <td>0</td>\n",
       "      <td>8.189772e-07</td>\n",
       "    </tr>\n",
       "    <tr>\n",
       "      <th>2</th>\n",
       "      <td>1</td>\n",
       "      <td>3.639434e-07</td>\n",
       "    </tr>\n",
       "    <tr>\n",
       "      <th>3</th>\n",
       "      <td>2</td>\n",
       "      <td>3.198697e-07</td>\n",
       "    </tr>\n",
       "    <tr>\n",
       "      <th>4</th>\n",
       "      <td>2</td>\n",
       "      <td>2.973448e-07</td>\n",
       "    </tr>\n",
       "    <tr>\n",
       "      <th>...</th>\n",
       "      <td>...</td>\n",
       "      <td>...</td>\n",
       "    </tr>\n",
       "    <tr>\n",
       "      <th>495</th>\n",
       "      <td>1</td>\n",
       "      <td>4.176549e-07</td>\n",
       "    </tr>\n",
       "    <tr>\n",
       "      <th>496</th>\n",
       "      <td>2</td>\n",
       "      <td>3.187500e-07</td>\n",
       "    </tr>\n",
       "    <tr>\n",
       "      <th>497</th>\n",
       "      <td>2</td>\n",
       "      <td>3.194081e-07</td>\n",
       "    </tr>\n",
       "    <tr>\n",
       "      <th>498</th>\n",
       "      <td>0</td>\n",
       "      <td>7.453712e-07</td>\n",
       "    </tr>\n",
       "    <tr>\n",
       "      <th>499</th>\n",
       "      <td>0</td>\n",
       "      <td>7.004029e-07</td>\n",
       "    </tr>\n",
       "  </tbody>\n",
       "</table>\n",
       "<p>500 rows × 2 columns</p>\n",
       "</div>"
      ],
      "text/plain": [
       "    encoded biscuit             r\n",
       "0                 0  7.797961e-07\n",
       "1                 0  8.189772e-07\n",
       "2                 1  3.639434e-07\n",
       "3                 2  3.198697e-07\n",
       "4                 2  2.973448e-07\n",
       "..              ...           ...\n",
       "495               1  4.176549e-07\n",
       "496               2  3.187500e-07\n",
       "497               2  3.194081e-07\n",
       "498               0  7.453712e-07\n",
       "499               0  7.004029e-07\n",
       "\n",
       "[500 rows x 2 columns]"
      ]
     },
     "execution_count": 29,
     "metadata": {},
     "output_type": "execute_result"
    }
   ],
   "source": [
    "training_merged = big_data.merge(microscopy_data, how='inner')\n",
    "true_distributions = training_merged[['encoded biscuit', 'r']].copy()\n",
    "true_distributions"
   ]
  },
  {
   "cell_type": "code",
   "execution_count": 30,
   "metadata": {},
   "outputs": [
    {
     "data": {
      "text/plain": [
       "Text(0, 0.5, 'r')"
      ]
     },
     "execution_count": 30,
     "metadata": {},
     "output_type": "execute_result"
    },
    {
     "data": {
      "image/png": "[encoded data removed]",
      "text/plain": [
       "<Figure size 1000x600 with 2 Axes>"
      ]
     },
     "metadata": {},
     "output_type": "display_data"
    }
   ],
   "source": [
    "fig,ax=plt.subplots(1,2, figsize=(10,6))\n",
    "\n",
    "ax[0].set_title(\"Predicted Radii Distribution\")\n",
    "ax[0].scatter(micro_predictions, microscopy_data[\"r\"], s=5)\n",
    "ax[0].set_xticks(np.arange(0, len(biscuits)))\n",
    "ax[0].set_xticklabels(biscuits)\n",
    "ax[0].set_ylabel(\"r\")\n",
    "\n",
    "\n",
    "ax[1].set_title(\"Known Radii Distribution\")\n",
    "ax[1].scatter(true_distributions['encoded biscuit'], true_distributions[\"r\"], s=5)\n",
    "ax[1].set_xticks(np.arange(0, len(biscuits)))\n",
    "ax[1].set_xticklabels(biscuits)\n",
    "ax[1].set_ylabel(\"r\")"
   ]
  },
  {
   "cell_type": "code",
   "execution_count": 31,
   "metadata": {},
   "outputs": [
    {
     "data": {
      "text/plain": [
       "9      8.919035e-07\n",
       "12     7.250476e-07\n",
       "19     7.137298e-07\n",
       "22     7.894797e-07\n",
       "29     8.604312e-07\n",
       "           ...     \n",
       "488    8.189772e-07\n",
       "492    8.991764e-07\n",
       "496    8.798032e-07\n",
       "497    8.652230e-07\n",
       "498    8.128785e-07\n",
       "Name: r, Length: 159, dtype: float64"
      ]
     },
     "execution_count": 31,
     "metadata": {},
     "output_type": "execute_result"
    }
   ],
   "source": [
    "map0 = np.where(micro_predictions==0, True, False)\n",
    "microscopy_data[\"r\"][map0]"
   ]
  },
  {
   "cell_type": "code",
   "execution_count": 32,
   "metadata": {},
   "outputs": [],
   "source": [
    "from scipy.stats import norm\n",
    "\n",
    "def get_norm_distribution(data):\n",
    "    mean = np.mean(data)\n",
    "    std = np.std(data)\n",
    "    distribution = norm.rvs(mean, std)\n",
    "    return distribution.pdf()"
   ]
  },
  {
   "cell_type": "code",
   "execution_count": null,
   "metadata": {},
   "outputs": [],
   "source": []
  },
  {
   "cell_type": "code",
   "execution_count": null,
   "metadata": {},
   "outputs": [],
   "source": []
  },
  {
   "cell_type": "code",
   "execution_count": 33,
   "metadata": {},
   "outputs": [
    {
     "name": "stdout",
     "output_type": "stream",
     "text": [
      "Digestive\n",
      "predicted mean: 8.04e-07\n",
      "true mean: 8.03e-07\n",
      "predicted std: 5.92e-08\n",
      "true std: 5.8e-08\n",
      "\n",
      "Hobnob\n",
      "predicted mean: 5.22e-07\n",
      "true mean: 4.96e-07\n",
      "predicted std: 9.18e-08\n",
      "true std: 8e-08\n",
      "\n",
      "Rich Tea\n",
      "predicted mean: 3.21e-07\n",
      "true mean: 3.04e-07\n",
      "predicted std: 7.89e-08\n",
      "true std: 4.7e-08\n",
      "\n"
     ]
    },
    {
     "data": {
      "text/plain": [
       "Text(0.5, 1.0, 'Known Radii Distributions')"
      ]
     },
     "execution_count": 33,
     "metadata": {},
     "output_type": "execute_result"
    },
    {
     "data": {
      "image/png": "[encoded data removed]",
      "text/plain": [
       "<Figure size 1200x500 with 2 Axes>"
      ]
     },
     "metadata": {},
     "output_type": "display_data"
    }
   ],
   "source": [
    "# plot as histogram\n",
    "\n",
    "fig, ax = plt.subplots(1,2,figsize=(12,5))\n",
    "\n",
    "pore_radii = []\n",
    "\n",
    "for i, biscuit in enumerate(biscuits):\n",
    "    print(f\"{biscuit}\")\n",
    "    map = np.where(micro_predictions==i, True, False)\n",
    "    biscuit_r_data = microscopy_data[\"r\"][map]\n",
    "    ax[0].hist(biscuit_r_data, bins=70, alpha=0.7, density=True, label=biscuit)\n",
    "    \n",
    "    true_biscuit_r_data = true_distributions[\"r\"][true_distributions['encoded biscuit']==i]\n",
    "    ax[1].hist(true_biscuit_r_data, bins=70, alpha=0.7, density=True, label=biscuit)\n",
    "    \n",
    "    mean, std = norm.fit(biscuit_r_data)\n",
    "    # xmin, xmax = plt.xlim()\n",
    "    x = np.linspace(1.5e-7, 9e-7, 100)\n",
    "    p = (norm.pdf(x, mean, std))\n",
    "    pore_radii.append(mean)\n",
    "    ax[0].plot(x,p, color=f\"C{i}\")\n",
    "    \n",
    "    \n",
    "    true_mean, true_std = norm.fit(true_biscuit_r_data)\n",
    "    # xmin, xmax = plt.xlim()\n",
    "    x = np.linspace(1.5e-7, 9e-7, 100)\n",
    "    p = (norm.pdf(x, true_mean, true_std))\n",
    "    ax[1].plot(x,p, color=f\"C{i}\")\n",
    "    print(f\"predicted mean: {mean:.3}\")\n",
    "    print(f\"true mean: {true_mean:.3}\")\n",
    "    print(f\"predicted std: {std:.3}\")\n",
    "    print(f\"true std: {true_std:.3}\\n\")\n",
    "    \n",
    "ax[0].set_xlabel(\"Pore radius size / m\")\n",
    "ax[0].set_xlabel(\"Probability Density\")\n",
    "ax[0].legend()\n",
    "ax[0].set_title(\"Predicted Radii Distributions\")\n",
    "ax[1].set_xlabel(\"Pore radius size / m\")\n",
    "ax[1].set_xlabel(\"Probability Density\")\n",
    "ax[1].legend()\n",
    "ax[1].set_title(\"Known Radii Distributions\")"
   ]
  },
  {
   "cell_type": "markdown",
   "metadata": {},
   "source": []
  },
  {
   "cell_type": "markdown",
   "metadata": {},
   "source": [
    "#### Time-resolved measurements\n",
    "Another dataset has been provided, which investigates the capillary flow rate of the tea in the\n",
    "biscuits. This involved taking a blind sample of each of the biscuits and measuring the length\n",
    "that the tea soaked up the biscuit in a time range from 30 s to 300 s.\n",
    "\n",
    "• the tea surface tension was measured at 6.78 × 10−2 N m−1.\n",
    "\n",
    "• the contact angle was 1.45 rad.\n",
    "\n",
    "• the tea dynamic viscosity was 9.93 × 10−4 Pa s.\n",
    "\n",
    "The biscuit used for each measurement is unknown, and the data files are titled tr-1.csv, tr-2.csv, and tr-3.csv. Each data file contains the same information, three columns of experimental data:\n",
    "\n",
    "1. t: the time elapsed in the measurement, in s, the dependent variable.\n",
    "2. L: the length the tea has soaked up the biscuit, the independent variable, in m.\n",
    "3. dL: an estimate of the uncertainty in length, also in m."
   ]
  },
  {
   "cell_type": "code",
   "execution_count": 142,
   "metadata": {},
   "outputs": [
    {
     "data": {
      "application/vnd.microsoft.datawrangler.viewer.v0+json": {
       "columns": [
        {
         "name": "index",
         "rawType": "int64",
         "type": "integer"
        },
        {
         "name": "t",
         "rawType": "float64",
         "type": "float"
        },
        {
         "name": "L",
         "rawType": "float64",
         "type": "float"
        },
        {
         "name": "dL",
         "rawType": "float64",
         "type": "float"
        }
       ],
       "conversionMethod": "pd.DataFrame",
       "ref": "3dfbf326-7e88-4735-a878-8bd3a934afe3",
       "rows": [
        [
         "0",
         "30.0",
         "0.0111873083215491",
         "0.0003709764385684"
        ],
        [
         "1",
         "32.72727272727273",
         "0.0115661876226074",
         "0.0006091911578739"
        ],
        [
         "2",
         "35.45454545454545",
         "0.0119416064899943",
         "0.0008092293774454"
        ],
        [
         "3",
         "38.18181818181818",
         "0.0125020819027429",
         "0.0006138671505386"
        ],
        [
         "4",
         "40.90909090909091",
         "0.0133425820369249",
         "0.0004804750330683"
        ]
       ],
       "shape": {
        "columns": 3,
        "rows": 5
       }
      },
      "text/html": [
       "<div>\n",
       "<style scoped>\n",
       "    .dataframe tbody tr th:only-of-type {\n",
       "        vertical-align: middle;\n",
       "    }\n",
       "\n",
       "    .dataframe tbody tr th {\n",
       "        vertical-align: top;\n",
       "    }\n",
       "\n",
       "    .dataframe thead th {\n",
       "        text-align: right;\n",
       "    }\n",
       "</style>\n",
       "<table border=\"1\" class=\"dataframe\">\n",
       "  <thead>\n",
       "    <tr style=\"text-align: right;\">\n",
       "      <th></th>\n",
       "      <th>t</th>\n",
       "      <th>L</th>\n",
       "      <th>dL</th>\n",
       "    </tr>\n",
       "  </thead>\n",
       "  <tbody>\n",
       "    <tr>\n",
       "      <th>0</th>\n",
       "      <td>30.000000</td>\n",
       "      <td>0.011187</td>\n",
       "      <td>0.000371</td>\n",
       "    </tr>\n",
       "    <tr>\n",
       "      <th>1</th>\n",
       "      <td>32.727273</td>\n",
       "      <td>0.011566</td>\n",
       "      <td>0.000609</td>\n",
       "    </tr>\n",
       "    <tr>\n",
       "      <th>2</th>\n",
       "      <td>35.454545</td>\n",
       "      <td>0.011942</td>\n",
       "      <td>0.000809</td>\n",
       "    </tr>\n",
       "    <tr>\n",
       "      <th>3</th>\n",
       "      <td>38.181818</td>\n",
       "      <td>0.012502</td>\n",
       "      <td>0.000614</td>\n",
       "    </tr>\n",
       "    <tr>\n",
       "      <th>4</th>\n",
       "      <td>40.909091</td>\n",
       "      <td>0.013343</td>\n",
       "      <td>0.000480</td>\n",
       "    </tr>\n",
       "  </tbody>\n",
       "</table>\n",
       "</div>"
      ],
      "text/plain": [
       "           t         L        dL\n",
       "0  30.000000  0.011187  0.000371\n",
       "1  32.727273  0.011566  0.000609\n",
       "2  35.454545  0.011942  0.000809\n",
       "3  38.181818  0.012502  0.000614\n",
       "4  40.909091  0.013343  0.000480"
      ]
     },
     "execution_count": 142,
     "metadata": {},
     "output_type": "execute_result"
    }
   ],
   "source": [
    "tr_1 = pd.read_csv(\"tr-1.csv\")\n",
    "tr_2 = pd.read_csv(\"tr-2.csv\")\n",
    "tr_3 = pd.read_csv(\"tr-3.csv\")\n",
    "\n",
    "tr_3.head()"
   ]
  },
  {
   "cell_type": "code",
   "execution_count": 35,
   "metadata": {},
   "outputs": [
    {
     "data": {
      "text/plain": [
       "<matplotlib.legend.Legend at 0x7f0b6780a8d0>"
      ]
     },
     "execution_count": 35,
     "metadata": {},
     "output_type": "execute_result"
    },
    {
     "data": {
      "image/png": "[encoded data removed]",
      "text/plain": [
       "<Figure size 640x480 with 1 Axes>"
      ]
     },
     "metadata": {},
     "output_type": "display_data"
    }
   ],
   "source": [
    "fig, ax = plt.subplots()\n",
    "\n",
    "for i in range(1,4):\n",
    "    data = pd.read_csv(f\"tr-{i}.csv\")\n",
    "    x = data[\"t\"]\n",
    "    y = data[\"L\"]\n",
    "    dy = data[\"dL\"]\n",
    "    \n",
    "    ax.errorbar(x,y,dy,label=f\"tr-{i}\")\n",
    "    \n",
    "ax.set_xlabel(\"t / s\")\n",
    "ax.set_ylabel(\"L / m\")\n",
    "ax.legend()"
   ]
  },
  {
   "cell_type": "code",
   "execution_count": 36,
   "metadata": {},
   "outputs": [],
   "source": [
    "def washburn(gamma,r,t,phi,eta):\n",
    "    \"\"\"\n",
    "    REDO\n",
    "    A first order rate equation.\n",
    "    \n",
    "    :param gamma: The time to evaluate the rate equation at.\n",
    "    :param r: The rate constant.\n",
    "    :param t: The initial concentration of A.\n",
    "    :param phi: The initial concentration of A.\n",
    "    :param eta: The initial concentration of A.\n",
    "    \n",
    "    :return: The concentration of A at time t.\n",
    "    \"\"\"\n",
    "    \n",
    "    numerator = gamma*r*t*np.cos(phi)\n",
    "    denominator = 2*eta\n",
    "    \n",
    "    L = np.sqrt(numerator / denominator)\n",
    "    \n",
    "    return L"
   ]
  },
  {
   "cell_type": "code",
   "execution_count": 37,
   "metadata": {},
   "outputs": [],
   "source": [
    "# irrelevant\n",
    "\n",
    "import pymc as pm\n",
    "import arviz as az\n",
    "\n",
    "\n",
    "def run_pymc(data):\n",
    "    \n",
    "    D = [norm(data['L'][i], data['dL'][i]) for i in range(len(data))]\n",
    "    \n",
    "    with pm.Model() as model:\n",
    "        gamma = 6.78e-2\n",
    "        r = pm.Uniform('r', 1.5e-7, 1.2e-6)\n",
    "        phi = 1.45\n",
    "        eta = 9.93e-4\n",
    "        \n",
    "        L = pm.Normal('t', \n",
    "                    mu=washburn(gamma,r,data[\"t\"],phi,eta), \n",
    "                    sigma=data['dL'], \n",
    "                    observed=data['L'])\n",
    "        \n",
    "        trace = pm.sample(1000, tune=1000, chains=10, progressbar=True)\n",
    "        \n",
    "\n",
    "    az.plot_trace(trace, var_names=[\"r\"])\n",
    "    plt.tight_layout()\n",
    "    plt.show()\n",
    "    \n",
    "    return float(trace.posterior[\"r\"].mean()), float(trace.posterior[\"r\"].mean())"
   ]
  },
  {
   "cell_type": "code",
   "execution_count": 38,
   "metadata": {},
   "outputs": [],
   "source": [
    "# irrelevant - getting ideal r from washburn fits. \n",
    "\n",
    "# # fig, ax = plt.subplots()\n",
    "# data_r_avs = []\n",
    "# data_r_stds = []\n",
    "\n",
    "# for i in range(1,4):\n",
    "#     data = pd.read_csv(f\"tr-{i}.csv\")\n",
    "#     x = data[\"t\"]\n",
    "#     y = data[\"L\"]\n",
    "#     dy = data[\"dL\"]\n",
    "    \n",
    "#     data_r, data_std = run_pymc(data)\n",
    "#     data_r_avs.append(data_r)\n",
    "#     data_r_stds.append(data_std)\n"
   ]
  },
  {
   "cell_type": "code",
   "execution_count": 39,
   "metadata": {},
   "outputs": [
    {
     "data": {
      "text/plain": [
       "array(['Digestive', 'Hobnob', 'Rich Tea'], dtype=object)"
      ]
     },
     "execution_count": 39,
     "metadata": {},
     "output_type": "execute_result"
    }
   ],
   "source": [
    "biscuits"
   ]
  },
  {
   "cell_type": "code",
   "execution_count": 40,
   "metadata": {},
   "outputs": [
    {
     "data": {
      "text/plain": [
       "[8.04131367029411e-07, 5.221042808179948e-07, 3.207937932259123e-07]"
      ]
     },
     "execution_count": 40,
     "metadata": {},
     "output_type": "execute_result"
    }
   ],
   "source": [
    "pore_radii"
   ]
  },
  {
   "cell_type": "code",
   "execution_count": 41,
   "metadata": {},
   "outputs": [
    {
     "data": {
      "image/png": "[encoded data removed]",
      "text/plain": [
       "<Figure size 1000x500 with 1 Axes>"
      ]
     },
     "metadata": {},
     "output_type": "display_data"
    }
   ],
   "source": [
    "# washburn model fittings\n",
    "\n",
    "fig, ax = plt.subplots(figsize=(10,5))\n",
    "\n",
    "tr_list = [3,1,2]\n",
    "\n",
    "for i, tr_val in enumerate(tr_list):\n",
    "    data = pd.read_csv(f\"tr-{tr_val}.csv\")\n",
    "    x = data[\"t\"]\n",
    "    y = data[\"L\"]\n",
    "    dy = data[\"dL\"]\n",
    "    \n",
    "    washburn_data_rfc = washburn(6.78e-2, pore_radii[i], data[\"t\"], 1.45, 9.93e-4 )\n",
    "    ax.errorbar(x,y,dy,label=f\"{biscuits[i]} True data\", alpha=0.7, color=f\"C{i}\")\n",
    "    \n",
    "    ax.plot(data[\"t\"], washburn_data_rfc, marker='x', color=f\"C{i}\", zorder=3, label=f'{biscuits[i]} Washburn relationship') \n",
    "    \n",
    "    \n",
    "ax.set_xlabel(\"Time / s\")\n",
    "ax.set_ylabel(\"Length of Tea Up Biscuit / m\")\n",
    "ax.legend()\n",
    "plt.show()"
   ]
  },
  {
   "cell_type": "markdown",
   "metadata": {},
   "source": [
    "#### regression"
   ]
  },
  {
   "cell_type": "code",
   "execution_count": 42,
   "metadata": {},
   "outputs": [
    {
     "name": "stdout",
     "output_type": "stream",
     "text": [
      "model:\n",
      "0.0 t + 0.0001327 t**2 + -1.467e-07 \n"
     ]
    }
   ],
   "source": [
    "from sklearn.preprocessing import PolynomialFeatures\n",
    "from sklearn.linear_model import LinearRegression\n",
    "from sklearn.metrics import mean_squared_error\n",
    "\n",
    "\n",
    "data = pd.read_csv(f\"tr-3.csv\")\n",
    "\n",
    "poly = PolynomialFeatures(degree=2)\n",
    "model = LinearRegression()\n",
    "\n",
    "train, test = train_test_split(data, test_size=0.2, random_state=42)\n",
    "\n",
    "X_ = poly.fit_transform(train[\"t\"].values.reshape(-1,1))\n",
    "y = train['L']\n",
    "\n",
    "model.fit(X_, y)\n",
    "\n",
    "reg_prediction = model.predict(X_)\n",
    "####\n",
    "\n",
    "X_test = test['t'].values.reshape(-1,1)\n",
    "X_test_ = poly.fit_transform(X_test)\n",
    "\n",
    "# true values\n",
    "y_test = test['L'].values\n",
    "\n",
    "mean_squared_error(y_test , model.predict(X_test_))\n",
    "\n",
    "model.coef_\n",
    "\n",
    "print(\"model:\")\n",
    "print(f\"{model.coef_[0]:.4} t + {model.coef_[1]:.4} t**2 + {model.coef_[2]:.4} \")"
   ]
  },
  {
   "cell_type": "code",
   "execution_count": 43,
   "metadata": {},
   "outputs": [],
   "source": [
    "def reg_model(r, t):\n",
    "    return (1.54e+02*r + -1.8e+07*(r**2) + 2.16e-05)*t + (-0.254*r + 9.33e+04*(r**2) + -3.76e-09)*(t**2) + (3.96e+03*r + 3.74e+09*(r**2) + 0.00272)"
   ]
  },
  {
   "cell_type": "code",
   "execution_count": 44,
   "metadata": {},
   "outputs": [],
   "source": [
    "gamma = 6.78e-2\n",
    "phi = 1.45\n",
    "eta = 9.93e-4\n",
    "\n",
    "constant = np.sqrt(gamma*np.cos(phi)/2*eta)"
   ]
  },
  {
   "cell_type": "code",
   "execution_count": 45,
   "metadata": {},
   "outputs": [],
   "source": [
    "def calc_constant(t):\n",
    "    gamma = 6.78e-2\n",
    "    phi = 1.45\n",
    "    eta = 9.93e-4\n",
    "\n",
    "    constant = np.sqrt(gamma*t*np.cos(phi)/2*eta)\n",
    "    return constant"
   ]
  },
  {
   "cell_type": "code",
   "execution_count": 46,
   "metadata": {},
   "outputs": [
    {
     "name": "stdout",
     "output_type": "stream",
     "text": [
      "Digestive\n",
      "[ 1.32740541e-04 -1.46715507e-07]\n",
      "0.000133*t + -1.47e-07*(t**2) + 0.00823\n",
      "RMSE for Washburn model: 0.00274\n",
      "RMSE for Polynomial regression model: 0.000337\n",
      "\n",
      "\n",
      "Hobnob\n",
      "[ 9.71774387e-05 -1.10956178e-07]\n",
      "9.72e-05*t + -1.11e-07*(t**2) + 0.00581\n",
      "RMSE for Washburn model: 0.000195\n",
      "RMSE for Polynomial regression model: 0.00025\n",
      "\n",
      "\n",
      "Rich Tea\n",
      "[ 6.94213599e-05 -7.59637852e-08]\n",
      "6.94e-05*t + -7.6e-08*(t**2) + 0.00439\n",
      "RMSE for Washburn model: 0.000998\n",
      "RMSE for Polynomial regression model: 0.00023\n",
      "\n",
      "\n"
     ]
    },
    {
     "data": {
      "image/png": "[encoded data removed]",
      "text/plain": [
       "<Figure size 1000x500 with 1 Axes>"
      ]
     },
     "metadata": {},
     "output_type": "display_data"
    }
   ],
   "source": [
    "from sklearn.preprocessing import PolynomialFeatures\n",
    "from sklearn.linear_model import LinearRegression\n",
    "from sklearn.metrics import mean_squared_error\n",
    "\n",
    "\n",
    "fig, ax = plt.subplots(figsize=(10,5))\n",
    "\n",
    "tr_list = [3,1,2]\n",
    "poly = PolynomialFeatures(degree=2, include_bias=False)\n",
    "model = LinearRegression()\n",
    "\n",
    "coef0 = []\n",
    "coef1 = []\n",
    "intercepts = []\n",
    "\n",
    "for i, tr_val in enumerate(tr_list):\n",
    "    print(f\"{biscuits[i]}\")\n",
    "    \n",
    "    data = pd.read_csv(f\"tr-{tr_val}.csv\")\n",
    "    # data['t'] = np.sqrt(data['t'])\n",
    "    x = data[\"t\"].values.reshape(-1,1)\n",
    "    y = data[\"L\"]\n",
    "    dy = data[\"dL\"]\n",
    "    data['L'] = data['L']\n",
    "    # data['L'] = (constant*np.sqrt(pore_radii[i])) / data['L']\n",
    "    \n",
    "    train, test = train_test_split(data, test_size=0.2, random_state=42)\n",
    "    \n",
    "    X_train = poly.fit_transform(train[\"t\"].values.reshape(-1,1))\n",
    "    y_train = train['L']\n",
    "    \n",
    "    model.fit(X_train, y_train)\n",
    "    \n",
    "    X_test = test['t'].values.reshape(-1,1)\n",
    "    X_test_ = poly.fit_transform(X_test)\n",
    "    \n",
    "    y_test = test['L'].values\n",
    "    \n",
    "    def model_fit(t):\n",
    "        print(model.coef_)\n",
    "        model_fit = model.coef_[0]*t + model.coef_[1]*(t**2) + model.intercept_\n",
    "        print(f\"{model.coef_[0]:.3}*t + {model.coef_[1]:.3}*(t**2) + {model.intercept_:.3}\")\n",
    "        return model_fit\n",
    "    \n",
    "    coef0.append(model.coef_[0])\n",
    "    coef1.append(model.coef_[1])\n",
    "    intercepts.append(model.intercept_)\n",
    "    \n",
    "    washburn_data_rfc = washburn(6.78e-2, pore_radii[i], data[\"t\"], 1.45, 9.93e-4 )\n",
    "    ax.errorbar(x,y,dy,label=f\"{biscuits[i]} True data\", alpha=0.4, color=f\"C{i}\")\n",
    "    ax.scatter(test['t'], model_fit(test['t']), marker='x', c='black', zorder=4)\n",
    "    # ax.plot(data['t'], reg_model(pore_radii[i], data['t']), label='reg model')\n",
    "    \n",
    "    ax.plot(data[\"t\"], washburn_data_rfc, marker='x', linestyle=\"\", color=f\"C{i}\", zorder=3, label=f'{biscuits[i]} Washburn relationship') \n",
    "    \n",
    "    mse_wash = np.sqrt(mean_squared_error(y , washburn_data_rfc))\n",
    "    mse_reg =  np.sqrt(mean_squared_error(y_test , model.predict(X_test_)))\n",
    "    \n",
    "    print(f\"RMSE for Washburn model: {mse_wash:.3}\")\n",
    "    print(f\"RMSE for Polynomial regression model: {mse_reg:.3}\")\n",
    "    # print(model.coef_)\n",
    "    print(f\"\\n\")\n",
    "    \n",
    "    \n",
    "ax.set_xlabel(\"Time / s\")\n",
    "ax.set_ylabel(\"Length of Tea Up Biscuit / m\")\n",
    "ax.legend()\n",
    "plt.show()"
   ]
  },
  {
   "cell_type": "code",
   "execution_count": 47,
   "metadata": {},
   "outputs": [
    {
     "data": {
      "text/plain": [
       "[8.04131367029411e-07, 5.221042808179948e-07, 3.207937932259123e-07]"
      ]
     },
     "execution_count": 47,
     "metadata": {},
     "output_type": "execute_result"
    }
   ],
   "source": [
    "pore_radii"
   ]
  },
  {
   "cell_type": "code",
   "execution_count": 48,
   "metadata": {},
   "outputs": [],
   "source": [
    "import jax as jnp\n",
    "\n",
    "def f(x):\n",
    "    \"\"\"\n",
    "    An example function for JAX. \n",
    "    :param x: input to the function.\n",
    "    :return: output of the function.\n",
    "    \"\"\"\n",
    "    return jnp.square(x) + jnp.log(x)"
   ]
  },
  {
   "cell_type": "code",
   "execution_count": 49,
   "metadata": {},
   "outputs": [
    {
     "name": "stdout",
     "output_type": "stream",
     "text": [
      "[ 1.58418127e+02 -2.43696875e+07]\n",
      "2.11e-05 + 1.58e+02*r + -2.44e+07*(r**2) \n",
      "[-2.55837512e-01  9.73006275e+04]\n",
      "-3.91e-09 + -0.256*r + 9.73e+04*(r**2) \n",
      "[4.40442545e+03 3.14958176e+09]\n",
      "0.00265 + 4.4e+03*r + 3.15e+09*(r**2) \n"
     ]
    }
   ],
   "source": [
    "# determine relationship between pore size and polynomial coefficients\n",
    "\n",
    "\n",
    "poly = PolynomialFeatures(degree=2, include_bias=False)\n",
    "model = LinearRegression()\n",
    "\n",
    "relationships = [coef0, coef1, intercepts]\n",
    "for relationship in relationships:\n",
    "    X_ = poly.fit_transform(np.array(pore_radii).reshape(-1,1))\n",
    "    y = relationship\n",
    "\n",
    "    model.fit(X_, y)\n",
    "       \n",
    "    print(model.coef_)\n",
    "    print(f\"{model.intercept_:.3} + {model.coef_[0]:.3}*r + {model.coef_[1]:.3}*(r**2) \")\n",
    "\n",
    "    # fit = model_fit(pore_radii)\n",
    "\n",
    "# reg_prediction = model.predict(X_)\n",
    "####\n",
    "\n",
    "\n"
   ]
  },
  {
   "cell_type": "code",
   "execution_count": 50,
   "metadata": {},
   "outputs": [],
   "source": [
    "def reg_model(r, t):\n",
    "    return (1.54e+02*r + -1.8e+07*(r**2) + 2.16e-05)*t + (-0.254*r + 9.33e+04*(r**2) + -3.76e-09)*(t**2) + (3.96e+03*r + 3.74e+09*(r**2) + 0.00272)"
   ]
  },
  {
   "cell_type": "code",
   "execution_count": 51,
   "metadata": {},
   "outputs": [
    {
     "data": {
      "text/plain": [
       "[<matplotlib.lines.Line2D at 0x7f0b3e5a6450>]"
      ]
     },
     "execution_count": 51,
     "metadata": {},
     "output_type": "execute_result"
    },
    {
     "data": {
      "image/png": "[encoded data removed]",
      "text/plain": [
       "<Figure size 640x480 with 1 Axes>"
      ]
     },
     "metadata": {},
     "output_type": "display_data"
    }
   ],
   "source": [
    "data = pd.read_csv(\"tr-3.csv\")\n",
    "\n",
    "fig,ax = plt.subplots()\n",
    "\n",
    "ax.plot(data['t'], data['L'])\n",
    "ax.plot(data['t'], reg_model(pore_radii[0], data['t']))"
   ]
  },
  {
   "cell_type": "markdown",
   "metadata": {},
   "source": [
    "#### Neural network"
   ]
  },
  {
   "cell_type": "code",
   "execution_count": 52,
   "metadata": {},
   "outputs": [
    {
     "data": {
      "application/vnd.microsoft.datawrangler.viewer.v0+json": {
       "columns": [
        {
         "name": "index",
         "rawType": "int64",
         "type": "integer"
        },
        {
         "name": "gamma",
         "rawType": "float64",
         "type": "float"
        },
        {
         "name": "phi",
         "rawType": "float64",
         "type": "float"
        },
        {
         "name": "eta",
         "rawType": "float64",
         "type": "float"
        },
        {
         "name": "L",
         "rawType": "float64",
         "type": "float"
        },
        {
         "name": "t",
         "rawType": "float64",
         "type": "float"
        },
        {
         "name": "biscuit",
         "rawType": "object",
         "type": "string"
        },
        {
         "name": "encoded biscuit",
         "rawType": "object",
         "type": "unknown"
        },
        {
         "name": "r",
         "rawType": "float64",
         "type": "float"
        }
       ],
       "conversionMethod": "pd.DataFrame",
       "ref": "3b832ed8-896b-490e-a327-9c3ddd3267f3",
       "rows": [
        [
         "0",
         "0.0809461966098991",
         "1.47675793946145",
         "0.0010117571591316",
         "0.0058943259660231",
         "11.85258933147959",
         "Digestive",
         "0",
         "7.797960613605848e-07"
        ],
        [
         "1",
         "0.0874078993348664",
         "1.4771414922137245",
         "0.0009835886160519",
         "0.0092486331281393",
         "24.793669186847307",
         "Digestive",
         "0",
         "8.189772254008458e-07"
        ],
        [
         "2",
         "0.0622755073740393",
         "1.5205335968713052",
         "0.0010052665124343",
         "0.004030109621202",
         "28.4234069608383",
         "Hobnob",
         "1",
         "3.63943376341258e-07"
        ],
        [
         "3",
         "0.075264246708315",
         "1.4877064694430189",
         "0.0010025702956993",
         "0.0047255479444726",
         "21.98408513521161",
         "Rich Tea",
         "2",
         "3.198696672621654e-07"
        ],
        [
         "4",
         "0.0731303951384917",
         "1.5541259835249417",
         "0.0009952841476726",
         "0.0022338652726104",
         "27.63278365228808",
         "Rich Tea",
         "2",
         "2.9734475448185e-07"
        ],
        [
         "5",
         "0.0820625357359932",
         "1.3976269792726657",
         "0.0009870862585982",
         "0.008645970802585",
         "18.648071436509937",
         "Hobnob",
         "1",
         "5.518377305382778e-07"
        ],
        [
         "6",
         "0.083246726572733",
         "1.4186227656442851",
         "0.0009862079238829",
         "0.004578171238295",
         "10.831609135682625",
         "Rich Tea",
         "2",
         "3.141562690439023e-07"
        ],
        [
         "7",
         "0.0868282383042642",
         "1.5067070523604045",
         "0.0009786865685906",
         "0.0037386834322084",
         "10.152730401890793",
         "Hobnob",
         "1",
         "4.936484654062183e-07"
        ],
        [
         "8",
         "0.0709427468196048",
         "1.4147212920154095",
         "0.0009928333896698",
         "0.0070341287242877",
         "11.121606477487248",
         "Digestive",
         "0",
         "7.930241372930378e-07"
        ],
        [
         "9",
         "0.0736195347401363",
         "1.533950154530597",
         "0.0010004861877111",
         "0.0027353645881771",
         "18.59720501964756",
         "Rich Tea",
         "2",
         "2.99681623218618e-07"
        ],
        [
         "10",
         "0.0740054273794784",
         "1.570268938974516",
         "0.0010137201891358",
         "0.0004972575080093",
         "27.573526491910137",
         "Hobnob",
         "1",
         "4.667185166647237e-07"
        ],
        [
         "11",
         "0.0626769321963057",
         "1.3196445200243705",
         "0.0010018734231959",
         "0.0080035087150641",
         "17.73990897091775",
         "Hobnob",
         "1",
         "4.521101059526911e-07"
        ],
        [
         "12",
         "0.0622582362917069",
         "1.3774870365153078",
         "0.0009955666521898",
         "0.0067622013657177",
         "10.03154813517243",
         "Digestive",
         "0",
         "7.69313686272661e-07"
        ],
        [
         "13",
         "0.0745645132820849",
         "1.3350790768464582",
         "0.0010003699790869",
         "0.0059156446243384",
         "10.80049879818776",
         "Rich Tea",
         "2",
         "3.731184514524907e-07"
        ],
        [
         "14",
         "0.0832646081574259",
         "1.5000135239904384",
         "0.0010151936382114",
         "0.0061876987659746",
         "16.631354591954725",
         "Digestive",
         "0",
         "8.343526051606491e-07"
        ],
        [
         "15",
         "0.0793556339875146",
         "1.5053473083825626",
         "0.0010051859532084",
         "0.0055930838068224",
         "14.429046325008487",
         "Digestive",
         "0",
         "8.550193423305071e-07"
        ],
        [
         "16",
         "0.0501884391287974",
         "1.531614556941877",
         "0.0010075729601216",
         "0.0046621278844102",
         "28.3718161433555",
         "Digestive",
         "0",
         "8.02542384457958e-07"
        ],
        [
         "17",
         "0.0674001078826836",
         "1.523974460261055",
         "0.0009956646143515",
         "0.0033653231660648",
         "20.358477768266354",
         "Rich Tea",
         "2",
         "3.5088692447635936e-07"
        ],
        [
         "18",
         "0.0702603389016185",
         "1.4729133882311276",
         "0.0010037426995308",
         "0.0056777751276998",
         "22.526945577607695",
         "Hobnob",
         "1",
         "4.204342013425531e-07"
        ],
        [
         "19",
         "0.0790643582859755",
         "1.453548595951271",
         "0.0009995008810075",
         "0.0088568114228705",
         "28.19872663286572",
         "Hobnob",
         "1",
         "5.97757132143619e-07"
        ],
        [
         "20",
         "0.0676996294341641",
         "1.397955314688525",
         "0.0010144813731928",
         "0.0100852544462983",
         "24.852321564019118",
         "Digestive",
         "0",
         "7.286919285253125e-07"
        ],
        [
         "21",
         "0.0832198774764089",
         "1.5628624059676084",
         "0.0009987827579781",
         "0.0014381151384808",
         "19.80391494925346",
         "Rich Tea",
         "2",
         "3.09334627465361e-07"
        ],
        [
         "22",
         "0.0847843512978386",
         "1.352919759305827",
         "0.0010027834850682",
         "0.0048456099580815",
         "11.544445544604557",
         "Rich Tea",
         "2",
         "2.3169157082884875e-07"
        ],
        [
         "23",
         "0.0654474156976831",
         "1.445096684636153",
         "0.0009904054220409",
         "0.0074118286087356",
         "27.31612691146172",
         "Hobnob",
         "1",
         "4.759836346044865e-07"
        ],
        [
         "24",
         "0.0780353732127417",
         "1.5102952568102466",
         "0.0010130344189966",
         "0.0045729327917846",
         "11.980188644648251",
         "Digestive",
         "0",
         "7.698580594303742e-07"
        ],
        [
         "25",
         "0.080828756114794",
         "1.461056329690426",
         "0.0009998386651574",
         "0.0070296838285146",
         "15.10593326243578",
         "Digestive",
         "0",
         "7.308079329062444e-07"
        ],
        [
         "26",
         "0.0683144560270848",
         "1.4940201941260516",
         "0.0009982120881642",
         "0.0059357516611723",
         "27.610939517139204",
         "Hobnob",
         "1",
         "4.700559410153252e-07"
        ],
        [
         "27",
         "0.0626899956565466",
         "1.5303415850166595",
         "0.0010098947903528",
         "0.0024547899977222",
         "13.655331278427624",
         "Rich Tea",
         "2",
         "3.60241589299291e-07"
        ],
        [
         "28",
         "0.0673058496052893",
         "1.4668681329820434",
         "0.0010001710583233",
         "0.0053770680660691",
         "23.987856867365416",
         "Rich Tea",
         "2",
         "3.462955527494354e-07"
        ],
        [
         "29",
         "0.0583141035569707",
         "1.3315922635706043",
         "0.0010072921839983",
         "0.0110943841836905",
         "29.145785403504824",
         "Hobnob",
         "1",
         "6.029231624768917e-07"
        ],
        [
         "30",
         "0.0785646739890139",
         "1.542858667195145",
         "0.0009969529627265",
         "0.0022068594641411",
         "10.148464514341196",
         "Rich Tea",
         "2",
         "4.297786970529531e-07"
        ],
        [
         "31",
         "0.0701860237131862",
         "1.465452446935387",
         "0.0010134644637561",
         "0.0055832465954539",
         "14.092273177222744",
         "Hobnob",
         "1",
         "6.103278944678709e-07"
        ],
        [
         "32",
         "0.0848696030296443",
         "1.5392674941639632",
         "0.0010048727032958",
         "0.0023955538586285",
         "12.121638820473269",
         "Rich Tea",
         "2",
         "3.635748223667312e-07"
        ],
        [
         "33",
         "0.0681422837270835",
         "1.481912986097674",
         "0.0010052373284961",
         "0.004610976532327",
         "18.737827449439276",
         "Rich Tea",
         "2",
         "3.742770594980285e-07"
        ],
        [
         "34",
         "0.0626205905985149",
         "1.3028650441503382",
         "0.0010127442110126",
         "0.0086915832880828",
         "20.295814718147145",
         "Hobnob",
         "1",
         "4.59687862703427e-07"
        ],
        [
         "35",
         "0.0791214068117645",
         "1.322755215661672",
         "0.0009914001988481",
         "0.0148499303974023",
         "29.40762470335028",
         "Digestive",
         "0",
         "7.821553748287343e-07"
        ],
        [
         "36",
         "0.080887530055923",
         "1.4154969560881998",
         "0.0010087649395215",
         "0.00525629431498",
         "14.25554525775832",
         "Rich Tea",
         "2",
         "3.22882162034498e-07"
        ],
        [
         "37",
         "0.0740505925260333",
         "1.4723524214968269",
         "0.0009997761989573",
         "0.0054595277453539",
         "28.78503030612522",
         "Rich Tea",
         "2",
         "2.911893457466177e-07"
        ],
        [
         "38",
         "0.0873028293881061",
         "1.3883397604445646",
         "0.0009883883438226",
         "0.0098722009988283",
         "25.868232226257568",
         "Hobnob",
         "1",
         "4.723671296548504e-07"
        ],
        [
         "39",
         "0.0853208688394855",
         "1.474187536135521",
         "0.0009873039273901",
         "0.0054698452105387",
         "25.72687754932125",
         "Rich Tea",
         "2",
         "2.811799967265042e-07"
        ],
        [
         "40",
         "0.0709835947216443",
         "1.5524951516245542",
         "0.0009819953151561",
         "0.001776639036204",
         "10.84903678298902",
         "Hobnob",
         "1",
         "4.293578195811919e-07"
        ],
        [
         "41",
         "0.0758758615305374",
         "1.5530218032326848",
         "0.0009927372844142",
         "0.0023729769145635",
         "28.24918703146301",
         "Rich Tea",
         "2",
         "2.8533709005432405e-07"
        ],
        [
         "42",
         "0.0714352194998283",
         "1.4667196686735802",
         "0.0010066599718257",
         "0.0034281066006223",
         "14.689255922764898",
         "Rich Tea",
         "2",
         "2.218400462356027e-07"
        ],
        [
         "43",
         "0.0680350799449837",
         "1.4319760078775194",
         "0.0009997270843719",
         "0.0039635680408378",
         "11.432519590519773",
         "Rich Tea",
         "2",
         "2.955675666473473e-07"
        ],
        [
         "44",
         "0.0548213786208066",
         "1.469213669588307",
         "0.0010138242152514",
         "0.0067156680966248",
         "20.48076055723604",
         "Digestive",
         "0",
         "8.06503928744846e-07"
        ],
        [
         "45",
         "0.0713752310491277",
         "1.456153468326596",
         "0.0010027483918852",
         "0.0052536106061846",
         "25.647708497877463",
         "Rich Tea",
         "2",
         "2.58342296531601e-07"
        ],
        [
         "46",
         "0.0769491491647444",
         "1.3298962514074495",
         "0.0009873607273448",
         "0.0072675168740609",
         "17.05229681480599",
         "Rich Tea",
         "2",
         "3.4451272329841165e-07"
        ],
        [
         "47",
         "0.0711883887660526",
         "1.5000743685633893",
         "0.000988813196864",
         "0.0076882823968876",
         "27.840356395877343",
         "Digestive",
         "0",
         "8.326721381127279e-07"
        ],
        [
         "48",
         "0.0760223148287163",
         "1.506848255843843",
         "0.0009988433618372",
         "0.0042319367039144",
         "12.984330523331806",
         "Hobnob",
         "1",
         "5.713150877640167e-07"
        ],
        [
         "49",
         "0.0717369007636357",
         "1.557585522363364",
         "0.0010038854586703",
         "0.002919025762484",
         "29.26307593166866",
         "Hobnob",
         "1",
         "5.894819299286022e-07"
        ]
       ],
       "shape": {
        "columns": 8,
        "rows": 500
       }
      },
      "text/html": [
       "<div>\n",
       "<style scoped>\n",
       "    .dataframe tbody tr th:only-of-type {\n",
       "        vertical-align: middle;\n",
       "    }\n",
       "\n",
       "    .dataframe tbody tr th {\n",
       "        vertical-align: top;\n",
       "    }\n",
       "\n",
       "    .dataframe thead th {\n",
       "        text-align: right;\n",
       "    }\n",
       "</style>\n",
       "<table border=\"1\" class=\"dataframe\">\n",
       "  <thead>\n",
       "    <tr style=\"text-align: right;\">\n",
       "      <th></th>\n",
       "      <th>gamma</th>\n",
       "      <th>phi</th>\n",
       "      <th>eta</th>\n",
       "      <th>L</th>\n",
       "      <th>t</th>\n",
       "      <th>biscuit</th>\n",
       "      <th>encoded biscuit</th>\n",
       "      <th>r</th>\n",
       "    </tr>\n",
       "  </thead>\n",
       "  <tbody>\n",
       "    <tr>\n",
       "      <th>0</th>\n",
       "      <td>0.080946</td>\n",
       "      <td>1.476758</td>\n",
       "      <td>0.001012</td>\n",
       "      <td>0.005894</td>\n",
       "      <td>11.852589</td>\n",
       "      <td>Digestive</td>\n",
       "      <td>0</td>\n",
       "      <td>7.797961e-07</td>\n",
       "    </tr>\n",
       "    <tr>\n",
       "      <th>1</th>\n",
       "      <td>0.087408</td>\n",
       "      <td>1.477141</td>\n",
       "      <td>0.000984</td>\n",
       "      <td>0.009249</td>\n",
       "      <td>24.793669</td>\n",
       "      <td>Digestive</td>\n",
       "      <td>0</td>\n",
       "      <td>8.189772e-07</td>\n",
       "    </tr>\n",
       "    <tr>\n",
       "      <th>2</th>\n",
       "      <td>0.062276</td>\n",
       "      <td>1.520534</td>\n",
       "      <td>0.001005</td>\n",
       "      <td>0.004030</td>\n",
       "      <td>28.423407</td>\n",
       "      <td>Hobnob</td>\n",
       "      <td>1</td>\n",
       "      <td>3.639434e-07</td>\n",
       "    </tr>\n",
       "    <tr>\n",
       "      <th>3</th>\n",
       "      <td>0.075264</td>\n",
       "      <td>1.487706</td>\n",
       "      <td>0.001003</td>\n",
       "      <td>0.004726</td>\n",
       "      <td>21.984085</td>\n",
       "      <td>Rich Tea</td>\n",
       "      <td>2</td>\n",
       "      <td>3.198697e-07</td>\n",
       "    </tr>\n",
       "    <tr>\n",
       "      <th>4</th>\n",
       "      <td>0.073130</td>\n",
       "      <td>1.554126</td>\n",
       "      <td>0.000995</td>\n",
       "      <td>0.002234</td>\n",
       "      <td>27.632784</td>\n",
       "      <td>Rich Tea</td>\n",
       "      <td>2</td>\n",
       "      <td>2.973448e-07</td>\n",
       "    </tr>\n",
       "    <tr>\n",
       "      <th>...</th>\n",
       "      <td>...</td>\n",
       "      <td>...</td>\n",
       "      <td>...</td>\n",
       "      <td>...</td>\n",
       "      <td>...</td>\n",
       "      <td>...</td>\n",
       "      <td>...</td>\n",
       "      <td>...</td>\n",
       "    </tr>\n",
       "    <tr>\n",
       "      <th>495</th>\n",
       "      <td>0.070954</td>\n",
       "      <td>1.447903</td>\n",
       "      <td>0.000996</td>\n",
       "      <td>0.005560</td>\n",
       "      <td>17.524261</td>\n",
       "      <td>Hobnob</td>\n",
       "      <td>1</td>\n",
       "      <td>4.176549e-07</td>\n",
       "    </tr>\n",
       "    <tr>\n",
       "      <th>496</th>\n",
       "      <td>0.060301</td>\n",
       "      <td>1.466961</td>\n",
       "      <td>0.001004</td>\n",
       "      <td>0.004119</td>\n",
       "      <td>17.604523</td>\n",
       "      <td>Rich Tea</td>\n",
       "      <td>2</td>\n",
       "      <td>3.187500e-07</td>\n",
       "    </tr>\n",
       "    <tr>\n",
       "      <th>497</th>\n",
       "      <td>0.071658</td>\n",
       "      <td>1.303051</td>\n",
       "      <td>0.001003</td>\n",
       "      <td>0.008497</td>\n",
       "      <td>24.070251</td>\n",
       "      <td>Rich Tea</td>\n",
       "      <td>2</td>\n",
       "      <td>3.194081e-07</td>\n",
       "    </tr>\n",
       "    <tr>\n",
       "      <th>498</th>\n",
       "      <td>0.084596</td>\n",
       "      <td>1.557367</td>\n",
       "      <td>0.000981</td>\n",
       "      <td>0.003221</td>\n",
       "      <td>24.231107</td>\n",
       "      <td>Digestive</td>\n",
       "      <td>0</td>\n",
       "      <td>7.453712e-07</td>\n",
       "    </tr>\n",
       "    <tr>\n",
       "      <th>499</th>\n",
       "      <td>0.071386</td>\n",
       "      <td>1.212213</td>\n",
       "      <td>0.001004</td>\n",
       "      <td>0.013988</td>\n",
       "      <td>22.772293</td>\n",
       "      <td>Digestive</td>\n",
       "      <td>0</td>\n",
       "      <td>7.004029e-07</td>\n",
       "    </tr>\n",
       "  </tbody>\n",
       "</table>\n",
       "<p>500 rows × 8 columns</p>\n",
       "</div>"
      ],
      "text/plain": [
       "        gamma       phi       eta         L          t    biscuit  \\\n",
       "0    0.080946  1.476758  0.001012  0.005894  11.852589  Digestive   \n",
       "1    0.087408  1.477141  0.000984  0.009249  24.793669  Digestive   \n",
       "2    0.062276  1.520534  0.001005  0.004030  28.423407     Hobnob   \n",
       "3    0.075264  1.487706  0.001003  0.004726  21.984085   Rich Tea   \n",
       "4    0.073130  1.554126  0.000995  0.002234  27.632784   Rich Tea   \n",
       "..        ...       ...       ...       ...        ...        ...   \n",
       "495  0.070954  1.447903  0.000996  0.005560  17.524261     Hobnob   \n",
       "496  0.060301  1.466961  0.001004  0.004119  17.604523   Rich Tea   \n",
       "497  0.071658  1.303051  0.001003  0.008497  24.070251   Rich Tea   \n",
       "498  0.084596  1.557367  0.000981  0.003221  24.231107  Digestive   \n",
       "499  0.071386  1.212213  0.001004  0.013988  22.772293  Digestive   \n",
       "\n",
       "    encoded biscuit             r  \n",
       "0                 0  7.797961e-07  \n",
       "1                 0  8.189772e-07  \n",
       "2                 1  3.639434e-07  \n",
       "3                 2  3.198697e-07  \n",
       "4                 2  2.973448e-07  \n",
       "..              ...           ...  \n",
       "495               1  4.176549e-07  \n",
       "496               2  3.187500e-07  \n",
       "497               2  3.194081e-07  \n",
       "498               0  7.453712e-07  \n",
       "499               0  7.004029e-07  \n",
       "\n",
       "[500 rows x 8 columns]"
      ]
     },
     "execution_count": 52,
     "metadata": {},
     "output_type": "execute_result"
    }
   ],
   "source": [
    "training_merged"
   ]
  },
  {
   "cell_type": "code",
   "execution_count": 53,
   "metadata": {},
   "outputs": [
    {
     "data": {
      "application/vnd.microsoft.datawrangler.viewer.v0+json": {
       "columns": [
        {
         "name": "index",
         "rawType": "int64",
         "type": "integer"
        },
        {
         "name": "t",
         "rawType": "float64",
         "type": "float"
        },
        {
         "name": "L",
         "rawType": "float64",
         "type": "float"
        },
        {
         "name": "dL",
         "rawType": "float64",
         "type": "float"
        }
       ],
       "conversionMethod": "pd.DataFrame",
       "ref": "77e3e8fd-057d-4741-8eff-f23dab749ae4",
       "rows": [
        [
         "0",
         "30.0",
         "0.0080873320938145",
         "0.0003922555847071"
        ],
        [
         "1",
         "32.72727272727273",
         "0.00825305124661",
         "0.000270255703816"
        ],
        [
         "2",
         "35.45454545454545",
         "0.0086070301996256",
         "0.0005007710053777"
        ],
        [
         "3",
         "38.18181818181818",
         "0.008920406061043",
         "0.0002667048221534"
        ],
        [
         "4",
         "40.90909090909091",
         "0.0096040691922681",
         "0.0002739676672336"
        ],
        [
         "5",
         "43.63636363636363",
         "0.0096943844271431",
         "0.0002060902632801"
        ],
        [
         "6",
         "46.36363636363636",
         "0.010010750735697",
         "0.0003366652260205"
        ],
        [
         "7",
         "49.09090909090909",
         "0.0104047648970202",
         "0.0002796471610326"
        ],
        [
         "8",
         "51.81818181818181",
         "0.0104930189373605",
         "0.0001576514954345"
        ],
        [
         "9",
         "54.54545454545455",
         "0.010832254013714",
         "0.000154114599941"
        ],
        [
         "10",
         "57.27272727272727",
         "0.0110212985286418",
         "0.000545579146106"
        ],
        [
         "11",
         "60.0",
         "0.0112827535335379",
         "0.0002856918019199"
        ],
        [
         "12",
         "62.72727272727273",
         "0.0116000023627399",
         "0.0004851875788338"
        ],
        [
         "13",
         "65.45454545454545",
         "0.0117844755776893",
         "0.000544587428146"
        ],
        [
         "14",
         "68.18181818181819",
         "0.0121806155939489",
         "0.0003121790373195"
        ],
        [
         "15",
         "70.9090909090909",
         "0.0122020577145113",
         "0.0003687971480242"
        ],
        [
         "16",
         "73.63636363636363",
         "0.0123757342974371",
         "0.0005413033740518"
        ],
        [
         "17",
         "76.36363636363636",
         "0.0128387769303402",
         "0.0003519360889943"
        ],
        [
         "18",
         "79.0909090909091",
         "0.0128341605437827",
         "0.0003447845072336"
        ],
        [
         "19",
         "81.81818181818181",
         "0.0132664664510733",
         "0.0005818394193985"
        ],
        [
         "20",
         "84.54545454545453",
         "0.0134781732574411",
         "0.0003866108945967"
        ],
        [
         "21",
         "87.27272727272727",
         "0.013702816940317",
         "0.0004822458615113"
        ],
        [
         "22",
         "90.0",
         "0.0139365173360145",
         "0.0002301519529471"
        ],
        [
         "23",
         "92.72727272727272",
         "0.0140541710479813",
         "0.0001389118041538"
        ],
        [
         "24",
         "95.45454545454544",
         "0.0142280702531662",
         "0.0003361219759763"
        ],
        [
         "25",
         "98.18181818181816",
         "0.0142944834267835",
         "4.874042114802069e-05"
        ],
        [
         "26",
         "100.9090909090909",
         "0.0145013187386334",
         "0.0007797729700166"
        ],
        [
         "27",
         "103.63636363636364",
         "0.0149319189210071",
         "0.0005830451618161"
        ],
        [
         "28",
         "106.36363636363636",
         "0.0149488745908905",
         "0.0001438597609738"
        ],
        [
         "29",
         "109.09090909090908",
         "0.0153751632561864",
         "0.0003831774040094"
        ],
        [
         "30",
         "111.8181818181818",
         "0.0155449344707246",
         "0.0003192313044255"
        ],
        [
         "31",
         "114.54545454545452",
         "0.0155082744108748",
         "0.0004974328696932"
        ],
        [
         "32",
         "117.27272727272728",
         "0.0159728634579627",
         "0.0006906673158793"
        ],
        [
         "33",
         "120.0",
         "0.0162427955282322",
         "0.0005214543433424"
        ],
        [
         "34",
         "122.72727272727272",
         "0.0164010772506061",
         "8.939860999824872e-05"
        ],
        [
         "35",
         "125.45454545454544",
         "0.0163931253479751",
         "0.0004508769044631"
        ],
        [
         "36",
         "128.1818181818182",
         "0.0167026456909292",
         "0.0001335506683535"
        ],
        [
         "37",
         "130.9090909090909",
         "0.0169441418132469",
         "0.0002850828087823"
        ],
        [
         "38",
         "133.63636363636363",
         "0.0168401574952869",
         "5.889755550735037e-05"
        ],
        [
         "39",
         "136.36363636363637",
         "0.0173063289598562",
         "0.0008295227349005"
        ],
        [
         "40",
         "139.0909090909091",
         "0.0173687800962416",
         "0.0001518164948724"
        ],
        [
         "41",
         "141.8181818181818",
         "0.0176389598014475",
         "0.0001871784575407"
        ],
        [
         "42",
         "144.54545454545453",
         "0.0177645828626464",
         "0.0001587869605604"
        ],
        [
         "43",
         "147.27272727272725",
         "0.0175806564086125",
         "0.0005604475487864"
        ],
        [
         "44",
         "150.0",
         "0.0175317126295176",
         "0.0001037737105761"
        ],
        [
         "45",
         "152.72727272727272",
         "0.0179189779651941",
         "0.00064716056789"
        ],
        [
         "46",
         "155.45454545454544",
         "0.0179232074024572",
         "0.0005378109546626"
        ],
        [
         "47",
         "158.18181818181816",
         "0.0180463676005658",
         "0.0004313153733459"
        ],
        [
         "48",
         "160.9090909090909",
         "0.0186944011690845",
         "0.0004521383015404"
        ],
        [
         "49",
         "163.63636363636363",
         "0.0185205014603008",
         "0.0005329083871072"
        ]
       ],
       "shape": {
        "columns": 3,
        "rows": 100
       }
      },
      "text/html": [
       "<div>\n",
       "<style scoped>\n",
       "    .dataframe tbody tr th:only-of-type {\n",
       "        vertical-align: middle;\n",
       "    }\n",
       "\n",
       "    .dataframe tbody tr th {\n",
       "        vertical-align: top;\n",
       "    }\n",
       "\n",
       "    .dataframe thead th {\n",
       "        text-align: right;\n",
       "    }\n",
       "</style>\n",
       "<table border=\"1\" class=\"dataframe\">\n",
       "  <thead>\n",
       "    <tr style=\"text-align: right;\">\n",
       "      <th></th>\n",
       "      <th>t</th>\n",
       "      <th>L</th>\n",
       "      <th>dL</th>\n",
       "    </tr>\n",
       "  </thead>\n",
       "  <tbody>\n",
       "    <tr>\n",
       "      <th>0</th>\n",
       "      <td>30.000000</td>\n",
       "      <td>0.008087</td>\n",
       "      <td>0.000392</td>\n",
       "    </tr>\n",
       "    <tr>\n",
       "      <th>1</th>\n",
       "      <td>32.727273</td>\n",
       "      <td>0.008253</td>\n",
       "      <td>0.000270</td>\n",
       "    </tr>\n",
       "    <tr>\n",
       "      <th>2</th>\n",
       "      <td>35.454545</td>\n",
       "      <td>0.008607</td>\n",
       "      <td>0.000501</td>\n",
       "    </tr>\n",
       "    <tr>\n",
       "      <th>3</th>\n",
       "      <td>38.181818</td>\n",
       "      <td>0.008920</td>\n",
       "      <td>0.000267</td>\n",
       "    </tr>\n",
       "    <tr>\n",
       "      <th>4</th>\n",
       "      <td>40.909091</td>\n",
       "      <td>0.009604</td>\n",
       "      <td>0.000274</td>\n",
       "    </tr>\n",
       "    <tr>\n",
       "      <th>...</th>\n",
       "      <td>...</td>\n",
       "      <td>...</td>\n",
       "      <td>...</td>\n",
       "    </tr>\n",
       "    <tr>\n",
       "      <th>95</th>\n",
       "      <td>289.090909</td>\n",
       "      <td>0.024948</td>\n",
       "      <td>0.000307</td>\n",
       "    </tr>\n",
       "    <tr>\n",
       "      <th>96</th>\n",
       "      <td>291.818182</td>\n",
       "      <td>0.025015</td>\n",
       "      <td>0.000711</td>\n",
       "    </tr>\n",
       "    <tr>\n",
       "      <th>97</th>\n",
       "      <td>294.545455</td>\n",
       "      <td>0.024558</td>\n",
       "      <td>0.000322</td>\n",
       "    </tr>\n",
       "    <tr>\n",
       "      <th>98</th>\n",
       "      <td>297.272727</td>\n",
       "      <td>0.025243</td>\n",
       "      <td>0.000489</td>\n",
       "    </tr>\n",
       "    <tr>\n",
       "      <th>99</th>\n",
       "      <td>300.000000</td>\n",
       "      <td>0.024784</td>\n",
       "      <td>0.000851</td>\n",
       "    </tr>\n",
       "  </tbody>\n",
       "</table>\n",
       "<p>100 rows × 3 columns</p>\n",
       "</div>"
      ],
      "text/plain": [
       "             t         L        dL\n",
       "0    30.000000  0.008087  0.000392\n",
       "1    32.727273  0.008253  0.000270\n",
       "2    35.454545  0.008607  0.000501\n",
       "3    38.181818  0.008920  0.000267\n",
       "4    40.909091  0.009604  0.000274\n",
       "..         ...       ...       ...\n",
       "95  289.090909  0.024948  0.000307\n",
       "96  291.818182  0.025015  0.000711\n",
       "97  294.545455  0.024558  0.000322\n",
       "98  297.272727  0.025243  0.000489\n",
       "99  300.000000  0.024784  0.000851\n",
       "\n",
       "[100 rows x 3 columns]"
      ]
     },
     "execution_count": 53,
     "metadata": {},
     "output_type": "execute_result"
    }
   ],
   "source": [
    "tr_1"
   ]
  },
  {
   "cell_type": "code",
   "execution_count": 54,
   "metadata": {},
   "outputs": [],
   "source": [
    "\n",
    "from networks import RNNModel, LSTMModel"
   ]
  },
  {
   "cell_type": "markdown",
   "metadata": {},
   "source": [
    "Digestive\n",
    "predicted mean: 8.04e-07\n",
    "true mean: 8.03e-07\n",
    "predicted std: 5.92e-08\n",
    "true std: 5.8e-08\n",
    "\n",
    "Hobnob\n",
    "predicted mean: 5.22e-07\n",
    "true mean: 4.96e-07\n",
    "predicted std: 9.18e-08\n",
    "true std: 8e-08\n",
    "\n",
    "Rich Tea\n",
    "predicted mean: 3.21e-07\n",
    "true mean: 3.04e-07\n",
    "predicted std: 7.89e-08\n",
    "true std: 4.7e-08"
   ]
  },
  {
   "cell_type": "code",
   "execution_count": 143,
   "metadata": {},
   "outputs": [
    {
     "data": {
      "application/vnd.microsoft.datawrangler.viewer.v0+json": {
       "columns": [
        {
         "name": "index",
         "rawType": "int64",
         "type": "integer"
        },
        {
         "name": "t",
         "rawType": "float64",
         "type": "float"
        },
        {
         "name": "L",
         "rawType": "float64",
         "type": "float"
        },
        {
         "name": "dL",
         "rawType": "float64",
         "type": "float"
        },
        {
         "name": "r",
         "rawType": "float64",
         "type": "float"
        }
       ],
       "conversionMethod": "pd.DataFrame",
       "ref": "382d662d-4fae-4feb-b74c-413a544f029d",
       "rows": [
        [
         "0",
         "30.0",
         "0.0080873320938145",
         "0.0003922555847071",
         "5.22e-07"
        ],
        [
         "1",
         "32.72727272727273",
         "0.00825305124661",
         "0.000270255703816",
         "5.22e-07"
        ],
        [
         "2",
         "35.45454545454545",
         "0.0086070301996256",
         "0.0005007710053777",
         "5.22e-07"
        ],
        [
         "3",
         "38.18181818181818",
         "0.008920406061043",
         "0.0002667048221534",
         "5.22e-07"
        ],
        [
         "4",
         "40.90909090909091",
         "0.0096040691922681",
         "0.0002739676672336",
         "5.22e-07"
        ],
        [
         "5",
         "43.63636363636363",
         "0.0096943844271431",
         "0.0002060902632801",
         "5.22e-07"
        ],
        [
         "6",
         "46.36363636363636",
         "0.010010750735697",
         "0.0003366652260205",
         "5.22e-07"
        ],
        [
         "7",
         "49.09090909090909",
         "0.0104047648970202",
         "0.0002796471610326",
         "5.22e-07"
        ],
        [
         "8",
         "51.81818181818181",
         "0.0104930189373605",
         "0.0001576514954345",
         "5.22e-07"
        ],
        [
         "9",
         "54.54545454545455",
         "0.010832254013714",
         "0.000154114599941",
         "5.22e-07"
        ],
        [
         "10",
         "57.27272727272727",
         "0.0110212985286418",
         "0.000545579146106",
         "5.22e-07"
        ],
        [
         "11",
         "60.0",
         "0.0112827535335379",
         "0.0002856918019199",
         "5.22e-07"
        ],
        [
         "12",
         "62.72727272727273",
         "0.0116000023627399",
         "0.0004851875788338",
         "5.22e-07"
        ],
        [
         "13",
         "65.45454545454545",
         "0.0117844755776893",
         "0.000544587428146",
         "5.22e-07"
        ],
        [
         "14",
         "68.18181818181819",
         "0.0121806155939489",
         "0.0003121790373195",
         "5.22e-07"
        ],
        [
         "15",
         "70.9090909090909",
         "0.0122020577145113",
         "0.0003687971480242",
         "5.22e-07"
        ],
        [
         "16",
         "73.63636363636363",
         "0.0123757342974371",
         "0.0005413033740518",
         "5.22e-07"
        ],
        [
         "17",
         "76.36363636363636",
         "0.0128387769303402",
         "0.0003519360889943",
         "5.22e-07"
        ],
        [
         "18",
         "79.0909090909091",
         "0.0128341605437827",
         "0.0003447845072336",
         "5.22e-07"
        ],
        [
         "19",
         "81.81818181818181",
         "0.0132664664510733",
         "0.0005818394193985",
         "5.22e-07"
        ],
        [
         "20",
         "84.54545454545453",
         "0.0134781732574411",
         "0.0003866108945967",
         "5.22e-07"
        ],
        [
         "21",
         "87.27272727272727",
         "0.013702816940317",
         "0.0004822458615113",
         "5.22e-07"
        ],
        [
         "22",
         "90.0",
         "0.0139365173360145",
         "0.0002301519529471",
         "5.22e-07"
        ],
        [
         "23",
         "92.72727272727272",
         "0.0140541710479813",
         "0.0001389118041538",
         "5.22e-07"
        ],
        [
         "24",
         "95.45454545454544",
         "0.0142280702531662",
         "0.0003361219759763",
         "5.22e-07"
        ],
        [
         "25",
         "98.18181818181816",
         "0.0142944834267835",
         "4.874042114802069e-05",
         "5.22e-07"
        ],
        [
         "26",
         "100.9090909090909",
         "0.0145013187386334",
         "0.0007797729700166",
         "5.22e-07"
        ],
        [
         "27",
         "103.63636363636364",
         "0.0149319189210071",
         "0.0005830451618161",
         "5.22e-07"
        ],
        [
         "28",
         "106.36363636363636",
         "0.0149488745908905",
         "0.0001438597609738",
         "5.22e-07"
        ],
        [
         "29",
         "109.09090909090908",
         "0.0153751632561864",
         "0.0003831774040094",
         "5.22e-07"
        ],
        [
         "30",
         "111.8181818181818",
         "0.0155449344707246",
         "0.0003192313044255",
         "5.22e-07"
        ],
        [
         "31",
         "114.54545454545452",
         "0.0155082744108748",
         "0.0004974328696932",
         "5.22e-07"
        ],
        [
         "32",
         "117.27272727272728",
         "0.0159728634579627",
         "0.0006906673158793",
         "5.22e-07"
        ],
        [
         "33",
         "120.0",
         "0.0162427955282322",
         "0.0005214543433424",
         "5.22e-07"
        ],
        [
         "34",
         "122.72727272727272",
         "0.0164010772506061",
         "8.939860999824872e-05",
         "5.22e-07"
        ],
        [
         "35",
         "125.45454545454544",
         "0.0163931253479751",
         "0.0004508769044631",
         "5.22e-07"
        ],
        [
         "36",
         "128.1818181818182",
         "0.0167026456909292",
         "0.0001335506683535",
         "5.22e-07"
        ],
        [
         "37",
         "130.9090909090909",
         "0.0169441418132469",
         "0.0002850828087823",
         "5.22e-07"
        ],
        [
         "38",
         "133.63636363636363",
         "0.0168401574952869",
         "5.889755550735037e-05",
         "5.22e-07"
        ],
        [
         "39",
         "136.36363636363637",
         "0.0173063289598562",
         "0.0008295227349005",
         "5.22e-07"
        ],
        [
         "40",
         "139.0909090909091",
         "0.0173687800962416",
         "0.0001518164948724",
         "5.22e-07"
        ],
        [
         "41",
         "141.8181818181818",
         "0.0176389598014475",
         "0.0001871784575407",
         "5.22e-07"
        ],
        [
         "42",
         "144.54545454545453",
         "0.0177645828626464",
         "0.0001587869605604",
         "5.22e-07"
        ],
        [
         "43",
         "147.27272727272725",
         "0.0175806564086125",
         "0.0005604475487864",
         "5.22e-07"
        ],
        [
         "44",
         "150.0",
         "0.0175317126295176",
         "0.0001037737105761",
         "5.22e-07"
        ],
        [
         "45",
         "152.72727272727272",
         "0.0179189779651941",
         "0.00064716056789",
         "5.22e-07"
        ],
        [
         "46",
         "155.45454545454544",
         "0.0179232074024572",
         "0.0005378109546626",
         "5.22e-07"
        ],
        [
         "47",
         "158.18181818181816",
         "0.0180463676005658",
         "0.0004313153733459",
         "5.22e-07"
        ],
        [
         "48",
         "160.9090909090909",
         "0.0186944011690845",
         "0.0004521383015404",
         "5.22e-07"
        ],
        [
         "49",
         "163.63636363636363",
         "0.0185205014603008",
         "0.0005329083871072",
         "5.22e-07"
        ]
       ],
       "shape": {
        "columns": 4,
        "rows": 100
       }
      },
      "text/html": [
       "<div>\n",
       "<style scoped>\n",
       "    .dataframe tbody tr th:only-of-type {\n",
       "        vertical-align: middle;\n",
       "    }\n",
       "\n",
       "    .dataframe tbody tr th {\n",
       "        vertical-align: top;\n",
       "    }\n",
       "\n",
       "    .dataframe thead th {\n",
       "        text-align: right;\n",
       "    }\n",
       "</style>\n",
       "<table border=\"1\" class=\"dataframe\">\n",
       "  <thead>\n",
       "    <tr style=\"text-align: right;\">\n",
       "      <th></th>\n",
       "      <th>t</th>\n",
       "      <th>L</th>\n",
       "      <th>dL</th>\n",
       "      <th>r</th>\n",
       "    </tr>\n",
       "  </thead>\n",
       "  <tbody>\n",
       "    <tr>\n",
       "      <th>0</th>\n",
       "      <td>30.000000</td>\n",
       "      <td>0.008087</td>\n",
       "      <td>0.000392</td>\n",
       "      <td>5.220000e-07</td>\n",
       "    </tr>\n",
       "    <tr>\n",
       "      <th>1</th>\n",
       "      <td>32.727273</td>\n",
       "      <td>0.008253</td>\n",
       "      <td>0.000270</td>\n",
       "      <td>5.220000e-07</td>\n",
       "    </tr>\n",
       "    <tr>\n",
       "      <th>2</th>\n",
       "      <td>35.454545</td>\n",
       "      <td>0.008607</td>\n",
       "      <td>0.000501</td>\n",
       "      <td>5.220000e-07</td>\n",
       "    </tr>\n",
       "    <tr>\n",
       "      <th>3</th>\n",
       "      <td>38.181818</td>\n",
       "      <td>0.008920</td>\n",
       "      <td>0.000267</td>\n",
       "      <td>5.220000e-07</td>\n",
       "    </tr>\n",
       "    <tr>\n",
       "      <th>4</th>\n",
       "      <td>40.909091</td>\n",
       "      <td>0.009604</td>\n",
       "      <td>0.000274</td>\n",
       "      <td>5.220000e-07</td>\n",
       "    </tr>\n",
       "    <tr>\n",
       "      <th>...</th>\n",
       "      <td>...</td>\n",
       "      <td>...</td>\n",
       "      <td>...</td>\n",
       "      <td>...</td>\n",
       "    </tr>\n",
       "    <tr>\n",
       "      <th>95</th>\n",
       "      <td>289.090909</td>\n",
       "      <td>0.024948</td>\n",
       "      <td>0.000307</td>\n",
       "      <td>5.220000e-07</td>\n",
       "    </tr>\n",
       "    <tr>\n",
       "      <th>96</th>\n",
       "      <td>291.818182</td>\n",
       "      <td>0.025015</td>\n",
       "      <td>0.000711</td>\n",
       "      <td>5.220000e-07</td>\n",
       "    </tr>\n",
       "    <tr>\n",
       "      <th>97</th>\n",
       "      <td>294.545455</td>\n",
       "      <td>0.024558</td>\n",
       "      <td>0.000322</td>\n",
       "      <td>5.220000e-07</td>\n",
       "    </tr>\n",
       "    <tr>\n",
       "      <th>98</th>\n",
       "      <td>297.272727</td>\n",
       "      <td>0.025243</td>\n",
       "      <td>0.000489</td>\n",
       "      <td>5.220000e-07</td>\n",
       "    </tr>\n",
       "    <tr>\n",
       "      <th>99</th>\n",
       "      <td>300.000000</td>\n",
       "      <td>0.024784</td>\n",
       "      <td>0.000851</td>\n",
       "      <td>5.220000e-07</td>\n",
       "    </tr>\n",
       "  </tbody>\n",
       "</table>\n",
       "<p>100 rows × 4 columns</p>\n",
       "</div>"
      ],
      "text/plain": [
       "             t         L        dL             r\n",
       "0    30.000000  0.008087  0.000392  5.220000e-07\n",
       "1    32.727273  0.008253  0.000270  5.220000e-07\n",
       "2    35.454545  0.008607  0.000501  5.220000e-07\n",
       "3    38.181818  0.008920  0.000267  5.220000e-07\n",
       "4    40.909091  0.009604  0.000274  5.220000e-07\n",
       "..         ...       ...       ...           ...\n",
       "95  289.090909  0.024948  0.000307  5.220000e-07\n",
       "96  291.818182  0.025015  0.000711  5.220000e-07\n",
       "97  294.545455  0.024558  0.000322  5.220000e-07\n",
       "98  297.272727  0.025243  0.000489  5.220000e-07\n",
       "99  300.000000  0.024784  0.000851  5.220000e-07\n",
       "\n",
       "[100 rows x 4 columns]"
      ]
     },
     "execution_count": 143,
     "metadata": {},
     "output_type": "execute_result"
    }
   ],
   "source": [
    "tr_1['r'] = 5.22e-7\n",
    "tr_2['r'] = 3.21e-7\n",
    "tr_3['r'] = 8.04e-7\n",
    "tr_1"
   ]
  },
  {
   "cell_type": "code",
   "execution_count": 198,
   "metadata": {},
   "outputs": [],
   "source": [
    "import numpy as np\n",
    "import torch\n",
    "import torch.nn as nn\n",
    "from torch.utils.data import DataLoader, TensorDataset\n",
    "\n",
    "class RNNModel(nn.Module):\n",
    "    \"\"\"\n",
    "    Create a simple RNN model with a single RNN layer, a dropout layer, and a fully connected layer.\n",
    "    \n",
    "    :param input_size: The number of features in the input data.\n",
    "    :param hidden_size: The number of features in the hidden state.\n",
    "    :param output_size: The number of features in the output data.\n",
    "    :param dropout: The dropout rate.\n",
    "    \"\"\"\n",
    "    def __init__(self, input_size=2, hidden_size=32, output_size=1, num_layers=2, dropout=0.2):\n",
    "        super(RNNModel, self).__init__()\n",
    "        \n",
    "        self.rnn = nn.RNN(\n",
    "            input_size=input_size, \n",
    "            hidden_size=hidden_size, \n",
    "            num_layers=num_layers,\n",
    "            batch_first=True,  \n",
    "            nonlinearity='tanh', \n",
    "            bias=True \n",
    "        )\n",
    "        \n",
    "        self.dropout = nn.Dropout(dropout) \n",
    "        self.fc = nn.Linear(hidden_size, output_size)  \n",
    "        \n",
    "    def forward(self, x):\n",
    "        \"\"\"\n",
    "        Forward pass of the RNN model.\n",
    "        \n",
    "        :param x: The input data.\n",
    "        :return: The output data.\n",
    "        \"\"\"\n",
    "        if type(x) is np.ndarray:\n",
    "            x = torch.tensor(x, dtype=torch.float32)[:, np.newaxis]\n",
    "        rnn_out, _ = self.rnn(x)  \n",
    "        rnn_out = self.dropout(rnn_out[:, -1]) \n",
    "        out = torch.sigmoid(self.fc(rnn_out)) \n",
    "        return out\n",
    "    \n",
    "    def perform_training(self, data, labels, epochs=100, lr=0.001):\n",
    "        \"\"\"\n",
    "        Perform training of the RNN model.\n",
    "        \n",
    "        :param data: The input data.\n",
    "        :param labels: The output data.\n",
    "        :param epochs: The number of epochs.\n",
    "        :param lr: The learning rate.\n",
    "        \"\"\"\n",
    "        loss_fn = nn.BCELoss()\n",
    "        optimiser = torch.optim.Adam(self.parameters(), lr=lr)\n",
    "\n",
    "        Xtrain_tensor = torch.tensor(data, dtype=torch.float32)[:, np.newaxis]\n",
    "        ytrain_tensor = torch.tensor(labels, dtype=torch.float32).view(-1, 1)  # Reshape for BCELoss\n",
    "\n",
    "        batch_size = 16\n",
    "        train_dataset = TensorDataset(Xtrain_tensor, ytrain_tensor)\n",
    "        train_loader = DataLoader(train_dataset, batch_size=batch_size, shuffle=True)\n",
    "\n",
    "        for epoch in range(epochs):\n",
    "            self.train()  \n",
    "            running_loss = 0.0\n",
    "            for X_batch, y_batch in train_loader:\n",
    "                optimiser.zero_grad()  \n",
    "                outputs = self(X_batch)  \n",
    "                loss = loss_fn(outputs, y_batch)  \n",
    "                loss.backward()\n",
    "                optimiser.step()  \n",
    "                running_loss += loss.item()\n",
    "            \n",
    "            avg_loss = running_loss / len(train_loader) \n",
    "            print(f\"Epoch {epoch+1}/{epochs}, Loss: {avg_loss:.4f}\")\n",
    "\n",
    "class LSTMModel(nn.Module):\n",
    "    \"\"\"\n",
    "    Create a simple LSTM model with a single LSTM layer, a dropout layer, and a fully connected layer.\n",
    "    \n",
    "    :param input_size: The number of features in the input data.\n",
    "    :param hidden_size: The number of features in the hidden state.\n",
    "    :param output_size: The number of features in the output data.\n",
    "    :param dropout: The dropout rate.\n",
    "    :param initial_bias: The initial bias for the fully connected layer.\n",
    "    \"\"\"\n",
    "    def __init__(self, input_size=2, hidden_size=32, output_size=1, num_layers=2, dropout=0.2):\n",
    "        super(LSTMModel, self).__init__()\n",
    "        \n",
    "        self.lstm = nn.LSTM(\n",
    "            input_size=input_size,  \n",
    "            hidden_size=hidden_size,\n",
    "            num_layers=num_layers,\n",
    "            batch_first=True,  \n",
    "            bias=True  \n",
    "        )\n",
    "        \n",
    "        self.dropout = nn.Dropout(dropout)  \n",
    "        self.fc = nn.Linear(hidden_size, output_size)  \n",
    "        \n",
    "        nn.init.zeros_(self.fc.bias)\n",
    "        \n",
    "    def forward(self, x):\n",
    "        \"\"\"\n",
    "        Forward pass of the LSTM model.\n",
    "        \n",
    "        :param x: The input data.\n",
    "        :return: The output data.\n",
    "        \"\"\"\n",
    "        if type(x) is np.ndarray:\n",
    "            x = torch.tensor(x, dtype=torch.float32)[:, np.newaxis]\n",
    "        lstm_out, _ = self.lstm(x) \n",
    "        lstm_out = self.dropout(lstm_out[:, -1])  \n",
    "        out = torch.sigmoid(self.fc(lstm_out))  \n",
    "        return out\n",
    "\n",
    "    def perform_training(self, data, labels, epochs=100, lr=0.001):\n",
    "        \"\"\"\n",
    "        Perform training of the LSTM model.\n",
    "        \n",
    "        :param data: The input data.\n",
    "        :param labels: The output data.\n",
    "        :param epochs: The number of epochs.\n",
    "        :param lr: The learning rate.\n",
    "        \"\"\"\n",
    "        criterion = nn.BCELoss()  \n",
    "        optimizer = torch.optim.Adam(self.parameters(), lr=lr)\n",
    "        batch_size = 16\n",
    "\n",
    "        Xtrain_tensor = torch.tensor(data, dtype=torch.float32)[:, np.newaxis]\n",
    "        ytrain_tensor = torch.tensor(labels, dtype=torch.float32).view(-1, 1)  # Reshape for BCELoss\n",
    "\n",
    "        train_dataset = TensorDataset(Xtrain_tensor, ytrain_tensor)\n",
    "        train_loader = DataLoader(train_dataset, batch_size=batch_size, shuffle=True)\n",
    "\n",
    "        for epoch in range(epochs):\n",
    "            self.train()\n",
    "            running_loss = 0.0\n",
    "            for X_batch, y_batch in train_loader:\n",
    "                optimizer.zero_grad()  \n",
    "                outputs = self(X_batch)  \n",
    "                loss = criterion(outputs, y_batch) \n",
    "                loss.backward() \n",
    "                optimizer.step() \n",
    "                running_loss += loss.item()\n",
    "            \n",
    "            avg_loss = running_loss / len(train_loader)\n",
    "            print(f\"Epoch {epoch+1}/{epochs}, Loss: {avg_loss:.4f}\")"
   ]
  },
  {
   "cell_type": "code",
   "execution_count": 199,
   "metadata": {},
   "outputs": [
    {
     "data": {
      "application/vnd.microsoft.datawrangler.viewer.v0+json": {
       "columns": [
        {
         "name": "index",
         "rawType": "int64",
         "type": "integer"
        },
        {
         "name": "t",
         "rawType": "float64",
         "type": "float"
        },
        {
         "name": "L",
         "rawType": "float64",
         "type": "float"
        },
        {
         "name": "dL",
         "rawType": "float64",
         "type": "float"
        },
        {
         "name": "r",
         "rawType": "float64",
         "type": "float"
        }
       ],
       "conversionMethod": "pd.DataFrame",
       "ref": "26e3c55c-d966-4870-9d48-a088deea07f5",
       "rows": [
        [
         "0",
         "30.0",
         "0.0080873320938145",
         "0.0003922555847071",
         "5.22e-07"
        ],
        [
         "1",
         "32.72727272727273",
         "0.00825305124661",
         "0.000270255703816",
         "5.22e-07"
        ],
        [
         "2",
         "35.45454545454545",
         "0.0086070301996256",
         "0.0005007710053777",
         "5.22e-07"
        ],
        [
         "3",
         "38.18181818181818",
         "0.008920406061043",
         "0.0002667048221534",
         "5.22e-07"
        ],
        [
         "4",
         "40.90909090909091",
         "0.0096040691922681",
         "0.0002739676672336",
         "5.22e-07"
        ],
        [
         "5",
         "43.63636363636363",
         "0.0096943844271431",
         "0.0002060902632801",
         "5.22e-07"
        ],
        [
         "6",
         "46.36363636363636",
         "0.010010750735697",
         "0.0003366652260205",
         "5.22e-07"
        ],
        [
         "7",
         "49.09090909090909",
         "0.0104047648970202",
         "0.0002796471610326",
         "5.22e-07"
        ],
        [
         "8",
         "51.81818181818181",
         "0.0104930189373605",
         "0.0001576514954345",
         "5.22e-07"
        ],
        [
         "9",
         "54.54545454545455",
         "0.010832254013714",
         "0.000154114599941",
         "5.22e-07"
        ],
        [
         "10",
         "57.27272727272727",
         "0.0110212985286418",
         "0.000545579146106",
         "5.22e-07"
        ],
        [
         "11",
         "60.0",
         "0.0112827535335379",
         "0.0002856918019199",
         "5.22e-07"
        ],
        [
         "12",
         "62.72727272727273",
         "0.0116000023627399",
         "0.0004851875788338",
         "5.22e-07"
        ],
        [
         "13",
         "65.45454545454545",
         "0.0117844755776893",
         "0.000544587428146",
         "5.22e-07"
        ],
        [
         "14",
         "68.18181818181819",
         "0.0121806155939489",
         "0.0003121790373195",
         "5.22e-07"
        ],
        [
         "15",
         "70.9090909090909",
         "0.0122020577145113",
         "0.0003687971480242",
         "5.22e-07"
        ],
        [
         "16",
         "73.63636363636363",
         "0.0123757342974371",
         "0.0005413033740518",
         "5.22e-07"
        ],
        [
         "17",
         "76.36363636363636",
         "0.0128387769303402",
         "0.0003519360889943",
         "5.22e-07"
        ],
        [
         "18",
         "79.0909090909091",
         "0.0128341605437827",
         "0.0003447845072336",
         "5.22e-07"
        ],
        [
         "19",
         "81.81818181818181",
         "0.0132664664510733",
         "0.0005818394193985",
         "5.22e-07"
        ],
        [
         "20",
         "84.54545454545453",
         "0.0134781732574411",
         "0.0003866108945967",
         "5.22e-07"
        ],
        [
         "21",
         "87.27272727272727",
         "0.013702816940317",
         "0.0004822458615113",
         "5.22e-07"
        ],
        [
         "22",
         "90.0",
         "0.0139365173360145",
         "0.0002301519529471",
         "5.22e-07"
        ],
        [
         "23",
         "92.72727272727272",
         "0.0140541710479813",
         "0.0001389118041538",
         "5.22e-07"
        ],
        [
         "24",
         "95.45454545454544",
         "0.0142280702531662",
         "0.0003361219759763",
         "5.22e-07"
        ],
        [
         "25",
         "98.18181818181816",
         "0.0142944834267835",
         "4.874042114802069e-05",
         "5.22e-07"
        ],
        [
         "26",
         "100.9090909090909",
         "0.0145013187386334",
         "0.0007797729700166",
         "5.22e-07"
        ],
        [
         "27",
         "103.63636363636364",
         "0.0149319189210071",
         "0.0005830451618161",
         "5.22e-07"
        ],
        [
         "28",
         "106.36363636363636",
         "0.0149488745908905",
         "0.0001438597609738",
         "5.22e-07"
        ],
        [
         "29",
         "109.09090909090908",
         "0.0153751632561864",
         "0.0003831774040094",
         "5.22e-07"
        ],
        [
         "30",
         "111.8181818181818",
         "0.0155449344707246",
         "0.0003192313044255",
         "5.22e-07"
        ],
        [
         "31",
         "114.54545454545452",
         "0.0155082744108748",
         "0.0004974328696932",
         "5.22e-07"
        ],
        [
         "32",
         "117.27272727272728",
         "0.0159728634579627",
         "0.0006906673158793",
         "5.22e-07"
        ],
        [
         "33",
         "120.0",
         "0.0162427955282322",
         "0.0005214543433424",
         "5.22e-07"
        ],
        [
         "34",
         "122.72727272727272",
         "0.0164010772506061",
         "8.939860999824872e-05",
         "5.22e-07"
        ],
        [
         "35",
         "125.45454545454544",
         "0.0163931253479751",
         "0.0004508769044631",
         "5.22e-07"
        ],
        [
         "36",
         "128.1818181818182",
         "0.0167026456909292",
         "0.0001335506683535",
         "5.22e-07"
        ],
        [
         "37",
         "130.9090909090909",
         "0.0169441418132469",
         "0.0002850828087823",
         "5.22e-07"
        ],
        [
         "38",
         "133.63636363636363",
         "0.0168401574952869",
         "5.889755550735037e-05",
         "5.22e-07"
        ],
        [
         "39",
         "136.36363636363637",
         "0.0173063289598562",
         "0.0008295227349005",
         "5.22e-07"
        ],
        [
         "40",
         "139.0909090909091",
         "0.0173687800962416",
         "0.0001518164948724",
         "5.22e-07"
        ],
        [
         "41",
         "141.8181818181818",
         "0.0176389598014475",
         "0.0001871784575407",
         "5.22e-07"
        ],
        [
         "42",
         "144.54545454545453",
         "0.0177645828626464",
         "0.0001587869605604",
         "5.22e-07"
        ],
        [
         "43",
         "147.27272727272725",
         "0.0175806564086125",
         "0.0005604475487864",
         "5.22e-07"
        ],
        [
         "44",
         "150.0",
         "0.0175317126295176",
         "0.0001037737105761",
         "5.22e-07"
        ],
        [
         "45",
         "152.72727272727272",
         "0.0179189779651941",
         "0.00064716056789",
         "5.22e-07"
        ],
        [
         "46",
         "155.45454545454544",
         "0.0179232074024572",
         "0.0005378109546626",
         "5.22e-07"
        ],
        [
         "47",
         "158.18181818181816",
         "0.0180463676005658",
         "0.0004313153733459",
         "5.22e-07"
        ],
        [
         "48",
         "160.9090909090909",
         "0.0186944011690845",
         "0.0004521383015404",
         "5.22e-07"
        ],
        [
         "49",
         "163.63636363636363",
         "0.0185205014603008",
         "0.0005329083871072",
         "5.22e-07"
        ]
       ],
       "shape": {
        "columns": 4,
        "rows": 210
       }
      },
      "text/html": [
       "<div>\n",
       "<style scoped>\n",
       "    .dataframe tbody tr th:only-of-type {\n",
       "        vertical-align: middle;\n",
       "    }\n",
       "\n",
       "    .dataframe tbody tr th {\n",
       "        vertical-align: top;\n",
       "    }\n",
       "\n",
       "    .dataframe thead th {\n",
       "        text-align: right;\n",
       "    }\n",
       "</style>\n",
       "<table border=\"1\" class=\"dataframe\">\n",
       "  <thead>\n",
       "    <tr style=\"text-align: right;\">\n",
       "      <th></th>\n",
       "      <th>t</th>\n",
       "      <th>L</th>\n",
       "      <th>dL</th>\n",
       "      <th>r</th>\n",
       "    </tr>\n",
       "  </thead>\n",
       "  <tbody>\n",
       "    <tr>\n",
       "      <th>0</th>\n",
       "      <td>30.000000</td>\n",
       "      <td>0.008087</td>\n",
       "      <td>0.000392</td>\n",
       "      <td>5.220000e-07</td>\n",
       "    </tr>\n",
       "    <tr>\n",
       "      <th>1</th>\n",
       "      <td>32.727273</td>\n",
       "      <td>0.008253</td>\n",
       "      <td>0.000270</td>\n",
       "      <td>5.220000e-07</td>\n",
       "    </tr>\n",
       "    <tr>\n",
       "      <th>2</th>\n",
       "      <td>35.454545</td>\n",
       "      <td>0.008607</td>\n",
       "      <td>0.000501</td>\n",
       "      <td>5.220000e-07</td>\n",
       "    </tr>\n",
       "    <tr>\n",
       "      <th>3</th>\n",
       "      <td>38.181818</td>\n",
       "      <td>0.008920</td>\n",
       "      <td>0.000267</td>\n",
       "      <td>5.220000e-07</td>\n",
       "    </tr>\n",
       "    <tr>\n",
       "      <th>4</th>\n",
       "      <td>40.909091</td>\n",
       "      <td>0.009604</td>\n",
       "      <td>0.000274</td>\n",
       "      <td>5.220000e-07</td>\n",
       "    </tr>\n",
       "    <tr>\n",
       "      <th>...</th>\n",
       "      <td>...</td>\n",
       "      <td>...</td>\n",
       "      <td>...</td>\n",
       "      <td>...</td>\n",
       "    </tr>\n",
       "    <tr>\n",
       "      <th>65</th>\n",
       "      <td>207.272727</td>\n",
       "      <td>0.029774</td>\n",
       "      <td>0.000282</td>\n",
       "      <td>8.040000e-07</td>\n",
       "    </tr>\n",
       "    <tr>\n",
       "      <th>66</th>\n",
       "      <td>210.000000</td>\n",
       "      <td>0.029423</td>\n",
       "      <td>0.000642</td>\n",
       "      <td>8.040000e-07</td>\n",
       "    </tr>\n",
       "    <tr>\n",
       "      <th>67</th>\n",
       "      <td>212.727273</td>\n",
       "      <td>0.029571</td>\n",
       "      <td>0.000431</td>\n",
       "      <td>8.040000e-07</td>\n",
       "    </tr>\n",
       "    <tr>\n",
       "      <th>68</th>\n",
       "      <td>215.454545</td>\n",
       "      <td>0.029502</td>\n",
       "      <td>0.000748</td>\n",
       "      <td>8.040000e-07</td>\n",
       "    </tr>\n",
       "    <tr>\n",
       "      <th>69</th>\n",
       "      <td>218.181818</td>\n",
       "      <td>0.029935</td>\n",
       "      <td>0.000336</td>\n",
       "      <td>8.040000e-07</td>\n",
       "    </tr>\n",
       "  </tbody>\n",
       "</table>\n",
       "<p>210 rows × 4 columns</p>\n",
       "</div>"
      ],
      "text/plain": [
       "             t         L        dL             r\n",
       "0    30.000000  0.008087  0.000392  5.220000e-07\n",
       "1    32.727273  0.008253  0.000270  5.220000e-07\n",
       "2    35.454545  0.008607  0.000501  5.220000e-07\n",
       "3    38.181818  0.008920  0.000267  5.220000e-07\n",
       "4    40.909091  0.009604  0.000274  5.220000e-07\n",
       "..         ...       ...       ...           ...\n",
       "65  207.272727  0.029774  0.000282  8.040000e-07\n",
       "66  210.000000  0.029423  0.000642  8.040000e-07\n",
       "67  212.727273  0.029571  0.000431  8.040000e-07\n",
       "68  215.454545  0.029502  0.000748  8.040000e-07\n",
       "69  218.181818  0.029935  0.000336  8.040000e-07\n",
       "\n",
       "[210 rows x 4 columns]"
      ]
     },
     "execution_count": 199,
     "metadata": {},
     "output_type": "execute_result"
    }
   ],
   "source": [
    "tr_combined = pd.concat([tr_1.iloc[:70], tr_2.iloc[:70], tr_3.iloc[:70]])\n",
    "# tr_combined = pd.concat([tr_1, tr_2])\n",
    "tr_combined"
   ]
  },
  {
   "cell_type": "code",
   "execution_count": 200,
   "metadata": {},
   "outputs": [
    {
     "name": "stdout",
     "output_type": "stream",
     "text": [
      "Epoch 1/100, Loss: 0.4783\n",
      "Epoch 2/100, Loss: 0.2167\n",
      "Epoch 3/100, Loss: 0.1362\n",
      "Epoch 4/100, Loss: 0.1093\n",
      "Epoch 5/100, Loss: 0.0987\n",
      "Epoch 6/100, Loss: 0.0935\n",
      "Epoch 7/100, Loss: 0.0914\n",
      "Epoch 8/100, Loss: 0.0893\n",
      "Epoch 9/100, Loss: 0.0879\n",
      "Epoch 10/100, Loss: 0.0871\n",
      "Epoch 11/100, Loss: 0.0858\n",
      "Epoch 12/100, Loss: 0.0881\n",
      "Epoch 13/100, Loss: 0.0863\n",
      "Epoch 14/100, Loss: 0.0848\n",
      "Epoch 15/100, Loss: 0.0855\n",
      "Epoch 16/100, Loss: 0.0865\n",
      "Epoch 17/100, Loss: 0.0871\n",
      "Epoch 18/100, Loss: 0.0840\n",
      "Epoch 19/100, Loss: 0.0838\n",
      "Epoch 20/100, Loss: 0.0847\n",
      "Epoch 21/100, Loss: 0.0858\n",
      "Epoch 22/100, Loss: 0.0854\n",
      "Epoch 23/100, Loss: 0.0855\n",
      "Epoch 24/100, Loss: 0.0839\n",
      "Epoch 25/100, Loss: 0.0844\n",
      "Epoch 26/100, Loss: 0.0850\n",
      "Epoch 27/100, Loss: 0.0863\n",
      "Epoch 28/100, Loss: 0.0843\n",
      "Epoch 29/100, Loss: 0.0857\n",
      "Epoch 30/100, Loss: 0.0863\n",
      "Epoch 31/100, Loss: 0.0877\n",
      "Epoch 32/100, Loss: 0.0863\n",
      "Epoch 33/100, Loss: 0.0853\n",
      "Epoch 34/100, Loss: 0.0850\n",
      "Epoch 35/100, Loss: 0.0837\n",
      "Epoch 36/100, Loss: 0.0866\n",
      "Epoch 37/100, Loss: 0.0871\n",
      "Epoch 38/100, Loss: 0.0854\n",
      "Epoch 39/100, Loss: 0.0862\n",
      "Epoch 40/100, Loss: 0.0847\n",
      "Epoch 41/100, Loss: 0.0851\n",
      "Epoch 42/100, Loss: 0.0857\n",
      "Epoch 43/100, Loss: 0.0859\n",
      "Epoch 44/100, Loss: 0.0844\n",
      "Epoch 45/100, Loss: 0.0851\n",
      "Epoch 46/100, Loss: 0.0843\n",
      "Epoch 47/100, Loss: 0.0844\n",
      "Epoch 48/100, Loss: 0.0860\n",
      "Epoch 49/100, Loss: 0.0868\n",
      "Epoch 50/100, Loss: 0.0833\n",
      "Epoch 51/100, Loss: 0.0856\n",
      "Epoch 52/100, Loss: 0.0840\n",
      "Epoch 53/100, Loss: 0.0860\n",
      "Epoch 54/100, Loss: 0.0844\n",
      "Epoch 55/100, Loss: 0.0839\n",
      "Epoch 56/100, Loss: 0.0843\n",
      "Epoch 57/100, Loss: 0.0869\n",
      "Epoch 58/100, Loss: 0.0848\n",
      "Epoch 59/100, Loss: 0.0836\n",
      "Epoch 60/100, Loss: 0.0870\n",
      "Epoch 61/100, Loss: 0.0868\n",
      "Epoch 62/100, Loss: 0.0857\n",
      "Epoch 63/100, Loss: 0.0833\n",
      "Epoch 64/100, Loss: 0.0840\n",
      "Epoch 65/100, Loss: 0.0852\n",
      "Epoch 66/100, Loss: 0.0858\n",
      "Epoch 67/100, Loss: 0.0856\n",
      "Epoch 68/100, Loss: 0.0847\n",
      "Epoch 69/100, Loss: 0.0830\n",
      "Epoch 70/100, Loss: 0.0846\n",
      "Epoch 71/100, Loss: 0.0853\n",
      "Epoch 72/100, Loss: 0.0883\n",
      "Epoch 73/100, Loss: 0.0859\n",
      "Epoch 74/100, Loss: 0.0869\n",
      "Epoch 75/100, Loss: 0.0846\n",
      "Epoch 76/100, Loss: 0.0867\n",
      "Epoch 77/100, Loss: 0.0849\n",
      "Epoch 78/100, Loss: 0.0859\n",
      "Epoch 79/100, Loss: 0.0841\n",
      "Epoch 80/100, Loss: 0.0844\n",
      "Epoch 81/100, Loss: 0.0863\n",
      "Epoch 82/100, Loss: 0.0851\n",
      "Epoch 83/100, Loss: 0.0855\n",
      "Epoch 84/100, Loss: 0.0841\n",
      "Epoch 85/100, Loss: 0.0843\n",
      "Epoch 86/100, Loss: 0.0842\n",
      "Epoch 87/100, Loss: 0.0845\n",
      "Epoch 88/100, Loss: 0.0854\n",
      "Epoch 89/100, Loss: 0.0845\n",
      "Epoch 90/100, Loss: 0.0848\n",
      "Epoch 91/100, Loss: 0.0876\n",
      "Epoch 92/100, Loss: 0.0865\n",
      "Epoch 93/100, Loss: 0.0843\n",
      "Epoch 94/100, Loss: 0.0835\n",
      "Epoch 95/100, Loss: 0.0853\n",
      "Epoch 96/100, Loss: 0.0849\n",
      "Epoch 97/100, Loss: 0.0851\n",
      "Epoch 98/100, Loss: 0.0855\n",
      "Epoch 99/100, Loss: 0.0858\n",
      "Epoch 100/100, Loss: 0.0880\n",
      "Epoch 1/100, Loss: 0.6723\n",
      "Epoch 2/100, Loss: 0.5935\n",
      "Epoch 3/100, Loss: 0.4969\n",
      "Epoch 4/100, Loss: 0.3817\n",
      "Epoch 5/100, Loss: 0.2539\n",
      "Epoch 6/100, Loss: 0.1691\n",
      "Epoch 7/100, Loss: 0.1233\n",
      "Epoch 8/100, Loss: 0.1008\n",
      "Epoch 9/100, Loss: 0.0927\n",
      "Epoch 10/100, Loss: 0.0867\n",
      "Epoch 11/100, Loss: 0.0857\n",
      "Epoch 12/100, Loss: 0.0848\n",
      "Epoch 13/100, Loss: 0.0861\n",
      "Epoch 14/100, Loss: 0.0842\n",
      "Epoch 15/100, Loss: 0.0852\n",
      "Epoch 16/100, Loss: 0.0862\n",
      "Epoch 17/100, Loss: 0.0873\n",
      "Epoch 18/100, Loss: 0.0845\n",
      "Epoch 19/100, Loss: 0.0848\n",
      "Epoch 20/100, Loss: 0.0870\n",
      "Epoch 21/100, Loss: 0.0845\n",
      "Epoch 22/100, Loss: 0.0854\n",
      "Epoch 23/100, Loss: 0.0870\n",
      "Epoch 24/100, Loss: 0.0840\n",
      "Epoch 25/100, Loss: 0.0847\n",
      "Epoch 26/100, Loss: 0.0844\n",
      "Epoch 27/100, Loss: 0.0842\n",
      "Epoch 28/100, Loss: 0.0841\n",
      "Epoch 29/100, Loss: 0.0853\n",
      "Epoch 30/100, Loss: 0.0868\n",
      "Epoch 31/100, Loss: 0.0854\n",
      "Epoch 32/100, Loss: 0.0833\n",
      "Epoch 33/100, Loss: 0.0863\n",
      "Epoch 34/100, Loss: 0.0852\n",
      "Epoch 35/100, Loss: 0.0842\n",
      "Epoch 36/100, Loss: 0.0838\n",
      "Epoch 37/100, Loss: 0.0857\n",
      "Epoch 38/100, Loss: 0.0858\n",
      "Epoch 39/100, Loss: 0.0846\n",
      "Epoch 40/100, Loss: 0.0862\n",
      "Epoch 41/100, Loss: 0.0854\n",
      "Epoch 42/100, Loss: 0.0858\n",
      "Epoch 43/100, Loss: 0.0865\n",
      "Epoch 44/100, Loss: 0.0844\n",
      "Epoch 45/100, Loss: 0.0850\n",
      "Epoch 46/100, Loss: 0.0841\n",
      "Epoch 47/100, Loss: 0.0877\n",
      "Epoch 48/100, Loss: 0.0861\n",
      "Epoch 49/100, Loss: 0.0850\n",
      "Epoch 50/100, Loss: 0.0851\n",
      "Epoch 51/100, Loss: 0.0847\n",
      "Epoch 52/100, Loss: 0.0846\n",
      "Epoch 53/100, Loss: 0.0847\n",
      "Epoch 54/100, Loss: 0.0852\n",
      "Epoch 55/100, Loss: 0.0873\n",
      "Epoch 56/100, Loss: 0.0839\n",
      "Epoch 57/100, Loss: 0.0832\n",
      "Epoch 58/100, Loss: 0.0837\n",
      "Epoch 59/100, Loss: 0.0861\n",
      "Epoch 60/100, Loss: 0.0856\n",
      "Epoch 61/100, Loss: 0.0846\n",
      "Epoch 62/100, Loss: 0.0878\n",
      "Epoch 63/100, Loss: 0.0867\n",
      "Epoch 64/100, Loss: 0.0836\n",
      "Epoch 65/100, Loss: 0.0845\n",
      "Epoch 66/100, Loss: 0.0825\n",
      "Epoch 67/100, Loss: 0.0850\n",
      "Epoch 68/100, Loss: 0.0834\n",
      "Epoch 69/100, Loss: 0.0836\n",
      "Epoch 70/100, Loss: 0.0849\n",
      "Epoch 71/100, Loss: 0.0857\n",
      "Epoch 72/100, Loss: 0.0825\n",
      "Epoch 73/100, Loss: 0.0851\n",
      "Epoch 74/100, Loss: 0.0840\n",
      "Epoch 75/100, Loss: 0.0827\n",
      "Epoch 76/100, Loss: 0.0850\n",
      "Epoch 77/100, Loss: 0.0860\n",
      "Epoch 78/100, Loss: 0.0836\n",
      "Epoch 79/100, Loss: 0.0864\n",
      "Epoch 80/100, Loss: 0.0845\n",
      "Epoch 81/100, Loss: 0.0856\n",
      "Epoch 82/100, Loss: 0.0838\n",
      "Epoch 83/100, Loss: 0.0841\n",
      "Epoch 84/100, Loss: 0.0837\n",
      "Epoch 85/100, Loss: 0.0853\n",
      "Epoch 86/100, Loss: 0.0870\n",
      "Epoch 87/100, Loss: 0.0833\n",
      "Epoch 88/100, Loss: 0.0837\n",
      "Epoch 89/100, Loss: 0.0838\n",
      "Epoch 90/100, Loss: 0.0858\n",
      "Epoch 91/100, Loss: 0.0842\n",
      "Epoch 92/100, Loss: 0.0836\n",
      "Epoch 93/100, Loss: 0.0840\n",
      "Epoch 94/100, Loss: 0.0853\n",
      "Epoch 95/100, Loss: 0.0835\n",
      "Epoch 96/100, Loss: 0.0850\n",
      "Epoch 97/100, Loss: 0.0851\n",
      "Epoch 98/100, Loss: 0.0861\n",
      "Epoch 99/100, Loss: 0.0856\n",
      "Epoch 100/100, Loss: 0.0842\n"
     ]
    }
   ],
   "source": [
    "import pandas as pd\n",
    "\n",
    "# train, test = train_test_split(tr_combined, test_size=0.3)\n",
    "\n",
    "t_train = tr_combined[['t', 'r']]\n",
    "L_train = tr_combined['L']\n",
    "# t_test = test[['t', 'r']]\n",
    "# L_test = test['L']\n",
    "\n",
    "rnn = RNNModel()\n",
    "rnn.perform_training(t_train.values, L_train.values, epochs=100)\n",
    "lstm = LSTMModel()\n",
    "lstm.perform_training(t_train.values, L_train.values, epochs=100)\n",
    "\n",
    "rnn.eval()\n",
    "rnn_y_pred = rnn.forward(tr_2[['t', 'r']].iloc[50:].values).detach().numpy().reshape(-1)\n",
    "# rnn_y_pred = rnn.forward(t_test.values).reshape(-1)\n",
    "lstm.eval()\n",
    "lstm_y_pred = lstm.forward(tr_2[['t', 'r']].iloc[50:].values).detach().numpy().reshape(-1)\n",
    "# lstm_y_pred = lstm.forward(t_test.values).reshape(-1)\n"
   ]
  },
  {
   "cell_type": "code",
   "execution_count": 201,
   "metadata": {},
   "outputs": [
    {
     "data": {
      "image/png": "[encoded data removed]",
      "text/plain": [
       "<Figure size 640x480 with 1 Axes>"
      ]
     },
     "metadata": {},
     "output_type": "display_data"
    }
   ],
   "source": [
    "import matplotlib.pyplot as plt\n",
    "plt.plot(tr_1['t'].iloc[50:], rnn_y_pred, '.', label='RNN')\n",
    "plt.plot(tr_combined['t'], tr_combined['L'], '.')\n",
    "plt.plot(tr_2['t'].iloc[50:], lstm_y_pred, '.', label='LSTM')\n",
    "plt.plot(tr_2['t'], tr_2['L'])\n",
    "plt.legend()\n",
    "plt.show()"
   ]
  },
  {
   "cell_type": "markdown",
   "metadata": {},
   "source": [
    "#### comparison of models"
   ]
  },
  {
   "cell_type": "code",
   "execution_count": 325,
   "metadata": {},
   "outputs": [],
   "source": [
    "import numpy as np\n",
    "from scipy.stats import norm\n",
    "\n",
    "data = pd.read_csv(\"tr-2.csv\")\n",
    "\n",
    "data_distribution = [norm(loc=loc, scale=scale) for loc, scale in zip(data['L'], data['dL'])]\n",
    "\n",
    "def likelihood(params, model):\n",
    "    \"\"\"\n",
    "    A general likelihood function for a model with Gaussian errors.\n",
    "    \n",
    "    :param params: The parameters of the model.\n",
    "    :param model: The model function.\n",
    "    \n",
    "    :return: The likelihood of the model given the data.\n",
    "    \"\"\"\n",
    "    model_y = model(data['t'], params)\n",
    "    return np.sum([d.logpdf(m) for d, m in zip(data_distribution, model_y)])"
   ]
  },
  {
   "cell_type": "markdown",
   "metadata": {},
   "source": [
    "Digestive\n",
    "predicted mean: 7.882179806307386e-07\n",
    "true mean: 8.034291866766941e-07\n",
    "predicted std: 8.18019913091328e-08\n",
    "true std: 5.8005888939756295e-08\n",
    "\n",
    "Hobnob\n",
    "predicted mean: 5.165290698477061e-07\n",
    "true mean: 4.96368880029679e-07\n",
    "predicted std: 1.0527615756955756e-07\n",
    "true std: 8.003103851757349e-08\n",
    "\n",
    "Rich Tea\n",
    "predicted mean: 3.297195784056182e-07\n",
    "true mean: 3.038970573515411e-07\n",
    "predicted std: 1.0690429827239919e-07\n",
    "true std: 4.70262511627653e-08"
   ]
  },
  {
   "cell_type": "code",
   "execution_count": 326,
   "metadata": {},
   "outputs": [],
   "source": [
    "from scipy.stats import uniform, norm\n",
    "\n",
    "# priors about radius mean/ std\n",
    "tr3_priors = []  # distribution of radius\n"
   ]
  },
  {
   "cell_type": "code",
   "execution_count": 327,
   "metadata": {},
   "outputs": [],
   "source": [
    "def prior_transform_one(u):\n",
    "    \"\"\"\n",
    "    Transform the uniform random variables `u` to the model parameters.\n",
    "    \n",
    "    :param u: Uniform random variables\n",
    "    \n",
    "    :return: Model parameters\n",
    "    \"\"\"\n",
    "    return [p.ppf(u_) for p, u_ in zip(tr3_priors, u)]"
   ]
  },
  {
   "cell_type": "code",
   "execution_count": 328,
   "metadata": {},
   "outputs": [],
   "source": [
    "def washburn(gamma,r,t,phi,eta):\n",
    "    \"\"\"\n",
    "    REDO\n",
    "    A first order rate equation.\n",
    "    \n",
    "    :param gamma: The time to evaluate the rate equation at.\n",
    "    :param r: The rate constant.\n",
    "    :param t: The initial concentration of A.\n",
    "    :param phi: The initial concentration of A.\n",
    "    :param eta: The initial concentration of A.\n",
    "    \n",
    "    :return: The concentration of A at time t.\n",
    "    \"\"\"\n",
    "    \n",
    "    numerator = gamma*r*t*np.cos(phi)\n",
    "    denominator = 2*eta\n",
    "    \n",
    "    L = np.sqrt(numerator / denominator)\n",
    "    \n",
    "    # L at time t\n",
    "    return L"
   ]
  },
  {
   "cell_type": "code",
   "execution_count": 329,
   "metadata": {},
   "outputs": [],
   "source": [
    "def model_one(t, params):\n",
    "    \"\"\"\n",
    "    A simpler single Gaussian model.\n",
    "    \n",
    "    :param t: The x values\n",
    "    :param params: The model parameters\n",
    "    \n",
    "    :return: The y values\n",
    "    \"\"\"\n",
    "    t=t.values.reshape(-1,1)\n",
    "    r = 7.88e-07\n",
    "    # print(t)\n",
    "    # print(params[0])\n",
    "    gamma=6.78e-2\n",
    "    phi=1.45\n",
    "    eta=9.93e-4 \n",
    "    \n",
    "    L = washburn(gamma,r,t,phi,eta)\n",
    "    \n",
    "    # L at time t.\n",
    "    return L"
   ]
  },
  {
   "cell_type": "code",
   "execution_count": 330,
   "metadata": {},
   "outputs": [],
   "source": [
    "def likelihood_one(params):\n",
    "    \"\"\"\n",
    "    The likelihood function for the simpler model.\n",
    "    \n",
    "    :param params: The model parameters\n",
    "    \n",
    "    :return: The likelihood\n",
    "    \"\"\"\n",
    "    return likelihood(params, model_one)"
   ]
  },
  {
   "cell_type": "code",
   "execution_count": 331,
   "metadata": {},
   "outputs": [
    {
     "name": "stdout",
     "output_type": "stream",
     "text": [
      "[ultranest] Sampling 400 live points from prior ...\n"
     ]
    },
    {
     "name": "stdout",
     "output_type": "stream",
     "text": [
      "[ultranest] Explored until L=-8e+04  \n",
      "[ultranest] Likelihood function evaluations: 400\n",
      "[ultranest]   logZ = -7.605e+04 +- 1.381e-11\n",
      "[ultranest] Effective samples strategy satisfied (ESS = 400.0, need >400)\n",
      "[ultranest] Posterior uncertainty strategy is satisfied (KL: 0.46+-0.07 nat, need <0.50 nat)\n",
      "[ultranest] Evidency uncertainty strategy wants 40 minimum live points (dlogz from 0.00 to 0.00, need <0.5)\n",
      "[ultranest]   logZ error budget: single: inf bs:0.00 tail:0.69 total:0.69 required:<0.50\n",
      "[ultranest] done iterating.\n",
      "\n",
      "logZ = -76053.109 +- 0.693\n",
      "  single instance: logZ = -76053.109 +- nan\n",
      "  bootstrapped   : logZ = -76053.109 +- -0.000\n",
      "  tail           : logZ = +- 0.693\n",
      "insert order U test : converged: True correlation: inf iterations\n",
      "\n",
      "\n"
     ]
    }
   ],
   "source": [
    "import ultranest\n",
    "\n",
    "sampler_one = ultranest.ReactiveNestedSampler([], likelihood_one, prior_transform_one)\n",
    "sampler_one.run(show_status=False)\n",
    "sampler_one.print_results()"
   ]
  },
  {
   "cell_type": "code",
   "execution_count": 304,
   "metadata": {},
   "outputs": [],
   "source": [
    "tr3_priors_two = [uniform(0.01, 2)] \n",
    "\n",
    "def prior_transform_two(u):\n",
    "    \"\"\"\n",
    "    Transform the uniform random variables `u` to the model parameters for the more complex model.\n",
    "    \n",
    "    :param u: Uniform random variables\n",
    "    \n",
    "    :return: Model parameters\n",
    "    \"\"\"\n",
    "    return [p.ppf(u_) for p, u_ in zip(tr3_priors_two, u)]"
   ]
  },
  {
   "cell_type": "code",
   "execution_count": 305,
   "metadata": {},
   "outputs": [],
   "source": [
    "# poly = PolynomialFeatures(degree=2)\n",
    "# X_ = poly.fit_transform(data['t'].values.reshape(-1,1))\n",
    "# model = LinearRegression()\n",
    "# model.fit(X_, y)"
   ]
  },
  {
   "cell_type": "code",
   "execution_count": 306,
   "metadata": {},
   "outputs": [],
   "source": [
    "def model_two(t, params):\n",
    "    \"\"\"\n",
    "    A simpler single Gaussian model.\n",
    "    \n",
    "    :param t: The x values\n",
    "    :param params: The model parameters\n",
    "    \n",
    "    :return: The y values\n",
    "    \"\"\"\n",
    "    t=t.values.reshape(-1,1)\n",
    "    r = 7.88e-07\n",
    "    a = params[0]\n",
    "    # b = params[2]\n",
    "    # print(t)\n",
    "    # print(params[0])\n",
    "    gamma=6.78e-2\n",
    "    phi=1.45\n",
    "    eta=9.93e-4 \n",
    "    \n",
    "    L = (a)*washburn(gamma,r,t,phi,eta)\n",
    "    \n",
    "    # L at time t.\n",
    "    return L"
   ]
  },
  {
   "cell_type": "code",
   "execution_count": 307,
   "metadata": {},
   "outputs": [],
   "source": [
    "def old_model_two(t, params):\n",
    "    \"\"\"\n",
    "    A more complex double Gaussian model.\n",
    "    \n",
    "    :param t: The time values\n",
    "    :param params: The model parameters\n",
    "    \n",
    "    :return: The y values\n",
    "    \"\"\"\n",
    "    t = t.values.reshape(-1,1)\n",
    "    \n",
    "    # print(X_.shape)\n",
    "    r = params[0]\n",
    "    # y = np.full((t.shape[0], 1), params[0])\n",
    "    # print(y)\n",
    "    # print(y.ravel())\n",
    "    # print(y.shape)\n",
    "    \n",
    "    L_prediction = (1.54e+02*r + -1.8e+07*(r**2) + 2.16e-05)*t + (-0.254*r + 9.33e+04*(r**2) + -3.76e-09)*(t**2) + (3.96e+03*r + 3.74e+09*(r**2) + 0.00272)\n",
    "    \n",
    "    # reg_prediction = model.predict(t)\n",
    "    \n",
    "    return L_prediction\n",
    "\n",
    "def likelihood_two(params):\n",
    "    \"\"\"\n",
    "    The likelihood function for the more complex model.\n",
    "    \n",
    "    :param params: The model parameters\n",
    "    \n",
    "    :return: The likelihood\n",
    "    \"\"\"\n",
    "    return likelihood(params, model_two)\n",
    "\n"
   ]
  },
  {
   "cell_type": "code",
   "execution_count": 308,
   "metadata": {},
   "outputs": [
    {
     "name": "stdout",
     "output_type": "stream",
     "text": [
      "[ultranest] Sampling 400 live points from prior ...\n"
     ]
    },
    {
     "data": {
      "application/vnd.jupyter.widget-view+json": {
       "model_id": "7c56df522f3e4508816c5842d9642881",
       "version_major": 2,
       "version_minor": 0
      },
      "text/plain": [
       "VBox(children=(HTML(value=''), GridspecLayout(children=(HTML(value=\"<div style='background-color:#6E6BF4;'>&nb…"
      ]
     },
     "metadata": {},
     "output_type": "display_data"
    },
    {
     "name": "stdout",
     "output_type": "stream",
     "text": [
      "[ultranest] Explored until L=7e+02  \n",
      "[ultranest] Likelihood function evaluations: 4646\n",
      "[ultranest]   logZ = 649.2 +- 0.1153\n",
      "[ultranest] Effective samples strategy satisfied (ESS = 1260.4, need >400)\n",
      "[ultranest] Posterior uncertainty strategy is satisfied (KL: 0.46+-0.07 nat, need <0.50 nat)\n",
      "[ultranest] Evidency uncertainty strategy is satisfied (dlogz=0.12, need <0.5)\n",
      "[ultranest]   logZ error budget: single: 0.13 bs:0.12 tail:0.03 total:0.12 required:<0.50\n",
      "[ultranest] done iterating.\n",
      "\n",
      "logZ = 649.181 +- 0.311\n",
      "  single instance: logZ = 649.181 +- 0.126\n",
      "  bootstrapped   : logZ = 649.185 +- 0.309\n",
      "  tail           : logZ = +- 0.031\n",
      "insert order U test : converged: True correlation: inf iterations\n",
      "\n",
      "    a                   : 0.80817│ ▁▁▁▁▁▁▁▁▂▂▃▅▄▄▇▇▆▇▇▇▇▆▆▅▃▂▂▁▁▁▁▁▁▁ ▁▁ │0.81458    0.81127 +- 0.00081\n",
      "\n"
     ]
    }
   ],
   "source": [
    "sampler_two = ultranest.ReactiveNestedSampler(['a'], likelihood_two, prior_transform_two)\n",
    "sampler_two.run(show_status=False)\n",
    "sampler_two.print_results()"
   ]
  },
  {
   "cell_type": "code",
   "execution_count": 311,
   "metadata": {},
   "outputs": [
    {
     "data": {
      "text/plain": [
       "(649.1810836930573, 0.3107819826062642)"
      ]
     },
     "execution_count": 311,
     "metadata": {},
     "output_type": "execute_result"
    }
   ],
   "source": [
    "sampler_two.results['logz'], sampler_two.results['logzerr']"
   ]
  },
  {
   "cell_type": "code",
   "execution_count": 312,
   "metadata": {},
   "outputs": [
    {
     "data": {
      "text/plain": [
       "27525.162574404167"
      ]
     },
     "execution_count": 312,
     "metadata": {},
     "output_type": "execute_result"
    }
   ],
   "source": [
    "log_B = sampler_two.results['logz'] - sampler_one.results['logz']\n",
    "log_B"
   ]
  },
  {
   "cell_type": "markdown",
   "metadata": {},
   "source": [
    "Another dataset has been provided, which investigates the capillary flow rate of the tea in the\n",
    "biscuits. This involved taking a blind sample of each of the biscuits and measuring the length\n",
    "that the tea soaked up the biscuit in a time range from 30 s to 300 s.\n",
    "\n",
    "• the tea surface tension was measured at 6.78 × 10−2 N m−1.\n",
    "\n",
    "• the contact angle was 1.45 rad.\n",
    "\n",
    "• the tea dynamic viscosity was 9.93 × 10−4 Pa s."
   ]
  },
  {
   "cell_type": "code",
   "execution_count": null,
   "metadata": {},
   "outputs": [],
   "source": []
  },
  {
   "cell_type": "markdown",
   "metadata": {},
   "source": [
    "Assessment: You have been tasked with investigating the available data and outlining\n",
    "the analysis that you have performed in a written report. The aim is not to do the\n",
    "most analysis possible but to find a coherent story in the analysis and present\n",
    "this. Some examples of questions that the team are interested in include:\n",
    "\n",
    "• Can a machine learning algorithm be used to identify the different types of biscuits? YES, USING RFC\n",
    "\n",
    "• How is the pore radius different between the three types of biscuits? HISTOGRAM DONE\n",
    "\n",
    "• How accurate is the Washburn equation for biscuits, and can a machine learning\n",
    "regressor perform better? GOOD FOR HOBNOBS, BAD FOR OTHERS\n",
    "\n",
    "You have been asked to write a report on the available data, perform an analysis, and\n",
    "outline the data results. Furthermore, highlight and describe how the team might use\n",
    "these data in future data-driven investigations."
   ]
  }
 ],
 "metadata": {
  "kernelspec": {
   "display_name": "special-topics_w7",
   "language": "python",
   "name": "python3"
  },
  "language_info": {
   "codemirror_mode": {
    "name": "ipython",
    "version": 3
   },
   "file_extension": ".py",
   "mimetype": "text/x-python",
   "name": "python",
   "nbconvert_exporter": "python",
   "pygments_lexer": "ipython3",
   "version": "3.11.11"
  }
 },
 "nbformat": 4,
 "nbformat_minor": 2
}
