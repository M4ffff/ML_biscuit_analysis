{
 "cells": [
  {
   "cell_type": "markdown",
   "metadata": {},
   "source": [
    "# Dunkin assessment"
   ]
  },
  {
   "cell_type": "code",
   "execution_count": 63,
   "metadata": {},
   "outputs": [],
   "source": [
    "# some imports used throughout script\n",
    "import pandas as pd\n",
    "import numpy as np\n",
    "import matplotlib.pyplot as plt\n",
    "import sklearn as skl"
   ]
  },
  {
   "cell_type": "code",
   "execution_count": 64,
   "metadata": {},
   "outputs": [],
   "source": [
    "def encode_biscuit_type(dataframe, biscuits):\n",
    "    \"\"\"\n",
    "    Add new column to dataframe, chaanging biscui names to integers. \n",
    "\n",
    "    Args:\n",
    "        dataframe (df): dataframe containing 'biscuit' column\n",
    "        biscuits (list): list of biscuit names in correct order\n",
    "    \"\"\"\n",
    "    # check biscuit column exists\n",
    "    # do a test?\n",
    "    try:\n",
    "        biscuit_column = dataframe['biscuit']\n",
    "        for i, biscuit in enumerate(biscuits):\n",
    "            biscuit_column = np.where([biscuit_column==biscuit], i, biscuit_column)[0]\n",
    "            \n",
    "        dataframe['encoded biscuit'] = biscuit_column\n",
    "        \n",
    "        print(\"added encoded biscuit column\")\n",
    "    except:\n",
    "        raise ValueError(\"\\\"biscuit\\\" column does not exist in this dataframe.\")"
   ]
  },
  {
   "cell_type": "markdown",
   "metadata": {},
   "source": [
    "#### Big data collection\n",
    "\n",
    "1. gamma: the tea surface tension, in N m−1\n",
    ".\n",
    "2. phi: the contact angle between the biscuit and the tea surface, in rad.\n",
    "3. eta: the tea dynamic viscosity, in Pa s\n",
    "4. L: the distance up the biscuit that the tea was visible, in m.\n",
    "5. t: the time after initial dunking that the measurement was made, in s.\n",
    "6. biscuit: the type of biscuit that was dunked, which is Rich Tea, Hobnob or Digestive.\n"
   ]
  },
  {
   "cell_type": "code",
   "execution_count": 65,
   "metadata": {},
   "outputs": [
    {
     "name": "stdout",
     "output_type": "stream",
     "text": [
      "shape: (3000, 6)\n"
     ]
    },
    {
     "data": {
      "application/vnd.microsoft.datawrangler.viewer.v0+json": {
       "columns": [
        {
         "name": "index",
         "rawType": "int64",
         "type": "integer"
        },
        {
         "name": "gamma",
         "rawType": "float64",
         "type": "float"
        },
        {
         "name": "phi",
         "rawType": "float64",
         "type": "float"
        },
        {
         "name": "eta",
         "rawType": "float64",
         "type": "float"
        },
        {
         "name": "L",
         "rawType": "float64",
         "type": "float"
        },
        {
         "name": "t",
         "rawType": "float64",
         "type": "float"
        },
        {
         "name": "biscuit",
         "rawType": "object",
         "type": "string"
        }
       ],
       "conversionMethod": "pd.DataFrame",
       "ref": "5c8a778a-b6e5-440a-98be-9a1b23ed7ff1",
       "rows": [
        [
         "0",
         "0.073896719371497",
         "1.3330055466388109",
         "0.0009987327666543",
         "0.0111960696011351",
         "19.362213715937266",
         "Digestive"
        ],
        [
         "1",
         "0.0809461966098991",
         "1.47675793946145",
         "0.0010117571591316",
         "0.0058943259660231",
         "11.85258933147959",
         "Digestive"
        ],
        [
         "2",
         "0.0874078993348664",
         "1.4771414922137245",
         "0.0009835886160519",
         "0.0092486331281393",
         "24.793669186847307",
         "Digestive"
        ],
        [
         "3",
         "0.0707929707747368",
         "1.502001460603669",
         "0.0010015968629928",
         "0.0037737484142437",
         "16.292779732948908",
         "Hobnob"
        ],
        [
         "4",
         "0.058917455291466",
         "1.548274080494855",
         "0.0010043325545818",
         "0.0022907146279044",
         "13.66227134082432",
         "Hobnob"
        ]
       ],
       "shape": {
        "columns": 6,
        "rows": 5
       }
      },
      "text/html": [
       "<div>\n",
       "<style scoped>\n",
       "    .dataframe tbody tr th:only-of-type {\n",
       "        vertical-align: middle;\n",
       "    }\n",
       "\n",
       "    .dataframe tbody tr th {\n",
       "        vertical-align: top;\n",
       "    }\n",
       "\n",
       "    .dataframe thead th {\n",
       "        text-align: right;\n",
       "    }\n",
       "</style>\n",
       "<table border=\"1\" class=\"dataframe\">\n",
       "  <thead>\n",
       "    <tr style=\"text-align: right;\">\n",
       "      <th></th>\n",
       "      <th>gamma</th>\n",
       "      <th>phi</th>\n",
       "      <th>eta</th>\n",
       "      <th>L</th>\n",
       "      <th>t</th>\n",
       "      <th>biscuit</th>\n",
       "    </tr>\n",
       "  </thead>\n",
       "  <tbody>\n",
       "    <tr>\n",
       "      <th>0</th>\n",
       "      <td>0.073897</td>\n",
       "      <td>1.333006</td>\n",
       "      <td>0.000999</td>\n",
       "      <td>0.011196</td>\n",
       "      <td>19.362214</td>\n",
       "      <td>Digestive</td>\n",
       "    </tr>\n",
       "    <tr>\n",
       "      <th>1</th>\n",
       "      <td>0.080946</td>\n",
       "      <td>1.476758</td>\n",
       "      <td>0.001012</td>\n",
       "      <td>0.005894</td>\n",
       "      <td>11.852589</td>\n",
       "      <td>Digestive</td>\n",
       "    </tr>\n",
       "    <tr>\n",
       "      <th>2</th>\n",
       "      <td>0.087408</td>\n",
       "      <td>1.477141</td>\n",
       "      <td>0.000984</td>\n",
       "      <td>0.009249</td>\n",
       "      <td>24.793669</td>\n",
       "      <td>Digestive</td>\n",
       "    </tr>\n",
       "    <tr>\n",
       "      <th>3</th>\n",
       "      <td>0.070793</td>\n",
       "      <td>1.502001</td>\n",
       "      <td>0.001002</td>\n",
       "      <td>0.003774</td>\n",
       "      <td>16.292780</td>\n",
       "      <td>Hobnob</td>\n",
       "    </tr>\n",
       "    <tr>\n",
       "      <th>4</th>\n",
       "      <td>0.058917</td>\n",
       "      <td>1.548274</td>\n",
       "      <td>0.001004</td>\n",
       "      <td>0.002291</td>\n",
       "      <td>13.662271</td>\n",
       "      <td>Hobnob</td>\n",
       "    </tr>\n",
       "  </tbody>\n",
       "</table>\n",
       "</div>"
      ],
      "text/plain": [
       "      gamma       phi       eta         L          t    biscuit\n",
       "0  0.073897  1.333006  0.000999  0.011196  19.362214  Digestive\n",
       "1  0.080946  1.476758  0.001012  0.005894  11.852589  Digestive\n",
       "2  0.087408  1.477141  0.000984  0.009249  24.793669  Digestive\n",
       "3  0.070793  1.502001  0.001002  0.003774  16.292780     Hobnob\n",
       "4  0.058917  1.548274  0.001004  0.002291  13.662271     Hobnob"
      ]
     },
     "execution_count": 65,
     "metadata": {},
     "output_type": "execute_result"
    }
   ],
   "source": [
    "# load in dunking-data, and show dataframe\n",
    "\n",
    "big_data = pd.read_csv(\"dunking-data.csv\")\n",
    "print(f\"shape: {big_data.shape}\")\n",
    "big_data.head()"
   ]
  },
  {
   "cell_type": "code",
   "execution_count": 66,
   "metadata": {},
   "outputs": [
    {
     "data": {
      "text/plain": [
       "array(['Digestive', 'Hobnob', 'Rich Tea'], dtype=object)"
      ]
     },
     "execution_count": 66,
     "metadata": {},
     "output_type": "execute_result"
    }
   ],
   "source": [
    "# get names of all types of biscuits\n",
    "\n",
    "biscuits = np.unique(big_data[\"biscuit\"])\n",
    "biscuits"
   ]
  },
  {
   "cell_type": "code",
   "execution_count": 67,
   "metadata": {},
   "outputs": [
    {
     "name": "stdout",
     "output_type": "stream",
     "text": [
      "added encoded biscuit column\n"
     ]
    },
    {
     "data": {
      "application/vnd.microsoft.datawrangler.viewer.v0+json": {
       "columns": [
        {
         "name": "index",
         "rawType": "int64",
         "type": "integer"
        },
        {
         "name": "gamma",
         "rawType": "float64",
         "type": "float"
        },
        {
         "name": "phi",
         "rawType": "float64",
         "type": "float"
        },
        {
         "name": "eta",
         "rawType": "float64",
         "type": "float"
        },
        {
         "name": "L",
         "rawType": "float64",
         "type": "float"
        },
        {
         "name": "t",
         "rawType": "float64",
         "type": "float"
        },
        {
         "name": "biscuit",
         "rawType": "object",
         "type": "string"
        },
        {
         "name": "encoded biscuit",
         "rawType": "object",
         "type": "unknown"
        }
       ],
       "conversionMethod": "pd.DataFrame",
       "ref": "66d633cb-97ff-4990-84bd-d958cffac150",
       "rows": [
        [
         "0",
         "0.073896719371497",
         "1.3330055466388109",
         "0.0009987327666543",
         "0.0111960696011351",
         "19.362213715937266",
         "Digestive",
         "0"
        ],
        [
         "1",
         "0.0809461966098991",
         "1.47675793946145",
         "0.0010117571591316",
         "0.0058943259660231",
         "11.85258933147959",
         "Digestive",
         "0"
        ],
        [
         "2",
         "0.0874078993348664",
         "1.4771414922137245",
         "0.0009835886160519",
         "0.0092486331281393",
         "24.793669186847307",
         "Digestive",
         "0"
        ],
        [
         "3",
         "0.0707929707747368",
         "1.502001460603669",
         "0.0010015968629928",
         "0.0037737484142437",
         "16.292779732948908",
         "Hobnob",
         "1"
        ],
        [
         "4",
         "0.058917455291466",
         "1.548274080494855",
         "0.0010043325545818",
         "0.0022907146279044",
         "13.66227134082432",
         "Hobnob",
         "1"
        ]
       ],
       "shape": {
        "columns": 7,
        "rows": 5
       }
      },
      "text/html": [
       "<div>\n",
       "<style scoped>\n",
       "    .dataframe tbody tr th:only-of-type {\n",
       "        vertical-align: middle;\n",
       "    }\n",
       "\n",
       "    .dataframe tbody tr th {\n",
       "        vertical-align: top;\n",
       "    }\n",
       "\n",
       "    .dataframe thead th {\n",
       "        text-align: right;\n",
       "    }\n",
       "</style>\n",
       "<table border=\"1\" class=\"dataframe\">\n",
       "  <thead>\n",
       "    <tr style=\"text-align: right;\">\n",
       "      <th></th>\n",
       "      <th>gamma</th>\n",
       "      <th>phi</th>\n",
       "      <th>eta</th>\n",
       "      <th>L</th>\n",
       "      <th>t</th>\n",
       "      <th>biscuit</th>\n",
       "      <th>encoded biscuit</th>\n",
       "    </tr>\n",
       "  </thead>\n",
       "  <tbody>\n",
       "    <tr>\n",
       "      <th>0</th>\n",
       "      <td>0.073897</td>\n",
       "      <td>1.333006</td>\n",
       "      <td>0.000999</td>\n",
       "      <td>0.011196</td>\n",
       "      <td>19.362214</td>\n",
       "      <td>Digestive</td>\n",
       "      <td>0</td>\n",
       "    </tr>\n",
       "    <tr>\n",
       "      <th>1</th>\n",
       "      <td>0.080946</td>\n",
       "      <td>1.476758</td>\n",
       "      <td>0.001012</td>\n",
       "      <td>0.005894</td>\n",
       "      <td>11.852589</td>\n",
       "      <td>Digestive</td>\n",
       "      <td>0</td>\n",
       "    </tr>\n",
       "    <tr>\n",
       "      <th>2</th>\n",
       "      <td>0.087408</td>\n",
       "      <td>1.477141</td>\n",
       "      <td>0.000984</td>\n",
       "      <td>0.009249</td>\n",
       "      <td>24.793669</td>\n",
       "      <td>Digestive</td>\n",
       "      <td>0</td>\n",
       "    </tr>\n",
       "    <tr>\n",
       "      <th>3</th>\n",
       "      <td>0.070793</td>\n",
       "      <td>1.502001</td>\n",
       "      <td>0.001002</td>\n",
       "      <td>0.003774</td>\n",
       "      <td>16.292780</td>\n",
       "      <td>Hobnob</td>\n",
       "      <td>1</td>\n",
       "    </tr>\n",
       "    <tr>\n",
       "      <th>4</th>\n",
       "      <td>0.058917</td>\n",
       "      <td>1.548274</td>\n",
       "      <td>0.001004</td>\n",
       "      <td>0.002291</td>\n",
       "      <td>13.662271</td>\n",
       "      <td>Hobnob</td>\n",
       "      <td>1</td>\n",
       "    </tr>\n",
       "  </tbody>\n",
       "</table>\n",
       "</div>"
      ],
      "text/plain": [
       "      gamma       phi       eta         L          t    biscuit  \\\n",
       "0  0.073897  1.333006  0.000999  0.011196  19.362214  Digestive   \n",
       "1  0.080946  1.476758  0.001012  0.005894  11.852589  Digestive   \n",
       "2  0.087408  1.477141  0.000984  0.009249  24.793669  Digestive   \n",
       "3  0.070793  1.502001  0.001002  0.003774  16.292780     Hobnob   \n",
       "4  0.058917  1.548274  0.001004  0.002291  13.662271     Hobnob   \n",
       "\n",
       "  encoded biscuit  \n",
       "0               0  \n",
       "1               0  \n",
       "2               0  \n",
       "3               1  \n",
       "4               1  "
      ]
     },
     "execution_count": 67,
     "metadata": {},
     "output_type": "execute_result"
    }
   ],
   "source": [
    "# encode names to integers\n",
    "\n",
    "encode_biscuit_type(big_data, biscuits)\n",
    "big_data.head()"
   ]
  },
  {
   "cell_type": "markdown",
   "metadata": {},
   "source": [
    "# Classification of biscuit type \n",
    "\n",
    "In this section, a random forest classifier is trained and tested on the dunking-data.csv. It aims to be able to classify biscuit type from the provided data (phi,eta,L,t)\n",
    "\n"
   ]
  },
  {
   "cell_type": "code",
   "execution_count": 68,
   "metadata": {},
   "outputs": [],
   "source": [
    "from sklearn.preprocessing import StandardScaler\n",
    "from sklearn.model_selection import train_test_split\n",
    "\n",
    "train, test = train_test_split(big_data, test_size=0.2)\n",
    "\n",
    "scaler = StandardScaler()\n",
    "scaled_training_features = scaler.fit_transform(train.drop(['biscuit', 'encoded biscuit'], axis=1))\n",
    "scaled_test_features = scaler.fit_transform(test.drop(['biscuit', 'encoded biscuit'], axis=1))"
   ]
  },
  {
   "cell_type": "code",
   "execution_count": 69,
   "metadata": {},
   "outputs": [
    {
     "data": {
      "application/vnd.microsoft.datawrangler.viewer.v0+json": {
       "columns": [
        {
         "name": "index",
         "rawType": "int64",
         "type": "integer"
        },
        {
         "name": "gamma",
         "rawType": "float64",
         "type": "float"
        },
        {
         "name": "phi",
         "rawType": "float64",
         "type": "float"
        },
        {
         "name": "eta",
         "rawType": "float64",
         "type": "float"
        },
        {
         "name": "L",
         "rawType": "float64",
         "type": "float"
        },
        {
         "name": "t",
         "rawType": "float64",
         "type": "float"
        },
        {
         "name": "biscuit",
         "rawType": "object",
         "type": "string"
        },
        {
         "name": "encoded biscuit",
         "rawType": "object",
         "type": "unknown"
        }
       ],
       "conversionMethod": "pd.DataFrame",
       "ref": "ab9a6c4d-e9e2-41fe-9be7-b55fa681eeba",
       "rows": [
        [
         "806",
         "0.0847300958004897",
         "1.4458921280507642",
         "0.000984750450059",
         "0.0091325085855971",
         "20.59610868907554",
         "Digestive",
         "0"
        ],
        [
         "2552",
         "0.0713194239628153",
         "1.4480889763154423",
         "0.0009917780494699",
         "0.0070917518866533",
         "19.68094487616334",
         "Hobnob",
         "1"
        ],
        [
         "1110",
         "0.0656262580351947",
         "1.474339286815538",
         "0.0009923369894397",
         "0.0051105284469224",
         "28.839195286931385",
         "Rich Tea",
         "2"
        ],
        [
         "2004",
         "0.0786179554074436",
         "1.368607525870542",
         "0.0009969025390023",
         "0.0070207345240619",
         "21.516620705940703",
         "Rich Tea",
         "2"
        ],
        [
         "1616",
         "0.0737324553454275",
         "1.4133405593298312",
         "0.0009973413791163",
         "0.0067302797972438",
         "24.821932442092947",
         "Rich Tea",
         "2"
        ]
       ],
       "shape": {
        "columns": 7,
        "rows": 5
       }
      },
      "text/html": [
       "<div>\n",
       "<style scoped>\n",
       "    .dataframe tbody tr th:only-of-type {\n",
       "        vertical-align: middle;\n",
       "    }\n",
       "\n",
       "    .dataframe tbody tr th {\n",
       "        vertical-align: top;\n",
       "    }\n",
       "\n",
       "    .dataframe thead th {\n",
       "        text-align: right;\n",
       "    }\n",
       "</style>\n",
       "<table border=\"1\" class=\"dataframe\">\n",
       "  <thead>\n",
       "    <tr style=\"text-align: right;\">\n",
       "      <th></th>\n",
       "      <th>gamma</th>\n",
       "      <th>phi</th>\n",
       "      <th>eta</th>\n",
       "      <th>L</th>\n",
       "      <th>t</th>\n",
       "      <th>biscuit</th>\n",
       "      <th>encoded biscuit</th>\n",
       "    </tr>\n",
       "  </thead>\n",
       "  <tbody>\n",
       "    <tr>\n",
       "      <th>806</th>\n",
       "      <td>0.084730</td>\n",
       "      <td>1.445892</td>\n",
       "      <td>0.000985</td>\n",
       "      <td>0.009133</td>\n",
       "      <td>20.596109</td>\n",
       "      <td>Digestive</td>\n",
       "      <td>0</td>\n",
       "    </tr>\n",
       "    <tr>\n",
       "      <th>2552</th>\n",
       "      <td>0.071319</td>\n",
       "      <td>1.448089</td>\n",
       "      <td>0.000992</td>\n",
       "      <td>0.007092</td>\n",
       "      <td>19.680945</td>\n",
       "      <td>Hobnob</td>\n",
       "      <td>1</td>\n",
       "    </tr>\n",
       "    <tr>\n",
       "      <th>1110</th>\n",
       "      <td>0.065626</td>\n",
       "      <td>1.474339</td>\n",
       "      <td>0.000992</td>\n",
       "      <td>0.005111</td>\n",
       "      <td>28.839195</td>\n",
       "      <td>Rich Tea</td>\n",
       "      <td>2</td>\n",
       "    </tr>\n",
       "    <tr>\n",
       "      <th>2004</th>\n",
       "      <td>0.078618</td>\n",
       "      <td>1.368608</td>\n",
       "      <td>0.000997</td>\n",
       "      <td>0.007021</td>\n",
       "      <td>21.516621</td>\n",
       "      <td>Rich Tea</td>\n",
       "      <td>2</td>\n",
       "    </tr>\n",
       "    <tr>\n",
       "      <th>1616</th>\n",
       "      <td>0.073732</td>\n",
       "      <td>1.413341</td>\n",
       "      <td>0.000997</td>\n",
       "      <td>0.006730</td>\n",
       "      <td>24.821932</td>\n",
       "      <td>Rich Tea</td>\n",
       "      <td>2</td>\n",
       "    </tr>\n",
       "  </tbody>\n",
       "</table>\n",
       "</div>"
      ],
      "text/plain": [
       "         gamma       phi       eta         L          t    biscuit  \\\n",
       "806   0.084730  1.445892  0.000985  0.009133  20.596109  Digestive   \n",
       "2552  0.071319  1.448089  0.000992  0.007092  19.680945     Hobnob   \n",
       "1110  0.065626  1.474339  0.000992  0.005111  28.839195   Rich Tea   \n",
       "2004  0.078618  1.368608  0.000997  0.007021  21.516621   Rich Tea   \n",
       "1616  0.073732  1.413341  0.000997  0.006730  24.821932   Rich Tea   \n",
       "\n",
       "     encoded biscuit  \n",
       "806                0  \n",
       "2552               1  \n",
       "1110               2  \n",
       "2004               2  \n",
       "1616               2  "
      ]
     },
     "execution_count": 69,
     "metadata": {},
     "output_type": "execute_result"
    }
   ],
   "source": [
    "# irrelevant?\n",
    "train.head()"
   ]
  },
  {
   "cell_type": "code",
   "execution_count": 70,
   "metadata": {},
   "outputs": [
    {
     "data": {
      "text/plain": [
       "array([0, 1, 2, ..., 1, 0, 2])"
      ]
     },
     "execution_count": 70,
     "metadata": {},
     "output_type": "execute_result"
    }
   ],
   "source": [
    "training_results = np.array(train['encoded biscuit'].values, dtype=int)\n",
    "training_results\n",
    "# len(results.values)"
   ]
  },
  {
   "cell_type": "code",
   "execution_count": 71,
   "metadata": {},
   "outputs": [
    {
     "data": {
      "text/plain": [
       "600"
      ]
     },
     "execution_count": 71,
     "metadata": {},
     "output_type": "execute_result"
    }
   ],
   "source": [
    "from sklearn.ensemble import RandomForestClassifier\n",
    "\n",
    "RFC = RandomForestClassifier(n_estimators=500, max_features=None)\n",
    "RFC.fit(scaled_training_features, training_results)\n",
    "predicted_test_vals= RFC.predict(scaled_test_features)\n",
    "len(predicted_test_vals)"
   ]
  },
  {
   "cell_type": "code",
   "execution_count": 72,
   "metadata": {},
   "outputs": [],
   "source": [
    "# from sklearn.svm import SVC\n",
    "\n",
    "# SVC = SVC(verbose=1, C=1000, gamma=0.01)\n",
    "# SVC.fit(scaled_training_features, training_results)\n",
    "# predicted_test_vals= RFC.predict(scaled_test_features)\n",
    "# len(predicted_test_vals)"
   ]
  },
  {
   "cell_type": "code",
   "execution_count": 73,
   "metadata": {},
   "outputs": [],
   "source": [
    "# from sklearn.svm import SVC\n",
    "\n",
    "# methods = {'SVM': SVC(random_state=42),\n",
    "#             'Random Forest': RandomForestClassifier(random_state=42)}\n",
    "# for k, v in methods.items():\n",
    "#     print(k)\n",
    "#     v.fit(scaled_training_features, training_results)\n",
    "#     test[f'{k} Prediction'] = v.predict(scaled_test_features)"
   ]
  },
  {
   "cell_type": "code",
   "execution_count": 74,
   "metadata": {},
   "outputs": [
    {
     "data": {
      "text/plain": [
       "600"
      ]
     },
     "execution_count": 74,
     "metadata": {},
     "output_type": "execute_result"
    }
   ],
   "source": [
    "# encoding test values to ints\n",
    "\n",
    "true_test_vals = np.array(test[\"encoded biscuit\"].values, dtype=int)\n",
    "len(true_test_vals)"
   ]
  },
  {
   "cell_type": "code",
   "execution_count": 75,
   "metadata": {},
   "outputs": [
    {
     "name": "stdout",
     "output_type": "stream",
     "text": [
      "Number of true Digestive values: 199\n",
      "Number of predicted Digestive values: 228\n",
      "Number of true Hobnob values: 199\n",
      "Number of predicted Hobnob values: 191\n",
      "Number of true Rich Tea values: 202\n",
      "Number of predicted Rich Tea values: 181\n"
     ]
    }
   ],
   "source": [
    "# compare raw number of predicted biscuit types and true biscuit types\n",
    "\n",
    "max_num_predictions = 0\n",
    "for i, biscuit in enumerate(biscuits):\n",
    "    num_true_test_vals = len(true_test_vals[true_test_vals == i])\n",
    "    num_pred_test_vals = len(predicted_test_vals[predicted_test_vals == i])\n",
    "    print( f\"Number of true {biscuit} values: {num_true_test_vals}\")\n",
    "    print( f\"Number of predicted {biscuit} values: {num_pred_test_vals}\")\n",
    "    \n",
    "    max_num_predictions = max(max_num_predictions, num_pred_test_vals)"
   ]
  },
  {
   "cell_type": "code",
   "execution_count": 76,
   "metadata": {},
   "outputs": [
    {
     "data": {
      "image/png": "[encoded data removed]",
      "text/plain": [
       "<Figure size 640x480 with 1 Axes>"
      ]
     },
     "metadata": {},
     "output_type": "display_data"
    }
   ],
   "source": [
    "# plot bar chart\n",
    "\n",
    "fig,ax = plt.subplots()\n",
    "\n",
    "for i, biscuit in enumerate(biscuits):\n",
    "    # Get values where this biscuit was predicted\n",
    "    biscuit_prediction = np.where(predicted_test_vals==i, True, False)\n",
    "\n",
    "    # Filter test values to just these biscuit predictions\n",
    "    biscuit_test = true_test_vals[biscuit_prediction]\n",
    "    \n",
    "    # Number of correct predictions\n",
    "    correct_predictions = len( biscuit_test[biscuit_test==i] )\n",
    "    \n",
    "    ax.bar(biscuit, correct_predictions, color=f\"C{i}\", label=biscuit)\n",
    "    \n",
    "    base = correct_predictions\n",
    "    for j in range(len(biscuits)):\n",
    "        if j != i:\n",
    "            # NUmber of incorrect predictions, recording which biscuit was predicted instead\n",
    "            incorrect_predictions = len( biscuit_test[biscuit_test==j] )\n",
    "            ax.bar(biscuit, incorrect_predictions, bottom=base, color=f\"C{j}\")\n",
    "            base += incorrect_predictions\n",
    "            \n",
    "ax.set_ylabel(\"Number of predictions\")\n",
    "ax.set_ylim(0, max_num_predictions+5)\n",
    "ax.legend(loc=\"lower right\");"
   ]
  },
  {
   "cell_type": "code",
   "execution_count": 77,
   "metadata": {},
   "outputs": [
    {
     "name": "stdout",
     "output_type": "stream",
     "text": [
      "Precision: 0.814\n",
      "Recall: 0.812\n",
      "F1-Score: 0.811\n"
     ]
    }
   ],
   "source": [
    "# metrics\n",
    "\n",
    "from sklearn.metrics import precision_score, recall_score, f1_score\n",
    "\n",
    "precision = precision_score(true_test_vals, predicted_test_vals, average='weighted')\n",
    "print(f'Precision: {precision:.3f}')\n",
    "\n",
    "recall = recall_score(true_test_vals, predicted_test_vals, average='weighted')\n",
    "print(f'Recall: {recall:.3f}')\n",
    "\n",
    "f1score = f1_score(true_test_vals, predicted_test_vals, average='weighted')\n",
    "print(f'F1-Score: {f1score:.3f}')"
   ]
  },
  {
   "cell_type": "code",
   "execution_count": 78,
   "metadata": {},
   "outputs": [
    {
     "data": {
      "application/vnd.microsoft.datawrangler.viewer.v0+json": {
       "columns": [
        {
         "name": "index",
         "rawType": "int64",
         "type": "integer"
        },
        {
         "name": "Feature",
         "rawType": "object",
         "type": "string"
        },
        {
         "name": "Gini Importance",
         "rawType": "float64",
         "type": "float"
        }
       ],
       "conversionMethod": "pd.DataFrame",
       "ref": "d2b5161f-03c9-40de-8dfa-21b0b229d684",
       "rows": [
        [
         "3",
         "L",
         "0.33721559533908746"
        ],
        [
         "1",
         "phi",
         "0.29545953256857976"
        ],
        [
         "4",
         "t",
         "0.20241456034157704"
        ],
        [
         "0",
         "gamma",
         "0.11020169864010558"
        ],
        [
         "2",
         "eta",
         "0.05470861311065028"
        ]
       ],
       "shape": {
        "columns": 2,
        "rows": 5
       }
      },
      "text/html": [
       "<div>\n",
       "<style scoped>\n",
       "    .dataframe tbody tr th:only-of-type {\n",
       "        vertical-align: middle;\n",
       "    }\n",
       "\n",
       "    .dataframe tbody tr th {\n",
       "        vertical-align: top;\n",
       "    }\n",
       "\n",
       "    .dataframe thead th {\n",
       "        text-align: right;\n",
       "    }\n",
       "</style>\n",
       "<table border=\"1\" class=\"dataframe\">\n",
       "  <thead>\n",
       "    <tr style=\"text-align: right;\">\n",
       "      <th></th>\n",
       "      <th>Feature</th>\n",
       "      <th>Gini Importance</th>\n",
       "    </tr>\n",
       "  </thead>\n",
       "  <tbody>\n",
       "    <tr>\n",
       "      <th>3</th>\n",
       "      <td>L</td>\n",
       "      <td>0.337216</td>\n",
       "    </tr>\n",
       "    <tr>\n",
       "      <th>1</th>\n",
       "      <td>phi</td>\n",
       "      <td>0.295460</td>\n",
       "    </tr>\n",
       "    <tr>\n",
       "      <th>4</th>\n",
       "      <td>t</td>\n",
       "      <td>0.202415</td>\n",
       "    </tr>\n",
       "    <tr>\n",
       "      <th>0</th>\n",
       "      <td>gamma</td>\n",
       "      <td>0.110202</td>\n",
       "    </tr>\n",
       "    <tr>\n",
       "      <th>2</th>\n",
       "      <td>eta</td>\n",
       "      <td>0.054709</td>\n",
       "    </tr>\n",
       "  </tbody>\n",
       "</table>\n",
       "</div>"
      ],
      "text/plain": [
       "  Feature  Gini Importance\n",
       "3       L         0.337216\n",
       "1     phi         0.295460\n",
       "4       t         0.202415\n",
       "0   gamma         0.110202\n",
       "2     eta         0.054709"
      ]
     },
     "execution_count": 78,
     "metadata": {},
     "output_type": "execute_result"
    }
   ],
   "source": [
    "importances = RFC.feature_importances_\n",
    "feature_names = big_data.drop(['biscuit', 'encoded biscuit'],axis=1).columns\n",
    "feature_df = pd.DataFrame({'Feature': feature_names, 'Gini Importance': importances}).sort_values('Gini Importance', ascending=False) \n",
    "(feature_df)"
   ]
  },
  {
   "cell_type": "code",
   "execution_count": 79,
   "metadata": {},
   "outputs": [],
   "source": [
    "# use GridSearchCV\n",
    "# param_grid = [\n",
    "#   {'max_features': [ 0.25, 0.5, 0.75, 1.0, 'sqrt', 'log2', None]}\n",
    "#  ]\n",
    "# svc_param_grid = [\n",
    "#   {'C': [1000],  \n",
    "#   'gamma': [0.01], \n",
    "#   'kernel': ['linear', 'poly', 'rbf']} \n",
    "#  ]"
   ]
  },
  {
   "cell_type": "code",
   "execution_count": 80,
   "metadata": {},
   "outputs": [],
   "source": [
    "# from sklearn.model_selection import GridSearchCV\n",
    "# from sklearn.metrics import f1_score, make_scorer\n",
    "\n",
    "# # f1 = make_scorer(f1_score , average='weighted', pos_label=None)\n",
    "\n",
    "# gscv = GridSearchCV(SVC, svc_param_grid)\n",
    "# gscv.fit(scaled_training_features, training_results)\n",
    "# gscv.best_estimator_"
   ]
  },
  {
   "cell_type": "code",
   "execution_count": 81,
   "metadata": {},
   "outputs": [
    {
     "name": "stdout",
     "output_type": "stream",
     "text": [
      "F1-Score: 0.811\n"
     ]
    }
   ],
   "source": [
    "f1score = f1_score(true_test_vals, predicted_test_vals, average='weighted')\n",
    "print(f'F1-Score: {f1score:.3f}')"
   ]
  },
  {
   "cell_type": "markdown",
   "metadata": {},
   "source": [
    "#### comparison to true distribution"
   ]
  },
  {
   "cell_type": "markdown",
   "metadata": {},
   "source": [
    "#### microscopy measurements"
   ]
  },
  {
   "cell_type": "markdown",
   "metadata": {},
   "source": [
    "The final dataset was generated by taking a subset, one-sixth, of the dunking-data.csv samples and finding the pore radius by microscopy. This data file has similar information to the dunking-data.csv but without the biscuit type and with the pore radius. The columns, in order, are:\n",
    "\n",
    "The final dataset is a subset of the training data.csv, where the biscuit type is no longer identified, but this has been replaced with the pore size as measured with microscopy. Therefore, this data also has six columns."
   ]
  },
  {
   "cell_type": "markdown",
   "metadata": {},
   "source": [
    "1. gamma: the tea surface tension, in N m−1\n",
    ".\n",
    "2. phi: the contact angle between the biscuit and the tea surface, in rad.\n",
    "3. eta: the tea dynamic viscosity, in Pa s\n",
    "4. L: the distance up the biscuit that the tea was visible, in m.\n",
    "5. t: the time after initial dunking that the measurement was made, in s.\n",
    "6. r: the radius of the pore, in m\n"
   ]
  },
  {
   "cell_type": "code",
   "execution_count": 82,
   "metadata": {},
   "outputs": [
    {
     "data": {
      "application/vnd.microsoft.datawrangler.viewer.v0+json": {
       "columns": [
        {
         "name": "index",
         "rawType": "int64",
         "type": "integer"
        },
        {
         "name": "gamma",
         "rawType": "float64",
         "type": "float"
        },
        {
         "name": "phi",
         "rawType": "float64",
         "type": "float"
        },
        {
         "name": "eta",
         "rawType": "float64",
         "type": "float"
        },
        {
         "name": "L",
         "rawType": "float64",
         "type": "float"
        },
        {
         "name": "t",
         "rawType": "float64",
         "type": "float"
        },
        {
         "name": "r",
         "rawType": "float64",
         "type": "float"
        }
       ],
       "conversionMethod": "pd.DataFrame",
       "ref": "79f456f5-002b-414c-996b-dcddb48ed514",
       "rows": [
        [
         "0",
         "0.0845956324584587",
         "1.557367032478192",
         "0.0009814830091385",
         "0.0032205495542128",
         "24.2311065424372",
         "7.453712135492654e-07"
        ],
        [
         "1",
         "0.0642912318275465",
         "1.5388422115607554",
         "0.0009975033413744",
         "0.0023950588951781",
         "22.169764818033904",
         "2.600679920403219e-07"
        ],
        [
         "2",
         "0.0862235631288667",
         "1.5461380388178143",
         "0.0010076172459006",
         "0.0030364515927952",
         "23.25770905910201",
         "3.73461769779581e-07"
        ],
        [
         "3",
         "0.0828590710652354",
         "1.5668780336011534",
         "0.0009974565756668",
         "0.0012606889246228",
         "12.717431992562547",
         "7.567172656627005e-07"
        ],
        [
         "4",
         "0.0908324449331105",
         "1.570229053820606",
         "0.0010017078574895",
         "0.0005760748801939",
         "15.189146468953714",
         "8.23906656220311e-07"
        ]
       ],
       "shape": {
        "columns": 6,
        "rows": 5
       }
      },
      "text/html": [
       "<div>\n",
       "<style scoped>\n",
       "    .dataframe tbody tr th:only-of-type {\n",
       "        vertical-align: middle;\n",
       "    }\n",
       "\n",
       "    .dataframe tbody tr th {\n",
       "        vertical-align: top;\n",
       "    }\n",
       "\n",
       "    .dataframe thead th {\n",
       "        text-align: right;\n",
       "    }\n",
       "</style>\n",
       "<table border=\"1\" class=\"dataframe\">\n",
       "  <thead>\n",
       "    <tr style=\"text-align: right;\">\n",
       "      <th></th>\n",
       "      <th>gamma</th>\n",
       "      <th>phi</th>\n",
       "      <th>eta</th>\n",
       "      <th>L</th>\n",
       "      <th>t</th>\n",
       "      <th>r</th>\n",
       "    </tr>\n",
       "  </thead>\n",
       "  <tbody>\n",
       "    <tr>\n",
       "      <th>0</th>\n",
       "      <td>0.084596</td>\n",
       "      <td>1.557367</td>\n",
       "      <td>0.000981</td>\n",
       "      <td>0.003221</td>\n",
       "      <td>24.231107</td>\n",
       "      <td>7.453712e-07</td>\n",
       "    </tr>\n",
       "    <tr>\n",
       "      <th>1</th>\n",
       "      <td>0.064291</td>\n",
       "      <td>1.538842</td>\n",
       "      <td>0.000998</td>\n",
       "      <td>0.002395</td>\n",
       "      <td>22.169765</td>\n",
       "      <td>2.600680e-07</td>\n",
       "    </tr>\n",
       "    <tr>\n",
       "      <th>2</th>\n",
       "      <td>0.086224</td>\n",
       "      <td>1.546138</td>\n",
       "      <td>0.001008</td>\n",
       "      <td>0.003036</td>\n",
       "      <td>23.257709</td>\n",
       "      <td>3.734618e-07</td>\n",
       "    </tr>\n",
       "    <tr>\n",
       "      <th>3</th>\n",
       "      <td>0.082859</td>\n",
       "      <td>1.566878</td>\n",
       "      <td>0.000997</td>\n",
       "      <td>0.001261</td>\n",
       "      <td>12.717432</td>\n",
       "      <td>7.567173e-07</td>\n",
       "    </tr>\n",
       "    <tr>\n",
       "      <th>4</th>\n",
       "      <td>0.090832</td>\n",
       "      <td>1.570229</td>\n",
       "      <td>0.001002</td>\n",
       "      <td>0.000576</td>\n",
       "      <td>15.189146</td>\n",
       "      <td>8.239067e-07</td>\n",
       "    </tr>\n",
       "  </tbody>\n",
       "</table>\n",
       "</div>"
      ],
      "text/plain": [
       "      gamma       phi       eta         L          t             r\n",
       "0  0.084596  1.557367  0.000981  0.003221  24.231107  7.453712e-07\n",
       "1  0.064291  1.538842  0.000998  0.002395  22.169765  2.600680e-07\n",
       "2  0.086224  1.546138  0.001008  0.003036  23.257709  3.734618e-07\n",
       "3  0.082859  1.566878  0.000997  0.001261  12.717432  7.567173e-07\n",
       "4  0.090832  1.570229  0.001002  0.000576  15.189146  8.239067e-07"
      ]
     },
     "execution_count": 82,
     "metadata": {},
     "output_type": "execute_result"
    }
   ],
   "source": [
    "microscopy_data = pd.read_csv(\"microscopy-data.csv\")\n",
    "microscopy_data.head()"
   ]
  },
  {
   "cell_type": "code",
   "execution_count": 83,
   "metadata": {},
   "outputs": [],
   "source": [
    "def washburn(gamma,r,t,phi,eta):\n",
    "    numerator = gamma*r*t*np.cos(phi)\n",
    "    denominator = 2*eta\n",
    "    \n",
    "    L = np.sqrt(numerator / denominator)\n",
    "    \n",
    "    return L"
   ]
  },
  {
   "cell_type": "code",
   "execution_count": 84,
   "metadata": {},
   "outputs": [],
   "source": [
    "# def predict_washburn_r(gamma,L,t,phi,eta):\n",
    "#     numerator = (L**2)*2*eta\n",
    "#     denominator = gamma*t*np.cos(phi)\n",
    "    \n",
    "#     r = numerator / denominator\n",
    "    \n",
    "#     return r"
   ]
  },
  {
   "cell_type": "code",
   "execution_count": 85,
   "metadata": {},
   "outputs": [],
   "source": [
    "# irrelevant - adding L_wash and r_pred\n",
    "\n",
    "# microscopy_data[\"L_wash\"] = washburn(microscopy_data[\"gamma\"], microscopy_data[\"r\"], microscopy_data[\"t\"], microscopy_data[\"phi\"], microscopy_data[\"eta\"])\n",
    "# microscopy_data[\"r_pred\"] = predict_washburn_r(microscopy_data[\"gamma\"], microscopy_data[\"L\"], microscopy_data[\"t\"], microscopy_data[\"phi\"], microscopy_data[\"eta\"])\n",
    "# # washburn(gamma,r,t,phi,eta)\n",
    "# microscopy_data.head()"
   ]
  },
  {
   "cell_type": "code",
   "execution_count": 86,
   "metadata": {},
   "outputs": [],
   "source": [
    "# irrelevant plot\n",
    "\n",
    "# fig,ax=plt.subplots()\n",
    "\n",
    "# ax.scatter(microscopy_data[\"L_wash\"], microscopy_data[\"r_pred\"], s=5)\n"
   ]
  },
  {
   "cell_type": "code",
   "execution_count": 87,
   "metadata": {},
   "outputs": [
    {
     "data": {
      "application/vnd.microsoft.datawrangler.viewer.v0+json": {
       "columns": [
        {
         "name": "index",
         "rawType": "int64",
         "type": "integer"
        },
        {
         "name": "gamma",
         "rawType": "float64",
         "type": "float"
        },
        {
         "name": "phi",
         "rawType": "float64",
         "type": "float"
        },
        {
         "name": "eta",
         "rawType": "float64",
         "type": "float"
        },
        {
         "name": "L",
         "rawType": "float64",
         "type": "float"
        },
        {
         "name": "t",
         "rawType": "float64",
         "type": "float"
        }
       ],
       "conversionMethod": "pd.DataFrame",
       "ref": "f8c15b10-9830-4fb5-99f4-28583467e261",
       "rows": [
        [
         "0",
         "0.0845956324584587",
         "1.557367032478192",
         "0.0009814830091385",
         "0.0032205495542128",
         "24.2311065424372"
        ],
        [
         "1",
         "0.0642912318275465",
         "1.5388422115607554",
         "0.0009975033413744",
         "0.0023950588951781",
         "22.169764818033904"
        ],
        [
         "2",
         "0.0862235631288667",
         "1.5461380388178143",
         "0.0010076172459006",
         "0.0030364515927952",
         "23.25770905910201"
        ],
        [
         "3",
         "0.0828590710652354",
         "1.5668780336011534",
         "0.0009974565756668",
         "0.0012606889246228",
         "12.717431992562547"
        ],
        [
         "4",
         "0.0908324449331105",
         "1.570229053820606",
         "0.0010017078574895",
         "0.0005760748801939",
         "15.189146468953714"
        ]
       ],
       "shape": {
        "columns": 5,
        "rows": 5
       }
      },
      "text/html": [
       "<div>\n",
       "<style scoped>\n",
       "    .dataframe tbody tr th:only-of-type {\n",
       "        vertical-align: middle;\n",
       "    }\n",
       "\n",
       "    .dataframe tbody tr th {\n",
       "        vertical-align: top;\n",
       "    }\n",
       "\n",
       "    .dataframe thead th {\n",
       "        text-align: right;\n",
       "    }\n",
       "</style>\n",
       "<table border=\"1\" class=\"dataframe\">\n",
       "  <thead>\n",
       "    <tr style=\"text-align: right;\">\n",
       "      <th></th>\n",
       "      <th>gamma</th>\n",
       "      <th>phi</th>\n",
       "      <th>eta</th>\n",
       "      <th>L</th>\n",
       "      <th>t</th>\n",
       "    </tr>\n",
       "  </thead>\n",
       "  <tbody>\n",
       "    <tr>\n",
       "      <th>0</th>\n",
       "      <td>0.084596</td>\n",
       "      <td>1.557367</td>\n",
       "      <td>0.000981</td>\n",
       "      <td>0.003221</td>\n",
       "      <td>24.231107</td>\n",
       "    </tr>\n",
       "    <tr>\n",
       "      <th>1</th>\n",
       "      <td>0.064291</td>\n",
       "      <td>1.538842</td>\n",
       "      <td>0.000998</td>\n",
       "      <td>0.002395</td>\n",
       "      <td>22.169765</td>\n",
       "    </tr>\n",
       "    <tr>\n",
       "      <th>2</th>\n",
       "      <td>0.086224</td>\n",
       "      <td>1.546138</td>\n",
       "      <td>0.001008</td>\n",
       "      <td>0.003036</td>\n",
       "      <td>23.257709</td>\n",
       "    </tr>\n",
       "    <tr>\n",
       "      <th>3</th>\n",
       "      <td>0.082859</td>\n",
       "      <td>1.566878</td>\n",
       "      <td>0.000997</td>\n",
       "      <td>0.001261</td>\n",
       "      <td>12.717432</td>\n",
       "    </tr>\n",
       "    <tr>\n",
       "      <th>4</th>\n",
       "      <td>0.090832</td>\n",
       "      <td>1.570229</td>\n",
       "      <td>0.001002</td>\n",
       "      <td>0.000576</td>\n",
       "      <td>15.189146</td>\n",
       "    </tr>\n",
       "  </tbody>\n",
       "</table>\n",
       "</div>"
      ],
      "text/plain": [
       "      gamma       phi       eta         L          t\n",
       "0  0.084596  1.557367  0.000981  0.003221  24.231107\n",
       "1  0.064291  1.538842  0.000998  0.002395  22.169765\n",
       "2  0.086224  1.546138  0.001008  0.003036  23.257709\n",
       "3  0.082859  1.566878  0.000997  0.001261  12.717432\n",
       "4  0.090832  1.570229  0.001002  0.000576  15.189146"
      ]
     },
     "execution_count": 87,
     "metadata": {},
     "output_type": "execute_result"
    }
   ],
   "source": [
    "test_micro = microscopy_data.drop(['r'], axis=1)\n",
    "test_micro.head()"
   ]
  },
  {
   "cell_type": "code",
   "execution_count": 88,
   "metadata": {},
   "outputs": [
    {
     "data": {
      "text/plain": [
       "array([[ 1.14599561,  1.1356957 , -1.85755021, -0.89683791,  0.77167231],\n",
       "       [-0.89539042,  0.94168794, -0.27453187, -1.15666199,  0.41612889],\n",
       "       [ 1.30966628,  1.01809608,  0.72485416, -0.95478295,  0.6037792 ],\n",
       "       ...,\n",
       "       [ 0.09739798,  1.10899036, -0.32077567, -0.953279  , -0.30290994],\n",
       "       [ 0.82621258, -0.09441766,  1.04595373,  0.95980465, -0.10701664],\n",
       "       [ 1.37150823,  0.79061851,  0.6782453 , -0.96069037, -1.44258582]])"
      ]
     },
     "execution_count": 88,
     "metadata": {},
     "output_type": "execute_result"
    }
   ],
   "source": [
    "scaled_test_micro = scaler.fit_transform(test_micro)\n",
    "scaled_test_micro"
   ]
  },
  {
   "cell_type": "code",
   "execution_count": 89,
   "metadata": {},
   "outputs": [
    {
     "data": {
      "text/plain": [
       "500"
      ]
     },
     "execution_count": 89,
     "metadata": {},
     "output_type": "execute_result"
    }
   ],
   "source": [
    "micro_predictions = RFC.predict(scaled_test_micro)\n",
    "len(micro_predictions)\n"
   ]
  },
  {
   "cell_type": "code",
   "execution_count": 90,
   "metadata": {},
   "outputs": [
    {
     "data": {
      "text/plain": [
       "array([0, 2, 1, 2, 2, 1, 1, 2, 1, 0, 1, 2, 0, 2, 2, 1, 2, 2, 2, 0, 1, 2,\n",
       "       0, 1, 2, 1, 1, 2, 1, 2, 2, 2, 1, 0, 0, 2, 2, 2, 0, 1, 1, 1, 2, 1,\n",
       "       2, 1, 2, 1, 0, 2, 2, 0, 2, 0, 1, 2, 2, 1, 0, 2, 1, 2, 2, 0, 1, 2,\n",
       "       0, 2, 1, 1, 1, 1, 2, 0, 1, 0, 1, 2, 2, 1, 0, 2, 0, 2, 2, 0, 1, 2,\n",
       "       1, 2, 2, 2, 1, 0, 0, 1, 1, 2, 0, 0, 1, 2, 0, 0, 0, 0, 2, 2, 1, 2,\n",
       "       1, 2, 1, 2, 2, 1, 1, 2, 2, 1, 1, 1, 2, 2, 0, 1, 1, 2, 2, 0, 2, 1,\n",
       "       0, 2, 0, 0, 2, 2, 0, 0, 2, 1, 0, 2, 1, 2, 0, 0, 1, 0, 0, 1, 1, 2,\n",
       "       1, 0, 2, 0, 0, 2, 1, 2, 1, 0, 0, 0, 0, 0, 1, 2, 2, 0, 2, 2, 1, 2,\n",
       "       1, 0, 2, 0, 0, 2, 2, 0, 1, 1, 2, 0, 1, 1, 0, 1, 2, 2, 0, 2, 1, 1,\n",
       "       0, 1, 0, 1, 2, 2, 0, 2, 2, 0, 2, 0, 2, 2, 0, 2, 2, 0, 0, 2, 0, 2,\n",
       "       2, 0, 1, 0, 0, 1, 1, 1, 1, 0, 1, 2, 1, 1, 1, 1, 2, 1, 2, 2, 2, 0,\n",
       "       0, 1, 2, 1, 2, 0, 0, 2, 1, 0, 2, 0, 2, 2, 0, 2, 0, 2, 0, 0, 1, 2,\n",
       "       0, 2, 0, 0, 1, 2, 2, 2, 2, 1, 1, 2, 0, 2, 2, 0, 0, 0, 2, 1, 1, 1,\n",
       "       1, 0, 2, 0, 2, 2, 0, 1, 1, 2, 2, 1, 2, 0, 2, 0, 0, 0, 1, 0, 1, 1,\n",
       "       2, 2, 2, 2, 1, 2, 0, 2, 2, 1, 0, 0, 2, 2, 0, 2, 1, 0, 0, 2, 0, 0,\n",
       "       1, 1, 1, 2, 1, 0, 0, 2, 1, 2, 0, 0, 2, 2, 0, 2, 0, 1, 1, 1, 1, 2,\n",
       "       0, 2, 0, 1, 1, 0, 0, 2, 2, 1, 1, 1, 1, 0, 0, 0, 2, 0, 0, 1, 1, 2,\n",
       "       2, 1, 1, 2, 2, 1, 1, 0, 2, 0, 1, 2, 1, 1, 2, 0, 1, 2, 1, 1, 2, 1,\n",
       "       2, 2, 2, 0, 0, 1, 2, 1, 1, 2, 0, 2, 1, 1, 2, 1, 1, 1, 0, 2, 0, 0,\n",
       "       1, 1, 1, 0, 2, 2, 2, 2, 0, 0, 0, 0, 1, 2, 2, 1, 1, 2, 0, 2, 0, 2,\n",
       "       2, 0, 2, 2, 0, 2, 1, 0, 1, 0, 1, 0, 0, 0, 2, 1, 2, 2, 0, 1, 2, 0,\n",
       "       2, 1, 0, 2, 2, 0, 0, 0, 0, 1, 0, 2, 0, 0, 0, 0, 2, 2, 0, 1, 1, 2,\n",
       "       0, 0, 2, 0, 0, 2, 2, 0, 0, 1, 2, 1, 0, 0, 0, 1])"
      ]
     },
     "execution_count": 90,
     "metadata": {},
     "output_type": "execute_result"
    }
   ],
   "source": [
    "micro_predictions"
   ]
  },
  {
   "cell_type": "code",
   "execution_count": 91,
   "metadata": {},
   "outputs": [],
   "source": [
    "# irrelevant plot\n",
    "\n",
    "# fig,ax=plt.subplots()\n",
    "\n",
    "# ax.scatter(microscopy_data[\"L_wash\"], microscopy_data[\"r_pred\"], s=5, c=micro_predictions)\n",
    "# ax.set_xlabel(\"Predicted L\")\n",
    "# ax.set_ylabel(\"Predicted r\")"
   ]
  },
  {
   "cell_type": "code",
   "execution_count": 92,
   "metadata": {},
   "outputs": [
    {
     "data": {
      "application/vnd.microsoft.datawrangler.viewer.v0+json": {
       "columns": [
        {
         "name": "index",
         "rawType": "int64",
         "type": "integer"
        },
        {
         "name": "encoded biscuit",
         "rawType": "object",
         "type": "unknown"
        },
        {
         "name": "r",
         "rawType": "float64",
         "type": "float"
        }
       ],
       "conversionMethod": "pd.DataFrame",
       "ref": "9c273d92-e2cb-4f17-b9d5-8ef60d9e9871",
       "rows": [
        [
         "0",
         "0",
         "7.797960613605848e-07"
        ],
        [
         "1",
         "0",
         "8.189772254008458e-07"
        ],
        [
         "2",
         "1",
         "3.63943376341258e-07"
        ],
        [
         "3",
         "2",
         "3.198696672621654e-07"
        ],
        [
         "4",
         "2",
         "2.9734475448185e-07"
        ],
        [
         "5",
         "1",
         "5.518377305382778e-07"
        ],
        [
         "6",
         "2",
         "3.141562690439023e-07"
        ],
        [
         "7",
         "1",
         "4.936484654062183e-07"
        ],
        [
         "8",
         "0",
         "7.930241372930378e-07"
        ],
        [
         "9",
         "2",
         "2.99681623218618e-07"
        ],
        [
         "10",
         "1",
         "4.667185166647237e-07"
        ],
        [
         "11",
         "1",
         "4.521101059526911e-07"
        ],
        [
         "12",
         "0",
         "7.69313686272661e-07"
        ],
        [
         "13",
         "2",
         "3.731184514524907e-07"
        ],
        [
         "14",
         "0",
         "8.343526051606491e-07"
        ],
        [
         "15",
         "0",
         "8.550193423305071e-07"
        ],
        [
         "16",
         "0",
         "8.02542384457958e-07"
        ],
        [
         "17",
         "2",
         "3.5088692447635936e-07"
        ],
        [
         "18",
         "1",
         "4.204342013425531e-07"
        ],
        [
         "19",
         "1",
         "5.97757132143619e-07"
        ],
        [
         "20",
         "0",
         "7.286919285253125e-07"
        ],
        [
         "21",
         "2",
         "3.09334627465361e-07"
        ],
        [
         "22",
         "2",
         "2.3169157082884875e-07"
        ],
        [
         "23",
         "1",
         "4.759836346044865e-07"
        ],
        [
         "24",
         "0",
         "7.698580594303742e-07"
        ],
        [
         "25",
         "0",
         "7.308079329062444e-07"
        ],
        [
         "26",
         "1",
         "4.700559410153252e-07"
        ],
        [
         "27",
         "2",
         "3.60241589299291e-07"
        ],
        [
         "28",
         "2",
         "3.462955527494354e-07"
        ],
        [
         "29",
         "1",
         "6.029231624768917e-07"
        ],
        [
         "30",
         "2",
         "4.297786970529531e-07"
        ],
        [
         "31",
         "1",
         "6.103278944678709e-07"
        ],
        [
         "32",
         "2",
         "3.635748223667312e-07"
        ],
        [
         "33",
         "2",
         "3.742770594980285e-07"
        ],
        [
         "34",
         "1",
         "4.59687862703427e-07"
        ],
        [
         "35",
         "0",
         "7.821553748287343e-07"
        ],
        [
         "36",
         "2",
         "3.22882162034498e-07"
        ],
        [
         "37",
         "2",
         "2.911893457466177e-07"
        ],
        [
         "38",
         "1",
         "4.723671296548504e-07"
        ],
        [
         "39",
         "2",
         "2.811799967265042e-07"
        ],
        [
         "40",
         "1",
         "4.293578195811919e-07"
        ],
        [
         "41",
         "2",
         "2.8533709005432405e-07"
        ],
        [
         "42",
         "2",
         "2.218400462356027e-07"
        ],
        [
         "43",
         "2",
         "2.955675666473473e-07"
        ],
        [
         "44",
         "0",
         "8.06503928744846e-07"
        ],
        [
         "45",
         "2",
         "2.58342296531601e-07"
        ],
        [
         "46",
         "2",
         "3.4451272329841165e-07"
        ],
        [
         "47",
         "0",
         "8.326721381127279e-07"
        ],
        [
         "48",
         "1",
         "5.713150877640167e-07"
        ],
        [
         "49",
         "1",
         "5.894819299286022e-07"
        ]
       ],
       "shape": {
        "columns": 2,
        "rows": 500
       }
      },
      "text/html": [
       "<div>\n",
       "<style scoped>\n",
       "    .dataframe tbody tr th:only-of-type {\n",
       "        vertical-align: middle;\n",
       "    }\n",
       "\n",
       "    .dataframe tbody tr th {\n",
       "        vertical-align: top;\n",
       "    }\n",
       "\n",
       "    .dataframe thead th {\n",
       "        text-align: right;\n",
       "    }\n",
       "</style>\n",
       "<table border=\"1\" class=\"dataframe\">\n",
       "  <thead>\n",
       "    <tr style=\"text-align: right;\">\n",
       "      <th></th>\n",
       "      <th>encoded biscuit</th>\n",
       "      <th>r</th>\n",
       "    </tr>\n",
       "  </thead>\n",
       "  <tbody>\n",
       "    <tr>\n",
       "      <th>0</th>\n",
       "      <td>0</td>\n",
       "      <td>7.797961e-07</td>\n",
       "    </tr>\n",
       "    <tr>\n",
       "      <th>1</th>\n",
       "      <td>0</td>\n",
       "      <td>8.189772e-07</td>\n",
       "    </tr>\n",
       "    <tr>\n",
       "      <th>2</th>\n",
       "      <td>1</td>\n",
       "      <td>3.639434e-07</td>\n",
       "    </tr>\n",
       "    <tr>\n",
       "      <th>3</th>\n",
       "      <td>2</td>\n",
       "      <td>3.198697e-07</td>\n",
       "    </tr>\n",
       "    <tr>\n",
       "      <th>4</th>\n",
       "      <td>2</td>\n",
       "      <td>2.973448e-07</td>\n",
       "    </tr>\n",
       "    <tr>\n",
       "      <th>...</th>\n",
       "      <td>...</td>\n",
       "      <td>...</td>\n",
       "    </tr>\n",
       "    <tr>\n",
       "      <th>495</th>\n",
       "      <td>1</td>\n",
       "      <td>4.176549e-07</td>\n",
       "    </tr>\n",
       "    <tr>\n",
       "      <th>496</th>\n",
       "      <td>2</td>\n",
       "      <td>3.187500e-07</td>\n",
       "    </tr>\n",
       "    <tr>\n",
       "      <th>497</th>\n",
       "      <td>2</td>\n",
       "      <td>3.194081e-07</td>\n",
       "    </tr>\n",
       "    <tr>\n",
       "      <th>498</th>\n",
       "      <td>0</td>\n",
       "      <td>7.453712e-07</td>\n",
       "    </tr>\n",
       "    <tr>\n",
       "      <th>499</th>\n",
       "      <td>0</td>\n",
       "      <td>7.004029e-07</td>\n",
       "    </tr>\n",
       "  </tbody>\n",
       "</table>\n",
       "<p>500 rows × 2 columns</p>\n",
       "</div>"
      ],
      "text/plain": [
       "    encoded biscuit             r\n",
       "0                 0  7.797961e-07\n",
       "1                 0  8.189772e-07\n",
       "2                 1  3.639434e-07\n",
       "3                 2  3.198697e-07\n",
       "4                 2  2.973448e-07\n",
       "..              ...           ...\n",
       "495               1  4.176549e-07\n",
       "496               2  3.187500e-07\n",
       "497               2  3.194081e-07\n",
       "498               0  7.453712e-07\n",
       "499               0  7.004029e-07\n",
       "\n",
       "[500 rows x 2 columns]"
      ]
     },
     "execution_count": 92,
     "metadata": {},
     "output_type": "execute_result"
    }
   ],
   "source": [
    "training_merged = big_data.merge(microscopy_data, how='inner')\n",
    "true_distributions = training_merged[['encoded biscuit', 'r']].copy()\n",
    "true_distributions"
   ]
  },
  {
   "cell_type": "code",
   "execution_count": 93,
   "metadata": {},
   "outputs": [
    {
     "data": {
      "text/plain": [
       "Text(0, 0.5, 'r')"
      ]
     },
     "execution_count": 93,
     "metadata": {},
     "output_type": "execute_result"
    },
    {
     "data": {
      "image/png": "[encoded data removed]",
      "text/plain": [
       "<Figure size 1000x600 with 2 Axes>"
      ]
     },
     "metadata": {},
     "output_type": "display_data"
    }
   ],
   "source": [
    "fig,ax=plt.subplots(1,2, figsize=(10,6))\n",
    "\n",
    "ax[0].set_title(\"Predicted Radii Distribution\")\n",
    "ax[0].scatter(micro_predictions, microscopy_data[\"r\"], s=5)\n",
    "ax[0].set_xticks(np.arange(0, len(biscuits)))\n",
    "ax[0].set_xticklabels(biscuits)\n",
    "ax[0].set_ylabel(\"r\")\n",
    "\n",
    "\n",
    "ax[1].set_title(\"Known Radii Distribution\")\n",
    "ax[1].scatter(true_distributions['encoded biscuit'], true_distributions[\"r\"], s=5)\n",
    "ax[1].set_xticks(np.arange(0, len(biscuits)))\n",
    "ax[1].set_xticklabels(biscuits)\n",
    "ax[1].set_ylabel(\"r\")"
   ]
  },
  {
   "cell_type": "code",
   "execution_count": 94,
   "metadata": {},
   "outputs": [
    {
     "data": {
      "text/plain": [
       "0      7.453712e-07\n",
       "9      8.919035e-07\n",
       "12     7.250476e-07\n",
       "19     7.137298e-07\n",
       "22     7.894797e-07\n",
       "           ...     \n",
       "491    6.095021e-07\n",
       "492    8.991764e-07\n",
       "496    8.798032e-07\n",
       "497    8.652230e-07\n",
       "498    8.128785e-07\n",
       "Name: r, Length: 161, dtype: float64"
      ]
     },
     "execution_count": 94,
     "metadata": {},
     "output_type": "execute_result"
    }
   ],
   "source": [
    "map0 = np.where(micro_predictions==0, True, False)\n",
    "microscopy_data[\"r\"][map0]"
   ]
  },
  {
   "cell_type": "code",
   "execution_count": 95,
   "metadata": {},
   "outputs": [],
   "source": [
    "from scipy.stats import norm\n",
    "\n",
    "def get_norm_distribution(data):\n",
    "    mean = np.mean(data)\n",
    "    std = np.std(data)\n",
    "    distribution = norm.rvs(mean, std)\n",
    "    return distribution.pdf()"
   ]
  },
  {
   "cell_type": "code",
   "execution_count": null,
   "metadata": {},
   "outputs": [],
   "source": []
  },
  {
   "cell_type": "code",
   "execution_count": null,
   "metadata": {},
   "outputs": [],
   "source": []
  },
  {
   "cell_type": "code",
   "execution_count": 96,
   "metadata": {},
   "outputs": [
    {
     "name": "stdout",
     "output_type": "stream",
     "text": [
      "Digestive\n",
      "predicted mean: 7.92e-07\n",
      "true mean: 8.03e-07\n",
      "predicted std: 7.85e-08\n",
      "true std: 5.8e-08\n",
      "\n",
      "Hobnob\n",
      "predicted mean: 5.11e-07\n",
      "true mean: 4.96e-07\n",
      "predicted std: 1.08e-07\n",
      "true std: 8e-08\n",
      "\n",
      "Rich Tea\n",
      "predicted mean: 3.32e-07\n",
      "true mean: 3.04e-07\n",
      "predicted std: 1.06e-07\n",
      "true std: 4.7e-08\n",
      "\n"
     ]
    },
    {
     "data": {
      "text/plain": [
       "Text(0.5, 1.0, 'Known Radii Distributions')"
      ]
     },
     "execution_count": 96,
     "metadata": {},
     "output_type": "execute_result"
    },
    {
     "data": {
      "image/png": "[encoded data removed]",
      "text/plain": [
       "<Figure size 1200x500 with 2 Axes>"
      ]
     },
     "metadata": {},
     "output_type": "display_data"
    }
   ],
   "source": [
    "# plot as histogram\n",
    "\n",
    "fig, ax = plt.subplots(1,2,figsize=(12,5))\n",
    "\n",
    "pore_radii = []\n",
    "\n",
    "for i, biscuit in enumerate(biscuits):\n",
    "    print(f\"{biscuit}\")\n",
    "    map = np.where(micro_predictions==i, True, False)\n",
    "    biscuit_r_data = microscopy_data[\"r\"][map]\n",
    "    ax[0].hist(biscuit_r_data, bins=70, alpha=0.7, density=True, label=biscuit)\n",
    "    \n",
    "    true_biscuit_r_data = true_distributions[\"r\"][true_distributions['encoded biscuit']==i]\n",
    "    ax[1].hist(true_biscuit_r_data, bins=70, alpha=0.7, density=True, label=biscuit)\n",
    "    \n",
    "    mean, std = norm.fit(biscuit_r_data)\n",
    "    # xmin, xmax = plt.xlim()\n",
    "    x = np.linspace(1.5e-7, 9e-7, 100)\n",
    "    p = (norm.pdf(x, mean, std))\n",
    "    pore_radii.append(mean)\n",
    "    ax[0].plot(x,p, color=f\"C{i}\")\n",
    "    \n",
    "    \n",
    "    true_mean, true_std = norm.fit(true_biscuit_r_data)\n",
    "    # xmin, xmax = plt.xlim()\n",
    "    x = np.linspace(1.5e-7, 9e-7, 100)\n",
    "    p = (norm.pdf(x, true_mean, true_std))\n",
    "    ax[1].plot(x,p, color=f\"C{i}\")\n",
    "    print(f\"predicted mean: {mean:.3}\")\n",
    "    print(f\"true mean: {true_mean:.3}\")\n",
    "    print(f\"predicted std: {std:.3}\")\n",
    "    print(f\"true std: {true_std:.3}\\n\")\n",
    "    \n",
    "ax[0].set_xlabel(\"Pore radius size / m\")\n",
    "ax[0].set_xlabel(\"Probability Density\")\n",
    "ax[0].legend()\n",
    "ax[0].set_title(\"Predicted Radii Distributions\")\n",
    "ax[1].set_xlabel(\"Pore radius size / m\")\n",
    "ax[1].set_xlabel(\"Probability Density\")\n",
    "ax[1].legend()\n",
    "ax[1].set_title(\"Known Radii Distributions\")"
   ]
  },
  {
   "cell_type": "markdown",
   "metadata": {},
   "source": []
  },
  {
   "cell_type": "markdown",
   "metadata": {},
   "source": [
    "#### Time-resolved measurements\n",
    "Another dataset has been provided, which investigates the capillary flow rate of the tea in the\n",
    "biscuits. This involved taking a blind sample of each of the biscuits and measuring the length\n",
    "that the tea soaked up the biscuit in a time range from 30 s to 300 s.\n",
    "\n",
    "• the tea surface tension was measured at 6.78 × 10−2 N m−1.\n",
    "\n",
    "• the contact angle was 1.45 rad.\n",
    "\n",
    "• the tea dynamic viscosity was 9.93 × 10−4 Pa s.\n",
    "\n",
    "The biscuit used for each measurement is unknown, and the data files are titled tr-1.csv, tr-2.csv, and tr-3.csv. Each data file contains the same information, three columns of experimental data:\n",
    "\n",
    "1. t: the time elapsed in the measurement, in s, the dependent variable.\n",
    "2. L: the length the tea has soaked up the biscuit, the independent variable, in m.\n",
    "3. dL: an estimate of the uncertainty in length, also in m."
   ]
  },
  {
   "cell_type": "code",
   "execution_count": 98,
   "metadata": {},
   "outputs": [
    {
     "data": {
      "application/vnd.microsoft.datawrangler.viewer.v0+json": {
       "columns": [
        {
         "name": "index",
         "rawType": "int64",
         "type": "integer"
        },
        {
         "name": "t",
         "rawType": "float64",
         "type": "float"
        },
        {
         "name": "L",
         "rawType": "float64",
         "type": "float"
        },
        {
         "name": "dL",
         "rawType": "float64",
         "type": "float"
        }
       ],
       "conversionMethod": "pd.DataFrame",
       "ref": "12ae51bb-2857-4bd8-9030-bd50ac79e100",
       "rows": [
        [
         "0",
         "30.0",
         "0.0111873083215491",
         "0.0003709764385684"
        ],
        [
         "1",
         "32.72727272727273",
         "0.0115661876226074",
         "0.0006091911578739"
        ],
        [
         "2",
         "35.45454545454545",
         "0.0119416064899943",
         "0.0008092293774454"
        ],
        [
         "3",
         "38.18181818181818",
         "0.0125020819027429",
         "0.0006138671505386"
        ],
        [
         "4",
         "40.90909090909091",
         "0.0133425820369249",
         "0.0004804750330683"
        ]
       ],
       "shape": {
        "columns": 3,
        "rows": 5
       }
      },
      "text/html": [
       "<div>\n",
       "<style scoped>\n",
       "    .dataframe tbody tr th:only-of-type {\n",
       "        vertical-align: middle;\n",
       "    }\n",
       "\n",
       "    .dataframe tbody tr th {\n",
       "        vertical-align: top;\n",
       "    }\n",
       "\n",
       "    .dataframe thead th {\n",
       "        text-align: right;\n",
       "    }\n",
       "</style>\n",
       "<table border=\"1\" class=\"dataframe\">\n",
       "  <thead>\n",
       "    <tr style=\"text-align: right;\">\n",
       "      <th></th>\n",
       "      <th>t</th>\n",
       "      <th>L</th>\n",
       "      <th>dL</th>\n",
       "    </tr>\n",
       "  </thead>\n",
       "  <tbody>\n",
       "    <tr>\n",
       "      <th>0</th>\n",
       "      <td>30.000000</td>\n",
       "      <td>0.011187</td>\n",
       "      <td>0.000371</td>\n",
       "    </tr>\n",
       "    <tr>\n",
       "      <th>1</th>\n",
       "      <td>32.727273</td>\n",
       "      <td>0.011566</td>\n",
       "      <td>0.000609</td>\n",
       "    </tr>\n",
       "    <tr>\n",
       "      <th>2</th>\n",
       "      <td>35.454545</td>\n",
       "      <td>0.011942</td>\n",
       "      <td>0.000809</td>\n",
       "    </tr>\n",
       "    <tr>\n",
       "      <th>3</th>\n",
       "      <td>38.181818</td>\n",
       "      <td>0.012502</td>\n",
       "      <td>0.000614</td>\n",
       "    </tr>\n",
       "    <tr>\n",
       "      <th>4</th>\n",
       "      <td>40.909091</td>\n",
       "      <td>0.013343</td>\n",
       "      <td>0.000480</td>\n",
       "    </tr>\n",
       "  </tbody>\n",
       "</table>\n",
       "</div>"
      ],
      "text/plain": [
       "           t         L        dL\n",
       "0  30.000000  0.011187  0.000371\n",
       "1  32.727273  0.011566  0.000609\n",
       "2  35.454545  0.011942  0.000809\n",
       "3  38.181818  0.012502  0.000614\n",
       "4  40.909091  0.013343  0.000480"
      ]
     },
     "execution_count": 98,
     "metadata": {},
     "output_type": "execute_result"
    }
   ],
   "source": [
    "tr_1 = pd.read_csv(\"tr-1.csv\")\n",
    "tr_2 = pd.read_csv(\"tr-2.csv\")\n",
    "tr_3 = pd.read_csv(\"tr-3.csv\")\n",
    "\n",
    "tr_3.head()"
   ]
  },
  {
   "cell_type": "code",
   "execution_count": 99,
   "metadata": {},
   "outputs": [
    {
     "data": {
      "text/plain": [
       "<matplotlib.legend.Legend at 0x7febb96b5550>"
      ]
     },
     "execution_count": 99,
     "metadata": {},
     "output_type": "execute_result"
    },
    {
     "data": {
      "image/png": "[encoded data removed]",
      "text/plain": [
       "<Figure size 640x480 with 1 Axes>"
      ]
     },
     "metadata": {},
     "output_type": "display_data"
    }
   ],
   "source": [
    "fig, ax = plt.subplots()\n",
    "\n",
    "for i in range(1,4):\n",
    "    data = pd.read_csv(f\"tr-{i}.csv\")\n",
    "    x = data[\"t\"]\n",
    "    y = data[\"L\"]\n",
    "    dy = data[\"dL\"]\n",
    "    \n",
    "    ax.errorbar(x,y,dy,label=f\"tr-{i}\")\n",
    "    \n",
    "ax.set_xlabel(\"t / s\")\n",
    "ax.set_ylabel(\"L / m\")\n",
    "ax.legend()"
   ]
  },
  {
   "cell_type": "code",
   "execution_count": 100,
   "metadata": {},
   "outputs": [],
   "source": [
    "def washburn(gamma,r,t,phi,eta):\n",
    "    \"\"\"\n",
    "    REDO\n",
    "    A first order rate equation.\n",
    "    \n",
    "    :param gamma: The time to evaluate the rate equation at.\n",
    "    :param r: The rate constant.\n",
    "    :param t: The initial concentration of A.\n",
    "    :param phi: The initial concentration of A.\n",
    "    :param eta: The initial concentration of A.\n",
    "    \n",
    "    :return: The concentration of A at time t.\n",
    "    \"\"\"\n",
    "    \n",
    "    numerator = gamma*r*t*np.cos(phi)\n",
    "    denominator = 2*eta\n",
    "    \n",
    "    L = np.sqrt(numerator / denominator)\n",
    "    \n",
    "    return L"
   ]
  },
  {
   "cell_type": "code",
   "execution_count": 101,
   "metadata": {},
   "outputs": [],
   "source": [
    "import pymc as pm\n",
    "import arviz as az\n",
    "\n",
    "\n",
    "def run_pymc(data):\n",
    "    \n",
    "    D = [norm(data['L'][i], data['dL'][i]) for i in range(len(data))]\n",
    "    \n",
    "    with pm.Model() as model:\n",
    "        gamma = 6.78e-2\n",
    "        r = pm.Uniform('r', 1.5e-7, 1.2e-6)\n",
    "        phi = 1.45\n",
    "        eta = 9.93e-4\n",
    "        \n",
    "        L = pm.Normal('t', \n",
    "                    mu=washburn(gamma,r,data[\"t\"],phi,eta), \n",
    "                    sigma=data['dL'], \n",
    "                    observed=data['L'])\n",
    "        \n",
    "        trace = pm.sample(1000, tune=1000, chains=10, progressbar=True)\n",
    "        \n",
    "\n",
    "    az.plot_trace(trace, var_names=[\"r\"])\n",
    "    plt.tight_layout()\n",
    "    plt.show()\n",
    "    \n",
    "    return float(trace.posterior[\"r\"].mean()), float(trace.posterior[\"r\"].mean())"
   ]
  },
  {
   "cell_type": "code",
   "execution_count": 102,
   "metadata": {},
   "outputs": [],
   "source": [
    "# irrelevant - getting ideal r from washburn fits. \n",
    "\n",
    "# # fig, ax = plt.subplots()\n",
    "# data_r_avs = []\n",
    "# data_r_stds = []\n",
    "\n",
    "# for i in range(1,4):\n",
    "#     data = pd.read_csv(f\"tr-{i}.csv\")\n",
    "#     x = data[\"t\"]\n",
    "#     y = data[\"L\"]\n",
    "#     dy = data[\"dL\"]\n",
    "    \n",
    "#     data_r, data_std = run_pymc(data)\n",
    "#     data_r_avs.append(data_r)\n",
    "#     data_r_stds.append(data_std)\n"
   ]
  },
  {
   "cell_type": "code",
   "execution_count": 103,
   "metadata": {},
   "outputs": [
    {
     "data": {
      "text/plain": [
       "array(['Digestive', 'Hobnob', 'Rich Tea'], dtype=object)"
      ]
     },
     "execution_count": 103,
     "metadata": {},
     "output_type": "execute_result"
    }
   ],
   "source": [
    "biscuits"
   ]
  },
  {
   "cell_type": "code",
   "execution_count": 104,
   "metadata": {},
   "outputs": [
    {
     "data": {
      "text/plain": [
       "[7.924779536489041e-07, 5.114688121359469e-07, 3.32032406004953e-07]"
      ]
     },
     "execution_count": 104,
     "metadata": {},
     "output_type": "execute_result"
    }
   ],
   "source": [
    "pore_radii"
   ]
  },
  {
   "cell_type": "code",
   "execution_count": 105,
   "metadata": {},
   "outputs": [
    {
     "data": {
      "image/png": "[encoded data removed]",
      "text/plain": [
       "<Figure size 1000x500 with 1 Axes>"
      ]
     },
     "metadata": {},
     "output_type": "display_data"
    }
   ],
   "source": [
    "# washburn model fittings\n",
    "\n",
    "fig, ax = plt.subplots(figsize=(10,5))\n",
    "\n",
    "tr_list = [3,1,2]\n",
    "\n",
    "for i, tr_val in enumerate(tr_list):\n",
    "    data = pd.read_csv(f\"tr-{tr_val}.csv\")\n",
    "    x = data[\"t\"]\n",
    "    y = data[\"L\"]\n",
    "    dy = data[\"dL\"]\n",
    "    \n",
    "    washburn_data_rfc = washburn(6.78e-2, pore_radii[i], data[\"t\"], 1.45, 9.93e-4 )\n",
    "    ax.errorbar(x,y,dy,label=f\"{biscuits[i]} True data\", alpha=0.7, color=f\"C{i}\")\n",
    "    \n",
    "    ax.plot(data[\"t\"], washburn_data_rfc, marker='x', color=f\"C{i}\", zorder=3, label=f'{biscuits[i]} Washburn relationship') \n",
    "    \n",
    "    \n",
    "ax.set_xlabel(\"Time / s\")\n",
    "ax.set_ylabel(\"Length of Tea Up Biscuit / m\")\n",
    "ax.legend()\n",
    "plt.show()"
   ]
  },
  {
   "cell_type": "markdown",
   "metadata": {},
   "source": [
    "#### regression"
   ]
  },
  {
   "cell_type": "code",
   "execution_count": 130,
   "metadata": {},
   "outputs": [
    {
     "name": "stdout",
     "output_type": "stream",
     "text": [
      "model:\n",
      "0.0 t + 0.0001327 t**2 + -1.467e-07 \n"
     ]
    }
   ],
   "source": [
    "from sklearn.preprocessing import PolynomialFeatures\n",
    "from sklearn.linear_model import LinearRegression\n",
    "from sklearn.metrics import mean_squared_error\n",
    "\n",
    "\n",
    "data = pd.read_csv(f\"tr-3.csv\")\n",
    "\n",
    "poly = PolynomialFeatures(degree=2)\n",
    "model = LinearRegression()\n",
    "\n",
    "train, test = train_test_split(data, test_size=0.2, random_state=42)\n",
    "\n",
    "X_ = poly.fit_transform(train[\"t\"].values.reshape(-1,1))\n",
    "y = train['L']\n",
    "\n",
    "model.fit(X_, y)\n",
    "\n",
    "reg_prediction = model.predict(X_)\n",
    "####\n",
    "\n",
    "X_test = test['t'].values.reshape(-1,1)\n",
    "X_test_ = poly.fit_transform(X_test)\n",
    "\n",
    "# true values\n",
    "y_test = test['L'].values\n",
    "\n",
    "mean_squared_error(y_test , model.predict(X_test_))\n",
    "\n",
    "model.coef_\n",
    "\n",
    "print(\"model:\")\n",
    "print(f\"{model.coef_[0]:.4} t + {model.coef_[1]:.4} t**2 + {model.coef_[2]:.4} \")"
   ]
  },
  {
   "cell_type": "code",
   "execution_count": 107,
   "metadata": {},
   "outputs": [],
   "source": [
    "def reg_model(r, t):\n",
    "    return (1.54e+02*r + -1.8e+07*(r**2) + 2.16e-05)*t + (-0.254*r + 9.33e+04*(r**2) + -3.76e-09)*(t**2) + (3.96e+03*r + 3.74e+09*(r**2) + 0.00272)"
   ]
  },
  {
   "cell_type": "code",
   "execution_count": 134,
   "metadata": {},
   "outputs": [],
   "source": [
    "gamma = 6.78e-2\n",
    "phi = 1.45\n",
    "eta = 9.93e-4\n",
    "\n",
    "constant = np.sqrt(gamma*np.cos(phi)/2*eta)"
   ]
  },
  {
   "cell_type": "code",
   "execution_count": 135,
   "metadata": {},
   "outputs": [],
   "source": [
    "def calc_constant(t):\n",
    "    gamma = 6.78e-2\n",
    "    phi = 1.45\n",
    "    eta = 9.93e-4\n",
    "\n",
    "    constant = np.sqrt(gamma*t*np.cos(phi)/2*eta)\n",
    "    return constant"
   ]
  },
  {
   "cell_type": "code",
   "execution_count": 152,
   "metadata": {},
   "outputs": [
    {
     "name": "stdout",
     "output_type": "stream",
     "text": [
      "Digestive\n",
      "[ 2.03044041e-03 -6.26007289e-08]\n",
      "0.00203*t + -6.26e-08*(t**2) + 2.64e-05\n",
      "RMSE for Washburn model: 0.0198\n",
      "RMSE for Polynomial regression model: 0.000249\n",
      "\n",
      "\n",
      "Hobnob\n",
      "[ 1.51886381e-03 -2.56966516e-06]\n",
      "0.00152*t + -2.57e-06*(t**2) + -0.0003\n",
      "RMSE for Washburn model: 0.0137\n",
      "RMSE for Polynomial regression model: 0.000194\n",
      "\n",
      "\n",
      "Rich Tea\n",
      "[1.05646313e-03 4.47610565e-07]\n",
      "0.00106*t + 4.48e-07*(t**2) + 0.000112\n",
      "RMSE for Washburn model: 0.00969\n",
      "RMSE for Polynomial regression model: 0.00015\n",
      "\n",
      "\n"
     ]
    },
    {
     "data": {
      "image/png": "[encoded data removed]",
      "text/plain": [
       "<Figure size 1000x500 with 1 Axes>"
      ]
     },
     "metadata": {},
     "output_type": "display_data"
    }
   ],
   "source": [
    "from sklearn.preprocessing import PolynomialFeatures\n",
    "from sklearn.linear_model import LinearRegression\n",
    "from sklearn.metrics import mean_squared_error\n",
    "\n",
    "\n",
    "fig, ax = plt.subplots(figsize=(10,5))\n",
    "\n",
    "tr_list = [3,1,2]\n",
    "poly = PolynomialFeatures(degree=2, include_bias=False)\n",
    "model = LinearRegression()\n",
    "\n",
    "coef0 = []\n",
    "coef1 = []\n",
    "intercepts = []\n",
    "\n",
    "for i, tr_val in enumerate(tr_list):\n",
    "    print(f\"{biscuits[i]}\")\n",
    "    \n",
    "    data = pd.read_csv(f\"tr-{tr_val}.csv\")\n",
    "    data['t'] = np.sqrt(data['t'])\n",
    "    x = data[\"t\"].values.reshape(-1,1)\n",
    "    y = data[\"L\"]\n",
    "    dy = data[\"dL\"]\n",
    "    data['L'] = data['L']\n",
    "    # data['L'] = (constant*np.sqrt(pore_radii[i])) / data['L']\n",
    "    \n",
    "    train, test = train_test_split(data, test_size=0.2, random_state=42)\n",
    "    \n",
    "    X_train = poly.fit_transform(train[\"t\"].values.reshape(-1,1))\n",
    "    y_train = train['L']\n",
    "    \n",
    "    model.fit(X_train, y_train)\n",
    "    \n",
    "    X_test = test['t'].values.reshape(-1,1)\n",
    "    X_test_ = poly.fit_transform(X_test)\n",
    "    \n",
    "    y_test = test['L'].values\n",
    "    \n",
    "    def model_fit(t):\n",
    "        print(model.coef_)\n",
    "        model_fit = model.coef_[0]*t + model.coef_[1]*(t**2) + model.intercept_\n",
    "        print(f\"{model.coef_[0]:.3}*t + {model.coef_[1]:.3}*(t**2) + {model.intercept_:.3}\")\n",
    "        return model_fit\n",
    "    \n",
    "    coef0.append(model.coef_[0])\n",
    "    coef1.append(model.coef_[1])\n",
    "    intercepts.append(model.intercept_)\n",
    "    \n",
    "    washburn_data_rfc = washburn(6.78e-2, pore_radii[i], data[\"t\"], 1.45, 9.93e-4 )\n",
    "    # ax.errorbar(x,y,dy,label=f\"{biscuits[i]} True data\", alpha=0.4, color=f\"C{i}\")\n",
    "    ax.scatter(test['t'], model_fit(test['t']), marker='x', c='black', zorder=4)\n",
    "    # ax.plot(data['t'], reg_model(pore_radii[i], data['t']), label='reg model')\n",
    "    \n",
    "    ax.plot(data[\"t\"], washburn_data_rfc, marker='x', linestyle=\"\", color=f\"C{i}\", zorder=3, label=f'{biscuits[i]} Washburn relationship') \n",
    "    \n",
    "    mse_wash = np.sqrt(mean_squared_error(y , washburn_data_rfc))\n",
    "    mse_reg =  np.sqrt(mean_squared_error(y_test , model.predict(X_test_)))\n",
    "    \n",
    "    print(f\"RMSE for Washburn model: {mse_wash:.3}\")\n",
    "    print(f\"RMSE for Polynomial regression model: {mse_reg:.3}\")\n",
    "    # print(model.coef_)\n",
    "    print(f\"\\n\")\n",
    "    \n",
    "    \n",
    "ax.set_xlabel(\"Time / s\")\n",
    "ax.set_ylabel(\"Length of Tea Up Biscuit / m\")\n",
    "ax.legend()\n",
    "plt.show()"
   ]
  },
  {
   "cell_type": "code",
   "execution_count": 143,
   "metadata": {},
   "outputs": [
    {
     "data": {
      "text/plain": [
       "[7.924779536489041e-07, 5.114688121359469e-07, 3.32032406004953e-07]"
      ]
     },
     "execution_count": 143,
     "metadata": {},
     "output_type": "execute_result"
    }
   ],
   "source": [
    "pore_radii"
   ]
  },
  {
   "cell_type": "code",
   "execution_count": null,
   "metadata": {},
   "outputs": [],
   "source": [
    "import jax as jnp\n",
    "\n",
    "def f(x):\n",
    "    \"\"\"\n",
    "    An example function for JAX. \n",
    "    :param x: input to the function.\n",
    "    :return: output of the function.\n",
    "    \"\"\"\n",
    "    return jnp.square(x) + jnp.log(x)"
   ]
  },
  {
   "cell_type": "code",
   "execution_count": 144,
   "metadata": {},
   "outputs": [
    {
     "name": "stdout",
     "output_type": "stream",
     "text": [
      "[1.08971059e+06 4.51014216e+11]\n",
      "-0.134 + 1.09e+06*r + 4.51e+11*(r**2) \n",
      "[-1.45648285e+03  1.28944731e+09]\n",
      "0.000354 + -1.46e+03*r + 1.29e+09*(r**2) \n",
      "[-2.75028739e+07  2.44467903e+13]\n",
      "6.85 + -2.75e+07*r + 2.44e+13*(r**2) \n"
     ]
    }
   ],
   "source": [
    "# determine relationship between pore size and polynomial coefficients\n",
    "\n",
    "\n",
    "poly = PolynomialFeatures(degree=2, include_bias=False)\n",
    "model = LinearRegression()\n",
    "\n",
    "relationships = [coef0, coef1, intercepts]\n",
    "for relationship in relationships:\n",
    "    X_ = poly.fit_transform(np.array(pore_radii).reshape(-1,1))\n",
    "    y = relationship\n",
    "\n",
    "    model.fit(X_, y)\n",
    "       \n",
    "    print(model.coef_)\n",
    "    print(f\"{model.intercept_:.3} + {model.coef_[0]:.3}*r + {model.coef_[1]:.3}*(r**2) \")\n",
    "\n",
    "    # fit = model_fit(pore_radii)\n",
    "\n",
    "# reg_prediction = model.predict(X_)\n",
    "####\n",
    "\n",
    "\n"
   ]
  },
  {
   "cell_type": "code",
   "execution_count": 111,
   "metadata": {},
   "outputs": [],
   "source": [
    "def reg_model(r, t):\n",
    "    return (1.54e+02*r + -1.8e+07*(r**2) + 2.16e-05)*t + (-0.254*r + 9.33e+04*(r**2) + -3.76e-09)*(t**2) + (3.96e+03*r + 3.74e+09*(r**2) + 0.00272)"
   ]
  },
  {
   "cell_type": "code",
   "execution_count": 112,
   "metadata": {},
   "outputs": [
    {
     "data": {
      "text/plain": [
       "[<matplotlib.lines.Line2D at 0x7febace8abd0>]"
      ]
     },
     "execution_count": 112,
     "metadata": {},
     "output_type": "execute_result"
    },
    {
     "data": {
      "image/png": "[encoded data removed]",
      "text/plain": [
       "<Figure size 640x480 with 1 Axes>"
      ]
     },
     "metadata": {},
     "output_type": "display_data"
    }
   ],
   "source": [
    "data = pd.read_csv(\"tr-3.csv\")\n",
    "\n",
    "fig,ax = plt.subplots()\n",
    "\n",
    "ax.plot(data['t'], data['L'])\n",
    "ax.plot(data['t'], reg_model(pore_radii[0], data['t']))"
   ]
  },
  {
   "cell_type": "markdown",
   "metadata": {},
   "source": [
    "#### comparison of models"
   ]
  },
  {
   "cell_type": "code",
   "execution_count": 113,
   "metadata": {},
   "outputs": [],
   "source": [
    "import numpy as np\n",
    "from scipy.stats import norm\n",
    "\n",
    "data = pd.read_csv(\"tr-3.csv\")\n",
    "\n",
    "data_distribution = [norm(loc=loc, scale=scale) for loc, scale in zip(data['L'], data['dL'])]\n",
    "\n",
    "def likelihood(params, model):\n",
    "    \"\"\"\n",
    "    A general likelihood function for a model with Gaussian errors.\n",
    "    \n",
    "    :param params: The parameters of the model.\n",
    "    :param model: The model function.\n",
    "    \n",
    "    :return: The likelihood of the model given the data.\n",
    "    \"\"\"\n",
    "    model_y = model(data['t'], params)\n",
    "    return np.sum([d.logpdf(m) for d, m in zip(data_distribution, model_y)])"
   ]
  },
  {
   "cell_type": "markdown",
   "metadata": {},
   "source": [
    "Digestive\n",
    "predicted mean: 7.882179806307386e-07\n",
    "true mean: 8.034291866766941e-07\n",
    "predicted std: 8.18019913091328e-08\n",
    "true std: 5.8005888939756295e-08\n",
    "\n",
    "Hobnob\n",
    "predicted mean: 5.165290698477061e-07\n",
    "true mean: 4.96368880029679e-07\n",
    "predicted std: 1.0527615756955756e-07\n",
    "true std: 8.003103851757349e-08\n",
    "\n",
    "Rich Tea\n",
    "predicted mean: 3.297195784056182e-07\n",
    "true mean: 3.038970573515411e-07\n",
    "predicted std: 1.0690429827239919e-07\n",
    "true std: 4.70262511627653e-08"
   ]
  },
  {
   "cell_type": "code",
   "execution_count": 114,
   "metadata": {},
   "outputs": [],
   "source": [
    "from scipy.stats import uniform, norm\n",
    "\n",
    "# priors about radius mean/ std\n",
    "priors_one = [norm(220, 20)]   # 10 to 30\n",
    "\n",
    "tr3_priors = [norm(7.9e-07, 8.2e-08)]  # distribution of radius\n"
   ]
  },
  {
   "cell_type": "code",
   "execution_count": 115,
   "metadata": {},
   "outputs": [],
   "source": [
    "def prior_transform_one(u):\n",
    "    \"\"\"\n",
    "    Transform the uniform random variables `u` to the model parameters.\n",
    "    \n",
    "    :param u: Uniform random variables\n",
    "    \n",
    "    :return: Model parameters\n",
    "    \"\"\"\n",
    "    return [p.ppf(u_) for p, u_ in zip(tr3_priors, u)]"
   ]
  },
  {
   "cell_type": "code",
   "execution_count": 116,
   "metadata": {},
   "outputs": [],
   "source": [
    "def washburn(gamma,r,t,phi,eta):\n",
    "    \"\"\"\n",
    "    REDO\n",
    "    A first order rate equation.\n",
    "    \n",
    "    :param gamma: The time to evaluate the rate equation at.\n",
    "    :param r: The rate constant.\n",
    "    :param t: The initial concentration of A.\n",
    "    :param phi: The initial concentration of A.\n",
    "    :param eta: The initial concentration of A.\n",
    "    \n",
    "    :return: The concentration of A at time t.\n",
    "    \"\"\"\n",
    "    \n",
    "    numerator = gamma*r*t*np.cos(phi)\n",
    "    denominator = 2*eta\n",
    "    \n",
    "    L = np.sqrt(numerator / denominator)\n",
    "    \n",
    "    # L at time t\n",
    "    return L"
   ]
  },
  {
   "cell_type": "code",
   "execution_count": 117,
   "metadata": {},
   "outputs": [],
   "source": [
    "def model_one(t, params):\n",
    "    \"\"\"\n",
    "    A simpler single Gaussian model.\n",
    "    \n",
    "    :param t: The x values\n",
    "    :param params: The model parameters\n",
    "    \n",
    "    :return: The y values\n",
    "    \"\"\"\n",
    "    t=t.values.reshape(-1,1)\n",
    "    r = params[0]\n",
    "    # print(t)\n",
    "    # print(params[0])\n",
    "    gamma=6.78e-2\n",
    "    phi=1.45\n",
    "    eta=9.93e-4 \n",
    "    \n",
    "    L = washburn(gamma,r,t,phi,eta)\n",
    "    \n",
    "    # L at time t.\n",
    "    return L"
   ]
  },
  {
   "cell_type": "code",
   "execution_count": 118,
   "metadata": {},
   "outputs": [],
   "source": [
    "def likelihood_one(params):\n",
    "    \"\"\"\n",
    "    The likelihood function for the simpler model.\n",
    "    \n",
    "    :param params: The model parameters\n",
    "    \n",
    "    :return: The likelihood\n",
    "    \"\"\"\n",
    "    return likelihood(params, model_one)"
   ]
  },
  {
   "cell_type": "code",
   "execution_count": 119,
   "metadata": {},
   "outputs": [
    {
     "name": "stdout",
     "output_type": "stream",
     "text": [
      "[ultranest] Sampling 400 live points from prior ...\n"
     ]
    },
    {
     "data": {
      "application/vnd.jupyter.widget-view+json": {
       "model_id": "558ccc756d1c41af997d1bc5586a35e0",
       "version_major": 2,
       "version_minor": 0
      },
      "text/plain": [
       "VBox(children=(HTML(value=''), GridspecLayout(children=(HTML(value=\"<div style='background-color:#6E6BF4;'>&nb…"
      ]
     },
     "metadata": {},
     "output_type": "display_data"
    },
    {
     "name": "stdout",
     "output_type": "stream",
     "text": [
      "[ultranest] Explored until L=4e+02  \n",
      "[ultranest] Likelihood function evaluations: 5325\n",
      "[ultranest]   logZ = 411.3 +- 0.1195\n",
      "[ultranest] Effective samples strategy satisfied (ESS = 1246.6, need >400)\n",
      "[ultranest] Posterior uncertainty strategy is satisfied (KL: 0.47+-0.10 nat, need <0.50 nat)\n",
      "[ultranest] Evidency uncertainty strategy is satisfied (dlogz=0.12, need <0.5)\n",
      "[ultranest]   logZ error budget: single: 0.14 bs:0.12 tail:0.03 total:0.12 required:<0.50\n",
      "[ultranest] done iterating.\n",
      "\n",
      "logZ = 411.318 +- 0.177\n",
      "  single instance: logZ = 411.318 +- 0.141\n",
      "  bootstrapped   : logZ = 411.286 +- 0.175\n",
      "  tail           : logZ = +- 0.029\n",
      "insert order U test : converged: True correlation: inf iterations\n",
      "\n",
      "    r_dist              : 0.00000100284│ ▁  ▁▁▁▁▁▁▁▂▂▃▃▄▆▆▆▇▇▇▇▆▆▄▃▃▂▂▁▁▁▁▁ ▁▁ │0.00000100663    0.00000100482 +- 0.00000000045\n",
      "\n"
     ]
    }
   ],
   "source": [
    "import ultranest\n",
    "\n",
    "sampler_one = ultranest.ReactiveNestedSampler(['r_dist'], likelihood_one, prior_transform_one)\n",
    "sampler_one.run(show_status=False)\n",
    "sampler_one.print_results()"
   ]
  },
  {
   "cell_type": "code",
   "execution_count": 120,
   "metadata": {},
   "outputs": [],
   "source": [
    "# priors_two = tr3_priors\n",
    "\n",
    "def prior_transform_two(u):\n",
    "    \"\"\"\n",
    "    Transform the uniform random variables `u` to the model parameters for the more complex model.\n",
    "    \n",
    "    :param u: Uniform random variables\n",
    "    \n",
    "    :return: Model parameters\n",
    "    \"\"\"\n",
    "    return [p.ppf(u_) for p, u_ in zip(tr3_priors, u)]"
   ]
  },
  {
   "cell_type": "code",
   "execution_count": 121,
   "metadata": {},
   "outputs": [],
   "source": [
    "# poly = PolynomialFeatures(degree=2)\n",
    "# X_ = poly.fit_transform(data['t'].values.reshape(-1,1))\n",
    "# model = LinearRegression()\n",
    "# model.fit(X_, y)"
   ]
  },
  {
   "cell_type": "code",
   "execution_count": 122,
   "metadata": {},
   "outputs": [],
   "source": [
    "def model_two(t, params):\n",
    "    \"\"\"\n",
    "    A more complex double Gaussian model.\n",
    "    \n",
    "    :param t: The time values\n",
    "    :param params: The model parameters\n",
    "    \n",
    "    :return: The y values\n",
    "    \"\"\"\n",
    "    t = t.values.reshape(-1,1)\n",
    "    \n",
    "    # print(X_.shape)\n",
    "    r = params[0]\n",
    "    # y = np.full((t.shape[0], 1), params[0])\n",
    "    # print(y)\n",
    "    # print(y.ravel())\n",
    "    # print(y.shape)\n",
    "    \n",
    "    L_prediction = (1.54e+02*r + -1.8e+07*(r**2) + 2.16e-05)*t + (-0.254*r + 9.33e+04*(r**2) + -3.76e-09)*(t**2) + (3.96e+03*r + 3.74e+09*(r**2) + 0.00272)\n",
    "    \n",
    "    # reg_prediction = model.predict(t)\n",
    "    \n",
    "    return L_prediction\n",
    "\n",
    "def likelihood_two(params):\n",
    "    \"\"\"\n",
    "    The likelihood function for the more complex model.\n",
    "    \n",
    "    :param params: The model parameters\n",
    "    \n",
    "    :return: The likelihood\n",
    "    \"\"\"\n",
    "    return likelihood(params, model_two)\n",
    "\n"
   ]
  },
  {
   "cell_type": "code",
   "execution_count": 123,
   "metadata": {},
   "outputs": [
    {
     "name": "stdout",
     "output_type": "stream",
     "text": [
      "[ultranest] Sampling 400 live points from prior ...\n"
     ]
    },
    {
     "data": {
      "application/vnd.jupyter.widget-view+json": {
       "model_id": "12dd32af64e946bf95c742d701caf870",
       "version_major": 2,
       "version_minor": 0
      },
      "text/plain": [
       "VBox(children=(HTML(value=''), GridspecLayout(children=(HTML(value=\"<div style='background-color:#6E6BF4;'>&nb…"
      ]
     },
     "metadata": {},
     "output_type": "display_data"
    },
    {
     "name": "stdout",
     "output_type": "stream",
     "text": [
      "[ultranest] Explored until L=1e+02  \n",
      "[ultranest] Likelihood function evaluations: 4181\n",
      "[ultranest]   logZ = 118.1 +- 0.08083\n",
      "[ultranest] Effective samples strategy satisfied (ESS = 1228.6, need >400)\n",
      "[ultranest] Posterior uncertainty strategy is satisfied (KL: 0.47+-0.09 nat, need <0.50 nat)\n",
      "[ultranest] Evidency uncertainty strategy is satisfied (dlogz=0.09, need <0.5)\n",
      "[ultranest]   logZ error budget: single: 0.12 bs:0.08 tail:0.04 total:0.09 required:<0.50\n",
      "[ultranest] done iterating.\n",
      "\n",
      "logZ = 118.114 +- 0.165\n",
      "  single instance: logZ = 118.114 +- 0.116\n",
      "  bootstrapped   : logZ = 118.099 +- 0.161\n",
      "  tail           : logZ = +- 0.035\n",
      "insert order U test : converged: True correlation: inf iterations\n",
      "\n",
      "    r_dist              : 0.00000079844│ ▁▁▁▁▁▁▁▁▂▂▃▄▄▅▇▇▇▇▇▇▆▇▅▃▃▃▂▁▁▁▁▁▁▁▁ ▁ │0.00000080011    0.00000079924 +- 0.00000000021\n",
      "\n"
     ]
    }
   ],
   "source": [
    "sampler_two = ultranest.ReactiveNestedSampler(['r_dist'], likelihood_two, prior_transform_two)\n",
    "sampler_two.run(show_status=False)\n",
    "sampler_two.print_results()"
   ]
  },
  {
   "cell_type": "code",
   "execution_count": 124,
   "metadata": {},
   "outputs": [
    {
     "data": {
      "text/plain": [
       "(118.11370591977399, 0.16461204304416047)"
      ]
     },
     "execution_count": 124,
     "metadata": {},
     "output_type": "execute_result"
    }
   ],
   "source": [
    "sampler_two.results['logz'], sampler_two.results['logzerr']"
   ]
  },
  {
   "cell_type": "code",
   "execution_count": 125,
   "metadata": {},
   "outputs": [
    {
     "data": {
      "text/plain": [
       "-293.204602694707"
      ]
     },
     "execution_count": 125,
     "metadata": {},
     "output_type": "execute_result"
    }
   ],
   "source": [
    "log_B = sampler_two.results['logz'] - sampler_one.results['logz']\n",
    "log_B"
   ]
  },
  {
   "cell_type": "markdown",
   "metadata": {},
   "source": [
    "Another dataset has been provided, which investigates the capillary flow rate of the tea in the\n",
    "biscuits. This involved taking a blind sample of each of the biscuits and measuring the length\n",
    "that the tea soaked up the biscuit in a time range from 30 s to 300 s.\n",
    "\n",
    "• the tea surface tension was measured at 6.78 × 10−2 N m−1.\n",
    "\n",
    "• the contact angle was 1.45 rad.\n",
    "\n",
    "• the tea dynamic viscosity was 9.93 × 10−4 Pa s."
   ]
  },
  {
   "cell_type": "code",
   "execution_count": null,
   "metadata": {},
   "outputs": [],
   "source": []
  },
  {
   "cell_type": "markdown",
   "metadata": {},
   "source": [
    "Assessment: You have been tasked with investigating the available data and outlining\n",
    "the analysis that you have performed in a written report. The aim is not to do the\n",
    "most analysis possible but to find a coherent story in the analysis and present\n",
    "this. Some examples of questions that the team are interested in include:\n",
    "\n",
    "• Can a machine learning algorithm be used to identify the different types of biscuits? YES, USING RFC\n",
    "\n",
    "• How is the pore radius different between the three types of biscuits? HISTOGRAM DONE\n",
    "\n",
    "• How accurate is the Washburn equation for biscuits, and can a machine learning\n",
    "regressor perform better? GOOD FOR HOBNOBS, BAD FOR OTHERS\n",
    "\n",
    "You have been asked to write a report on the available data, perform an analysis, and\n",
    "outline the data results. Furthermore, highlight and describe how the team might use\n",
    "these data in future data-driven investigations."
   ]
  }
 ],
 "metadata": {
  "kernelspec": {
   "display_name": "special-topics_w7",
   "language": "python",
   "name": "python3"
  },
  "language_info": {
   "codemirror_mode": {
    "name": "ipython",
    "version": 3
   },
   "file_extension": ".py",
   "mimetype": "text/x-python",
   "name": "python",
   "nbconvert_exporter": "python",
   "pygments_lexer": "ipython3",
   "version": "3.11.11"
  }
 },
 "nbformat": 4,
 "nbformat_minor": 2
}
