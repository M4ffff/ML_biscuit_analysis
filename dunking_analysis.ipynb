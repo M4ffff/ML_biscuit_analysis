{
 "cells": [
  {
   "cell_type": "markdown",
   "metadata": {},
   "source": [
    "# Dunkin assessment"
   ]
  },
  {
   "cell_type": "code",
   "execution_count": 1,
   "metadata": {},
   "outputs": [],
   "source": [
    "# some imports used throughout script\n",
    "import pandas as pd\n",
    "import numpy as np\n",
    "import matplotlib.pyplot as plt\n",
    "from scipy.stats import uniform, norm\n",
    "\n",
    "from sklearn.preprocessing import StandardScaler\n",
    "from sklearn.model_selection import train_test_split, GridSearchCV\n",
    "from sklearn.svm import SVC\n",
    "from sklearn.ensemble import RandomForestClassifier\n",
    "from sklearn.metrics import precision_score, recall_score, f1_score, r2_score, mean_squared_error\n",
    "from sklearn.linear_model import LinearRegression\n",
    "\n",
    "import ultranest\n",
    "import pymc as pm\n",
    "import arviz as az\n"
   ]
  },
  {
   "cell_type": "code",
   "execution_count": null,
   "metadata": {},
   "outputs": [],
   "source": [
    "# Import functions from helper function\n",
    "from dunking_functions import encode_biscuit_type, washburn, run_pymc, calc_prob_in_distribution, calc_num_stds\n",
    "from dunking_functions import original_prior_transform, likelihood_original, corrected_prior_transform, likelihood_corrected"
   ]
  },
  {
   "cell_type": "markdown",
   "metadata": {},
   "source": [
    "### Big data collection\n",
    "\n",
    "The first provided dataset contains the following data for each individual biscuit: \n",
    "\n",
    "1. gamma: tea surface tension, in N m−1.\n",
    "2. phi: angle between the biscuit and the tea surface, in rad.\n",
    "3. eta: tea dynamic viscosity, in Pa s\n",
    "4. L: distance up the biscuit that the tea was absorbed, in m.\n",
    "5. t: time biscuit was dunked for before measurement done, in s.\n",
    "6. biscuit: type of biscuit that was dunked, out of Rich Tea, Hobnob or Digestive.\n"
   ]
  },
  {
   "cell_type": "code",
   "execution_count": 10,
   "metadata": {},
   "outputs": [
    {
     "name": "stdout",
     "output_type": "stream",
     "text": [
      "shape: (3000, 6)\n"
     ]
    },
    {
     "data": {
      "application/vnd.microsoft.datawrangler.viewer.v0+json": {
       "columns": [
        {
         "name": "index",
         "rawType": "int64",
         "type": "integer"
        },
        {
         "name": "gamma",
         "rawType": "float64",
         "type": "float"
        },
        {
         "name": "phi",
         "rawType": "float64",
         "type": "float"
        },
        {
         "name": "eta",
         "rawType": "float64",
         "type": "float"
        },
        {
         "name": "L",
         "rawType": "float64",
         "type": "float"
        },
        {
         "name": "t",
         "rawType": "float64",
         "type": "float"
        },
        {
         "name": "biscuit",
         "rawType": "object",
         "type": "string"
        }
       ],
       "conversionMethod": "pd.DataFrame",
       "ref": "69850024-41d9-4710-88a1-fcd197e5eecf",
       "rows": [
        [
         "0",
         "0.073896719371497",
         "1.3330055466388109",
         "0.0009987327666543",
         "0.0111960696011351",
         "19.362213715937266",
         "Digestive"
        ],
        [
         "1",
         "0.0809461966098991",
         "1.47675793946145",
         "0.0010117571591316",
         "0.0058943259660231",
         "11.85258933147959",
         "Digestive"
        ],
        [
         "2",
         "0.0874078993348664",
         "1.4771414922137245",
         "0.0009835886160519",
         "0.0092486331281393",
         "24.793669186847307",
         "Digestive"
        ],
        [
         "3",
         "0.0707929707747368",
         "1.502001460603669",
         "0.0010015968629928",
         "0.0037737484142437",
         "16.292779732948908",
         "Hobnob"
        ],
        [
         "4",
         "0.058917455291466",
         "1.548274080494855",
         "0.0010043325545818",
         "0.0022907146279044",
         "13.66227134082432",
         "Hobnob"
        ]
       ],
       "shape": {
        "columns": 6,
        "rows": 5
       }
      },
      "text/html": [
       "<div>\n",
       "<style scoped>\n",
       "    .dataframe tbody tr th:only-of-type {\n",
       "        vertical-align: middle;\n",
       "    }\n",
       "\n",
       "    .dataframe tbody tr th {\n",
       "        vertical-align: top;\n",
       "    }\n",
       "\n",
       "    .dataframe thead th {\n",
       "        text-align: right;\n",
       "    }\n",
       "</style>\n",
       "<table border=\"1\" class=\"dataframe\">\n",
       "  <thead>\n",
       "    <tr style=\"text-align: right;\">\n",
       "      <th></th>\n",
       "      <th>gamma</th>\n",
       "      <th>phi</th>\n",
       "      <th>eta</th>\n",
       "      <th>L</th>\n",
       "      <th>t</th>\n",
       "      <th>biscuit</th>\n",
       "    </tr>\n",
       "  </thead>\n",
       "  <tbody>\n",
       "    <tr>\n",
       "      <th>0</th>\n",
       "      <td>0.073897</td>\n",
       "      <td>1.333006</td>\n",
       "      <td>0.000999</td>\n",
       "      <td>0.011196</td>\n",
       "      <td>19.362214</td>\n",
       "      <td>Digestive</td>\n",
       "    </tr>\n",
       "    <tr>\n",
       "      <th>1</th>\n",
       "      <td>0.080946</td>\n",
       "      <td>1.476758</td>\n",
       "      <td>0.001012</td>\n",
       "      <td>0.005894</td>\n",
       "      <td>11.852589</td>\n",
       "      <td>Digestive</td>\n",
       "    </tr>\n",
       "    <tr>\n",
       "      <th>2</th>\n",
       "      <td>0.087408</td>\n",
       "      <td>1.477141</td>\n",
       "      <td>0.000984</td>\n",
       "      <td>0.009249</td>\n",
       "      <td>24.793669</td>\n",
       "      <td>Digestive</td>\n",
       "    </tr>\n",
       "    <tr>\n",
       "      <th>3</th>\n",
       "      <td>0.070793</td>\n",
       "      <td>1.502001</td>\n",
       "      <td>0.001002</td>\n",
       "      <td>0.003774</td>\n",
       "      <td>16.292780</td>\n",
       "      <td>Hobnob</td>\n",
       "    </tr>\n",
       "    <tr>\n",
       "      <th>4</th>\n",
       "      <td>0.058917</td>\n",
       "      <td>1.548274</td>\n",
       "      <td>0.001004</td>\n",
       "      <td>0.002291</td>\n",
       "      <td>13.662271</td>\n",
       "      <td>Hobnob</td>\n",
       "    </tr>\n",
       "  </tbody>\n",
       "</table>\n",
       "</div>"
      ],
      "text/plain": [
       "      gamma       phi       eta         L          t    biscuit\n",
       "0  0.073897  1.333006  0.000999  0.011196  19.362214  Digestive\n",
       "1  0.080946  1.476758  0.001012  0.005894  11.852589  Digestive\n",
       "2  0.087408  1.477141  0.000984  0.009249  24.793669  Digestive\n",
       "3  0.070793  1.502001  0.001002  0.003774  16.292780     Hobnob\n",
       "4  0.058917  1.548274  0.001004  0.002291  13.662271     Hobnob"
      ]
     },
     "execution_count": 10,
     "metadata": {},
     "output_type": "execute_result"
    }
   ],
   "source": [
    "# load in dunking-data, and show dataframe\n",
    "\n",
    "big_data = pd.read_csv(\"dunking-data.csv\")\n",
    "print(f\"shape: {big_data.shape}\")\n",
    "big_data.head()"
   ]
  },
  {
   "cell_type": "code",
   "execution_count": 11,
   "metadata": {},
   "outputs": [
    {
     "data": {
      "text/plain": [
       "array(['Digestive', 'Hobnob', 'Rich Tea'], dtype=object)"
      ]
     },
     "execution_count": 11,
     "metadata": {},
     "output_type": "execute_result"
    }
   ],
   "source": [
    "# get names of all types of biscuits\n",
    "\n",
    "biscuits = np.unique(big_data[\"biscuit\"])\n",
    "biscuits"
   ]
  },
  {
   "cell_type": "code",
   "execution_count": 12,
   "metadata": {},
   "outputs": [
    {
     "name": "stdout",
     "output_type": "stream",
     "text": [
      "added encoded biscuit column\n"
     ]
    },
    {
     "data": {
      "text/plain": [
       "0       0\n",
       "1       0\n",
       "2       0\n",
       "3       1\n",
       "4       1\n",
       "       ..\n",
       "2995    0\n",
       "2996    1\n",
       "2997    1\n",
       "2998    0\n",
       "2999    2\n",
       "Name: encoded biscuit, Length: 3000, dtype: int64"
      ]
     },
     "execution_count": 12,
     "metadata": {},
     "output_type": "execute_result"
    }
   ],
   "source": [
    "# encode names to integers\n",
    "\n",
    "encode_biscuit_type(big_data, biscuits)\n",
    "big_data['encoded biscuit']"
   ]
  },
  {
   "cell_type": "markdown",
   "metadata": {},
   "source": [
    "# Classification of biscuit type \n",
    "\n",
    "In this section, a ML classifier is trained and tested on the dunking-data.csv. It aims to be able to classify biscuit type from the provided data (phi,eta,L,t).\n",
    "\n",
    "GridSearchCV is used to determine the best hyperparameters for two models - random forest classifier, and support vector classification (SVC), and then use the better performing model throughout the rest of the script.\n",
    "\n"
   ]
  },
  {
   "cell_type": "code",
   "execution_count": null,
   "metadata": {},
   "outputs": [],
   "source": [
    "train, test = train_test_split(big_data, test_size=0.4, random_state=10)\n",
    "\n",
    "# scale data\n",
    "scaler = StandardScaler()\n",
    "scaled_training_features = scaler.fit_transform(train.drop(['biscuit', 'encoded biscuit'], axis=1))\n",
    "scaled_test_features = scaler.fit_transform(test.drop(['biscuit', 'encoded biscuit'], axis=1))\n",
    "\n",
    "training_results = train['encoded biscuit']\n",
    "true_test_vals = test['encoded biscuit']"
   ]
  },
  {
   "cell_type": "code",
   "execution_count": 14,
   "metadata": {},
   "outputs": [],
   "source": [
    "# use GridSearchCV\n",
    "rfc_param_grid = [\n",
    "    {'n_estimators': [1000]},   # this value were determined as optimal using GridSearchCV - more trees worked better than fewer trees.\n",
    "  {'max_features': [ None]}     # they have been narrowed down in order to run faster. \n",
    " ]\n",
    "\n",
    "svc_param_grid = [\n",
    "  {'C': [5000, 1000, 100, 10, 5],  \n",
    "  'gamma': [0.001, 0.01, 0.1, 8, 'scale', 'auto'], \n",
    "  'kernel': ['rbf']} \n",
    " ]"
   ]
  },
  {
   "cell_type": "code",
   "execution_count": 15,
   "metadata": {},
   "outputs": [
    {
     "name": "stdout",
     "output_type": "stream",
     "text": [
      "Random Forest\n"
     ]
    },
    {
     "name": "stdout",
     "output_type": "stream",
     "text": [
      "Random Forest BEST ESTIMATOR: RandomForestClassifier(max_features=None)\n",
      "Estimator Top F1-Score: 0.806\n",
      "Updating best model\n",
      "True F1-Score: 0.842\n",
      "SVM\n",
      "SVM BEST ESTIMATOR: SVC(C=5000, gamma=0.01)\n",
      "Estimator Top F1-Score: 0.918\n",
      "Updating best model\n",
      "True F1-Score: 0.913\n"
     ]
    }
   ],
   "source": [
    "# Determine best model to use\n",
    "\n",
    "methods = {'Random Forest': [RandomForestClassifier(), rfc_param_grid], 'SVM': [SVC(), svc_param_grid] }\n",
    "\n",
    "current_f1 = 0\n",
    "for i, method in methods.items():\n",
    "    print(i)\n",
    "    \n",
    "    # Do gridsearchcv, and determine best estimator for each method\n",
    "    gscv = GridSearchCV(method[0], method[1], scoring=\"f1_weighted\")\n",
    "    gscv.fit(scaled_training_features, training_results)\n",
    "    print(f\"{i} BEST ESTIMATOR: {gscv.best_estimator_}\")\n",
    "    print(f'Estimator Top F1-Score: {gscv.best_score_:.3f}')\n",
    "    \n",
    "    # Only update model if the new model is better\n",
    "    if gscv.best_score_ > current_f1:\n",
    "        print(\"Updating best model\")\n",
    "        \n",
    "        best_estimator = gscv.best_estimator_\n",
    "        predicted_test_vals = best_estimator.predict(scaled_test_features)\n",
    "        \n",
    "        f1score = f1_score(true_test_vals, predicted_test_vals, average='weighted')\n",
    "        \n",
    "        print(f'True F1-Score: {f1score:.3f}')"
   ]
  },
  {
   "cell_type": "markdown",
   "metadata": {},
   "source": [
    "It can be seen here that the SVC model consistently produces a much greater f1-score than the random forest model. The SVC model will be used throughout the rest of this analysis.  "
   ]
  },
  {
   "cell_type": "code",
   "execution_count": 16,
   "metadata": {},
   "outputs": [
    {
     "name": "stdout",
     "output_type": "stream",
     "text": [
      "Number of true Digestive values: 413\n",
      "Number of predicted Digestive values: 409\n",
      "Number of true Hobnob values: 389\n",
      "Number of predicted Hobnob values: 388\n",
      "Number of true Rich Tea values: 398\n",
      "Number of predicted Rich Tea values: 403\n"
     ]
    }
   ],
   "source": [
    "# compare raw number of predicted biscuit types and true biscuit types\n",
    "\n",
    "max_num_predictions = 0\n",
    "for i, biscuit in enumerate(biscuits):\n",
    "    num_true_test_vals = len(true_test_vals[true_test_vals == i])\n",
    "    num_pred_test_vals = len(predicted_test_vals[predicted_test_vals == i])\n",
    "    \n",
    "    print( f\"Number of true {biscuit} values: {num_true_test_vals}\")\n",
    "    print( f\"Number of predicted {biscuit} values: {num_pred_test_vals}\")\n",
    "    \n",
    "    max_num_predictions = max(max_num_predictions, num_pred_test_vals)"
   ]
  },
  {
   "cell_type": "code",
   "execution_count": 17,
   "metadata": {},
   "outputs": [
    {
     "data": {
      "image/png": "[encoded data removed]",
      "text/plain": [
       "<Figure size 640x480 with 1 Axes>"
      ]
     },
     "metadata": {},
     "output_type": "display_data"
    }
   ],
   "source": [
    "# plot bar chart\n",
    "\n",
    "fig,ax = plt.subplots()\n",
    "\n",
    "for i, biscuit in enumerate(biscuits):\n",
    "    # Get values where this biscuit was predicted\n",
    "    biscuit_prediction = np.where(predicted_test_vals==i, True, False)\n",
    "\n",
    "    # Filter test values to just these biscuit predictions\n",
    "    biscuit_test = true_test_vals[biscuit_prediction]\n",
    "    \n",
    "    # Number of correct predictions\n",
    "    correct_predictions = len( biscuit_test[biscuit_test==i] )\n",
    "    \n",
    "    ax.bar(biscuit, correct_predictions, color=f\"C{i}\", label=biscuit)\n",
    "    \n",
    "    base = correct_predictions\n",
    "    for j in range(len(biscuits)):\n",
    "        if j != i:\n",
    "            # NUmber of incorrect predictions, recording which biscuit was predicted instead\n",
    "            incorrect_predictions = len( biscuit_test[biscuit_test==j] )\n",
    "            ax.bar(biscuit, incorrect_predictions, bottom=base, color=f\"C{j}\")\n",
    "            base += incorrect_predictions\n",
    "            \n",
    "ax.set_ylabel(\"Number of predictions\")\n",
    "ax.set_ylim(0, max_num_predictions+5)\n",
    "ax.legend(loc=\"lower right\");"
   ]
  },
  {
   "cell_type": "code",
   "execution_count": 18,
   "metadata": {},
   "outputs": [
    {
     "name": "stdout",
     "output_type": "stream",
     "text": [
      "Precision: 0.913\n",
      "Recall: 0.913\n",
      "F1-Score: 0.913\n"
     ]
    }
   ],
   "source": [
    "# metrics\n",
    "\n",
    "precision = precision_score(true_test_vals, predicted_test_vals, average='weighted')\n",
    "print(f'Precision: {precision:.3f}')\n",
    "\n",
    "recall = recall_score(true_test_vals, predicted_test_vals, average='weighted')\n",
    "print(f'Recall: {recall:.3f}')\n",
    "\n",
    "f1score = f1_score(true_test_vals, predicted_test_vals, average='weighted')\n",
    "print(f'F1-Score: {f1score:.3f}')"
   ]
  },
  {
   "cell_type": "markdown",
   "metadata": {},
   "source": [
    "### Microscopy Measurements"
   ]
  },
  {
   "cell_type": "markdown",
   "metadata": {},
   "source": [
    "The next provided dataset was generated by taking a subset, one-sixth, of the dunking-data.csv dataset used in the analysis above. However, the biscuit type label has been dropped, and instead it includes the pore radius of the biscuits. This was measured using microscopy. \n",
    "\n",
    "Therefore, the columns of this dataset are:\n",
    "1. gamma: tea surface tension, in N m−1.\n",
    "2. phi: angle between the biscuit and the tea surface, in rad.\n",
    "3. eta: tea dynamic viscosity, in Pa s\n",
    "4. L: distance up the biscuit that the tea was absorbed, in m.\n",
    "5. t: time biscuit was dunked for before measurement done, in s.\n",
    "6. r: the radius of the biscuit pores, in m\n"
   ]
  },
  {
   "cell_type": "code",
   "execution_count": 19,
   "metadata": {},
   "outputs": [
    {
     "data": {
      "application/vnd.microsoft.datawrangler.viewer.v0+json": {
       "columns": [
        {
         "name": "index",
         "rawType": "int64",
         "type": "integer"
        },
        {
         "name": "gamma",
         "rawType": "float64",
         "type": "float"
        },
        {
         "name": "phi",
         "rawType": "float64",
         "type": "float"
        },
        {
         "name": "eta",
         "rawType": "float64",
         "type": "float"
        },
        {
         "name": "L",
         "rawType": "float64",
         "type": "float"
        },
        {
         "name": "t",
         "rawType": "float64",
         "type": "float"
        },
        {
         "name": "r",
         "rawType": "float64",
         "type": "float"
        }
       ],
       "conversionMethod": "pd.DataFrame",
       "ref": "7bb1c15f-543b-4638-8fbb-332a5ca304d8",
       "rows": [
        [
         "0",
         "0.0845956324584587",
         "1.557367032478192",
         "0.0009814830091385",
         "0.0032205495542128",
         "24.2311065424372",
         "7.453712135492654e-07"
        ],
        [
         "1",
         "0.0642912318275465",
         "1.5388422115607554",
         "0.0009975033413744",
         "0.0023950588951781",
         "22.169764818033904",
         "2.600679920403219e-07"
        ],
        [
         "2",
         "0.0862235631288667",
         "1.5461380388178143",
         "0.0010076172459006",
         "0.0030364515927952",
         "23.25770905910201",
         "3.73461769779581e-07"
        ],
        [
         "3",
         "0.0828590710652354",
         "1.5668780336011534",
         "0.0009974565756668",
         "0.0012606889246228",
         "12.717431992562547",
         "7.567172656627005e-07"
        ],
        [
         "4",
         "0.0908324449331105",
         "1.570229053820606",
         "0.0010017078574895",
         "0.0005760748801939",
         "15.189146468953714",
         "8.23906656220311e-07"
        ]
       ],
       "shape": {
        "columns": 6,
        "rows": 5
       }
      },
      "text/html": [
       "<div>\n",
       "<style scoped>\n",
       "    .dataframe tbody tr th:only-of-type {\n",
       "        vertical-align: middle;\n",
       "    }\n",
       "\n",
       "    .dataframe tbody tr th {\n",
       "        vertical-align: top;\n",
       "    }\n",
       "\n",
       "    .dataframe thead th {\n",
       "        text-align: right;\n",
       "    }\n",
       "</style>\n",
       "<table border=\"1\" class=\"dataframe\">\n",
       "  <thead>\n",
       "    <tr style=\"text-align: right;\">\n",
       "      <th></th>\n",
       "      <th>gamma</th>\n",
       "      <th>phi</th>\n",
       "      <th>eta</th>\n",
       "      <th>L</th>\n",
       "      <th>t</th>\n",
       "      <th>r</th>\n",
       "    </tr>\n",
       "  </thead>\n",
       "  <tbody>\n",
       "    <tr>\n",
       "      <th>0</th>\n",
       "      <td>0.084596</td>\n",
       "      <td>1.557367</td>\n",
       "      <td>0.000981</td>\n",
       "      <td>0.003221</td>\n",
       "      <td>24.231107</td>\n",
       "      <td>7.453712e-07</td>\n",
       "    </tr>\n",
       "    <tr>\n",
       "      <th>1</th>\n",
       "      <td>0.064291</td>\n",
       "      <td>1.538842</td>\n",
       "      <td>0.000998</td>\n",
       "      <td>0.002395</td>\n",
       "      <td>22.169765</td>\n",
       "      <td>2.600680e-07</td>\n",
       "    </tr>\n",
       "    <tr>\n",
       "      <th>2</th>\n",
       "      <td>0.086224</td>\n",
       "      <td>1.546138</td>\n",
       "      <td>0.001008</td>\n",
       "      <td>0.003036</td>\n",
       "      <td>23.257709</td>\n",
       "      <td>3.734618e-07</td>\n",
       "    </tr>\n",
       "    <tr>\n",
       "      <th>3</th>\n",
       "      <td>0.082859</td>\n",
       "      <td>1.566878</td>\n",
       "      <td>0.000997</td>\n",
       "      <td>0.001261</td>\n",
       "      <td>12.717432</td>\n",
       "      <td>7.567173e-07</td>\n",
       "    </tr>\n",
       "    <tr>\n",
       "      <th>4</th>\n",
       "      <td>0.090832</td>\n",
       "      <td>1.570229</td>\n",
       "      <td>0.001002</td>\n",
       "      <td>0.000576</td>\n",
       "      <td>15.189146</td>\n",
       "      <td>8.239067e-07</td>\n",
       "    </tr>\n",
       "  </tbody>\n",
       "</table>\n",
       "</div>"
      ],
      "text/plain": [
       "      gamma       phi       eta         L          t             r\n",
       "0  0.084596  1.557367  0.000981  0.003221  24.231107  7.453712e-07\n",
       "1  0.064291  1.538842  0.000998  0.002395  22.169765  2.600680e-07\n",
       "2  0.086224  1.546138  0.001008  0.003036  23.257709  3.734618e-07\n",
       "3  0.082859  1.566878  0.000997  0.001261  12.717432  7.567173e-07\n",
       "4  0.090832  1.570229  0.001002  0.000576  15.189146  8.239067e-07"
      ]
     },
     "execution_count": 19,
     "metadata": {},
     "output_type": "execute_result"
    }
   ],
   "source": [
    "# Show dataset\n",
    "\n",
    "microscopy_data = pd.read_csv(\"microscopy-data.csv\")\n",
    "microscopy_data.head()"
   ]
  },
  {
   "cell_type": "code",
   "execution_count": 20,
   "metadata": {},
   "outputs": [
    {
     "name": "stdout",
     "output_type": "stream",
     "text": [
      "Index(['gamma', 'phi', 'eta', 'L', 't'], dtype='object')\n"
     ]
    },
    {
     "data": {
      "text/plain": [
       "500"
      ]
     },
     "execution_count": 20,
     "metadata": {},
     "output_type": "execute_result"
    }
   ],
   "source": [
    "# Make predictions of biscuit type for each row. \n",
    "\n",
    "# scaled test data (drop the microscopy true r values)\n",
    "micro_model_features = microscopy_data.drop(['r'], axis=1)\n",
    "print(f\"{micro_model_features.columns}\")\n",
    "scaled_micro_features = scaler.fit_transform(micro_model_features)\n",
    "\n",
    "# Make predictions for biscuit type of each row using the best model determined above\n",
    "micro_predictions = best_estimator.predict(scaled_micro_features)\n",
    "len(micro_predictions)\n"
   ]
  },
  {
   "cell_type": "code",
   "execution_count": 21,
   "metadata": {},
   "outputs": [
    {
     "data": {
      "application/vnd.microsoft.datawrangler.viewer.v0+json": {
       "columns": [
        {
         "name": "index",
         "rawType": "int64",
         "type": "integer"
        },
        {
         "name": "encoded biscuit",
         "rawType": "int64",
         "type": "integer"
        },
        {
         "name": "r",
         "rawType": "float64",
         "type": "float"
        }
       ],
       "conversionMethod": "pd.DataFrame",
       "ref": "fa32a0ee-64b5-45d2-899f-56be31c6cb6c",
       "rows": [
        [
         "0",
         "0",
         "7.797960613605848e-07"
        ],
        [
         "1",
         "0",
         "8.189772254008458e-07"
        ],
        [
         "2",
         "1",
         "3.63943376341258e-07"
        ],
        [
         "3",
         "2",
         "3.198696672621654e-07"
        ],
        [
         "4",
         "2",
         "2.9734475448185e-07"
        ],
        [
         "5",
         "1",
         "5.518377305382778e-07"
        ],
        [
         "6",
         "2",
         "3.141562690439023e-07"
        ],
        [
         "7",
         "1",
         "4.936484654062183e-07"
        ],
        [
         "8",
         "0",
         "7.930241372930378e-07"
        ],
        [
         "9",
         "2",
         "2.99681623218618e-07"
        ],
        [
         "10",
         "1",
         "4.667185166647237e-07"
        ],
        [
         "11",
         "1",
         "4.521101059526911e-07"
        ],
        [
         "12",
         "0",
         "7.69313686272661e-07"
        ],
        [
         "13",
         "2",
         "3.731184514524907e-07"
        ],
        [
         "14",
         "0",
         "8.343526051606491e-07"
        ],
        [
         "15",
         "0",
         "8.550193423305071e-07"
        ],
        [
         "16",
         "0",
         "8.02542384457958e-07"
        ],
        [
         "17",
         "2",
         "3.5088692447635936e-07"
        ],
        [
         "18",
         "1",
         "4.204342013425531e-07"
        ],
        [
         "19",
         "1",
         "5.97757132143619e-07"
        ],
        [
         "20",
         "0",
         "7.286919285253125e-07"
        ],
        [
         "21",
         "2",
         "3.09334627465361e-07"
        ],
        [
         "22",
         "2",
         "2.3169157082884875e-07"
        ],
        [
         "23",
         "1",
         "4.759836346044865e-07"
        ],
        [
         "24",
         "0",
         "7.698580594303742e-07"
        ],
        [
         "25",
         "0",
         "7.308079329062444e-07"
        ],
        [
         "26",
         "1",
         "4.700559410153252e-07"
        ],
        [
         "27",
         "2",
         "3.60241589299291e-07"
        ],
        [
         "28",
         "2",
         "3.462955527494354e-07"
        ],
        [
         "29",
         "1",
         "6.029231624768917e-07"
        ],
        [
         "30",
         "2",
         "4.297786970529531e-07"
        ],
        [
         "31",
         "1",
         "6.103278944678709e-07"
        ],
        [
         "32",
         "2",
         "3.635748223667312e-07"
        ],
        [
         "33",
         "2",
         "3.742770594980285e-07"
        ],
        [
         "34",
         "1",
         "4.59687862703427e-07"
        ],
        [
         "35",
         "0",
         "7.821553748287343e-07"
        ],
        [
         "36",
         "2",
         "3.22882162034498e-07"
        ],
        [
         "37",
         "2",
         "2.911893457466177e-07"
        ],
        [
         "38",
         "1",
         "4.723671296548504e-07"
        ],
        [
         "39",
         "2",
         "2.811799967265042e-07"
        ],
        [
         "40",
         "1",
         "4.293578195811919e-07"
        ],
        [
         "41",
         "2",
         "2.8533709005432405e-07"
        ],
        [
         "42",
         "2",
         "2.218400462356027e-07"
        ],
        [
         "43",
         "2",
         "2.955675666473473e-07"
        ],
        [
         "44",
         "0",
         "8.06503928744846e-07"
        ],
        [
         "45",
         "2",
         "2.58342296531601e-07"
        ],
        [
         "46",
         "2",
         "3.4451272329841165e-07"
        ],
        [
         "47",
         "0",
         "8.326721381127279e-07"
        ],
        [
         "48",
         "1",
         "5.713150877640167e-07"
        ],
        [
         "49",
         "1",
         "5.894819299286022e-07"
        ]
       ],
       "shape": {
        "columns": 2,
        "rows": 500
       }
      },
      "text/html": [
       "<div>\n",
       "<style scoped>\n",
       "    .dataframe tbody tr th:only-of-type {\n",
       "        vertical-align: middle;\n",
       "    }\n",
       "\n",
       "    .dataframe tbody tr th {\n",
       "        vertical-align: top;\n",
       "    }\n",
       "\n",
       "    .dataframe thead th {\n",
       "        text-align: right;\n",
       "    }\n",
       "</style>\n",
       "<table border=\"1\" class=\"dataframe\">\n",
       "  <thead>\n",
       "    <tr style=\"text-align: right;\">\n",
       "      <th></th>\n",
       "      <th>encoded biscuit</th>\n",
       "      <th>r</th>\n",
       "    </tr>\n",
       "  </thead>\n",
       "  <tbody>\n",
       "    <tr>\n",
       "      <th>0</th>\n",
       "      <td>0</td>\n",
       "      <td>7.797961e-07</td>\n",
       "    </tr>\n",
       "    <tr>\n",
       "      <th>1</th>\n",
       "      <td>0</td>\n",
       "      <td>8.189772e-07</td>\n",
       "    </tr>\n",
       "    <tr>\n",
       "      <th>2</th>\n",
       "      <td>1</td>\n",
       "      <td>3.639434e-07</td>\n",
       "    </tr>\n",
       "    <tr>\n",
       "      <th>3</th>\n",
       "      <td>2</td>\n",
       "      <td>3.198697e-07</td>\n",
       "    </tr>\n",
       "    <tr>\n",
       "      <th>4</th>\n",
       "      <td>2</td>\n",
       "      <td>2.973448e-07</td>\n",
       "    </tr>\n",
       "    <tr>\n",
       "      <th>...</th>\n",
       "      <td>...</td>\n",
       "      <td>...</td>\n",
       "    </tr>\n",
       "    <tr>\n",
       "      <th>495</th>\n",
       "      <td>1</td>\n",
       "      <td>4.176549e-07</td>\n",
       "    </tr>\n",
       "    <tr>\n",
       "      <th>496</th>\n",
       "      <td>2</td>\n",
       "      <td>3.187500e-07</td>\n",
       "    </tr>\n",
       "    <tr>\n",
       "      <th>497</th>\n",
       "      <td>2</td>\n",
       "      <td>3.194081e-07</td>\n",
       "    </tr>\n",
       "    <tr>\n",
       "      <th>498</th>\n",
       "      <td>0</td>\n",
       "      <td>7.453712e-07</td>\n",
       "    </tr>\n",
       "    <tr>\n",
       "      <th>499</th>\n",
       "      <td>0</td>\n",
       "      <td>7.004029e-07</td>\n",
       "    </tr>\n",
       "  </tbody>\n",
       "</table>\n",
       "<p>500 rows × 2 columns</p>\n",
       "</div>"
      ],
      "text/plain": [
       "     encoded biscuit             r\n",
       "0                  0  7.797961e-07\n",
       "1                  0  8.189772e-07\n",
       "2                  1  3.639434e-07\n",
       "3                  2  3.198697e-07\n",
       "4                  2  2.973448e-07\n",
       "..               ...           ...\n",
       "495                1  4.176549e-07\n",
       "496                2  3.187500e-07\n",
       "497                2  3.194081e-07\n",
       "498                0  7.453712e-07\n",
       "499                0  7.004029e-07\n",
       "\n",
       "[500 rows x 2 columns]"
      ]
     },
     "execution_count": 21,
     "metadata": {},
     "output_type": "execute_result"
    }
   ],
   "source": [
    "# Determine true distribution (combine the two datasets, and compare biscuit type and measured radius)\n",
    "\n",
    "training_merged = big_data.merge(microscopy_data, how='inner')\n",
    "true_distributions = training_merged[['encoded biscuit', 'r']].copy()\n",
    "true_distributions"
   ]
  },
  {
   "cell_type": "code",
   "execution_count": 22,
   "metadata": {},
   "outputs": [
    {
     "name": "stdout",
     "output_type": "stream",
     "text": [
      "Digestive\n",
      "predicted mean: 8.05e-07\n",
      "true mean: 8.03e-07\n",
      "predicted std: 5.83e-08\n",
      "true std: 5.8e-08\n",
      "\n",
      "Hobnob\n",
      "predicted mean: 5.19e-07\n",
      "true mean: 4.96e-07\n",
      "predicted std: 9.14e-08\n",
      "true std: 8e-08\n",
      "\n",
      "Rich Tea\n",
      "predicted mean: 3.19e-07\n",
      "true mean: 3.04e-07\n",
      "predicted std: 8.14e-08\n",
      "true std: 4.7e-08\n",
      "\n"
     ]
    },
    {
     "data": {
      "image/png": "[encoded data removed]",
      "text/plain": [
       "<Figure size 1200x500 with 2 Axes>"
      ]
     },
     "metadata": {},
     "output_type": "display_data"
    }
   ],
   "source": [
    "# compare distributions using the predicted and true values for biscuit type\n",
    "# plot radii distribution of each biscuit as histograms\n",
    "\n",
    "fig, ax = plt.subplots(1,2,figsize=(12,5))\n",
    "\n",
    "biscuit_summaries = {}\n",
    "\n",
    "xmin = np.min(true_distributions[\"r\"])\n",
    "xmax = np.max(true_distributions[\"r\"])\n",
    "\n",
    "for i, biscuit in enumerate(biscuits):\n",
    "    print(f\"{biscuit}\")\n",
    "    \n",
    "    # get rows where encoded biscuit was predicted as i\n",
    "    map = np.where(micro_predictions==i, True, False)\n",
    "    \n",
    "    # get r values for these rows\n",
    "    biscuit_r_data = microscopy_data[\"r\"][map]\n",
    "    \n",
    "    # get true r values for these biscuits (using merged dataset)\n",
    "    true_biscuit_r_data = true_distributions[\"r\"][true_distributions['encoded biscuit']==i]\n",
    "    \n",
    "    # plot as 2 histograms\n",
    "    ax[0].hist(biscuit_r_data, bins=70, alpha=0.7, density=True, label=biscuit)\n",
    "    ax[1].hist(true_biscuit_r_data, bins=70, alpha=0.7, density=True, label=biscuit)\n",
    "    \n",
    "    # get mean and std of each distribution\n",
    "    mean, std = norm.fit(biscuit_r_data)\n",
    "    true_mean, true_std = norm.fit(true_biscuit_r_data)\n",
    "    \n",
    "    \n",
    "    x = np.linspace(0.9*xmin, 1.1*xmax, 100)\n",
    "    p = (norm.pdf(x, mean, std))\n",
    "    p_true = (norm.pdf(x, true_mean, true_std))\n",
    "    \n",
    "    ax[0].plot(x,p, color=f\"C{i}\")\n",
    "    ax[1].plot(x,p_true, color=f\"C{i}\")\n",
    "    \n",
    "    # add mean and std to biscuit dictionary\n",
    "    biscuit_summaries[biscuit] = {'mean': mean, 'std': std}\n",
    "    \n",
    "    # Print comparison between predicted and true distributions\n",
    "    print(f\"predicted mean: {mean:.3}\")\n",
    "    print(f\"true mean: {true_mean:.3}\")\n",
    "    print(f\"predicted std: {std:.3}\")\n",
    "    print(f\"true std: {true_std:.3}\\n\")\n",
    "    \n",
    "ax[0].set_xlabel(\"Pore radius size / m\")\n",
    "ax[0].set_ylabel(\"Probability Density\")\n",
    "ax[0].legend()\n",
    "ax[0].set_title(\"Predicted Pore Radii Distributions\")\n",
    "ax[1].set_xlabel(\"Pore radius size / m\")\n",
    "ax[1].set_ylabel(\"Probability Density\")\n",
    "ax[1].legend()\n",
    "ax[1].set_title(\"Known Pore Radii Distributions\");"
   ]
  },
  {
   "cell_type": "markdown",
   "metadata": {},
   "source": [
    "This figure shows that the model to classify biscuits is effective, and produces highly accurate distributions. The biggest discrepancy is the increased value of the standard deviation for Rich Tea biscuits. However, this discrepancy is minimal.\n",
    "\n",
    "The distributions of the models show that Digestives have the largest pore radius, then Hobnobs, and Rich Tea biscuits have the smallest radii. \n",
    "\n"
   ]
  },
  {
   "cell_type": "markdown",
   "metadata": {},
   "source": [
    "### Time-resolved measurements\n",
    "Another dataset has been provided, which investigates the capillary flow rate of the tea in the\n",
    "biscuits. This involved taking a blind sample of each of the biscuits and measuring the length\n",
    "that the tea soaked up the biscuit in a time range from 30 s to 300 s.\n",
    "\n",
    "• the tea surface tension (gamma) was measured at 6.78 × 10−2 N m−1.\n",
    "\n",
    "• the contact angle (phi) was 1.45 rad.\n",
    "\n",
    "• the tea dynamic viscosity (eta) was 9.93 × 10−4 Pa s.\n",
    "\n",
    "The biscuit used for each measurement is unknown, and the data files are titled tr-1.csv, tr-2.csv, and tr-3.csv. Each data file contains the same information, three columns of experimental data:\n",
    "\n",
    "1. t: the time elapsed in the measurement, in s, the dependent variable.\n",
    "2. L: the length the tea has soaked up the biscuit, the independent variable, in m.\n",
    "3. dL: an estimate of the uncertainty in length, also in m."
   ]
  },
  {
   "cell_type": "code",
   "execution_count": 23,
   "metadata": {},
   "outputs": [
    {
     "data": {
      "text/plain": [
       "<matplotlib.legend.Legend at 0x7f21cf229d50>"
      ]
     },
     "execution_count": 23,
     "metadata": {},
     "output_type": "execute_result"
    },
    {
     "data": {
      "image/png": "[encoded data removed]",
      "text/plain": [
       "<Figure size 640x480 with 1 Axes>"
      ]
     },
     "metadata": {},
     "output_type": "display_data"
    }
   ],
   "source": [
    "# show data plots\n",
    "\n",
    "fig, ax = plt.subplots()\n",
    "\n",
    "for i in range(1,4):\n",
    "    data = pd.read_csv(f\"tr-{i}.csv\")\n",
    "    x = data[\"t\"]\n",
    "    y = data[\"L\"]\n",
    "    dy = data[\"dL\"]\n",
    "    \n",
    "    ax.errorbar(x,y,dy,label=f\"tr-{i}\")\n",
    "    \n",
    "ax.set_xlabel(\"t / s\")\n",
    "ax.set_ylabel(\"L / m\")\n",
    "ax.legend()"
   ]
  },
  {
   "cell_type": "code",
   "execution_count": 24,
   "metadata": {},
   "outputs": [
    {
     "data": {
      "text/plain": [
       "{'mean': 8.05013801859703e-07,\n",
       " 'std': 5.831595535259906e-08,\n",
       " 'tr_vals':              t         L        dL\n",
       " 0    30.000000  0.011187  0.000371\n",
       " 1    32.727273  0.011566  0.000609\n",
       " 2    35.454545  0.011942  0.000809\n",
       " 3    38.181818  0.012502  0.000614\n",
       " 4    40.909091  0.013343  0.000480\n",
       " ..         ...       ...       ...\n",
       " 95  289.090909  0.034766  0.000118\n",
       " 96  291.818182  0.034769  0.000341\n",
       " 97  294.545455  0.034655  0.000155\n",
       " 98  297.272727  0.034646  0.000481\n",
       " 99  300.000000  0.035373  0.000235\n",
       " \n",
       " [100 rows x 3 columns]}"
      ]
     },
     "execution_count": 24,
     "metadata": {},
     "output_type": "execute_result"
    }
   ],
   "source": [
    "# assign time-resolved data to respective biscuit, in order from largest pore radius (Digestive) to smallest pore radius (Rich Tea)\n",
    "\n",
    "tr_biscuits = [3,1,2]\n",
    "for i, tr_val in enumerate(tr_biscuits):\n",
    "    biscuit_summaries[biscuits[i]]['tr_vals'] = pd.read_csv(f\"tr-{tr_val}.csv\")\n",
    "    \n",
    "# show example of biscuit summary dictionary for one biscuit\n",
    "biscuit_summaries['Digestive']"
   ]
  },
  {
   "cell_type": "markdown",
   "metadata": {},
   "source": [
    "Here, we test the effectiveness of the Washburn model. Each dataset has now been assigned to a biscuit. The pore radius of each biscuit used was not measured, so the average pore radius of each biscuit type (determined above) is used in each of the following models. "
   ]
  },
  {
   "cell_type": "code",
   "execution_count": 25,
   "metadata": {},
   "outputs": [
    {
     "data": {
      "image/png": "[encoded data removed]",
      "text/plain": [
       "<Figure size 1000x500 with 1 Axes>"
      ]
     },
     "metadata": {},
     "output_type": "display_data"
    }
   ],
   "source": [
    "# washburn model fittings using average pore radii for each biscuit\n",
    "\n",
    "fig, ax = plt.subplots(figsize=(10,5))\n",
    "\n",
    "# Values measured for this specific experiment\n",
    "gamma = 6.78e-2\n",
    "phi = 1.45\n",
    "eta = 9.93e-4\n",
    "\n",
    "for i, biscuit in enumerate(biscuits):\n",
    "    data = biscuit_summaries[biscuit]['tr_vals']\n",
    "    t = data[\"t\"]\n",
    "    L = data[\"L\"]\n",
    "    dL = data[\"dL\"]\n",
    "    \n",
    "    r = biscuit_summaries[biscuit]['mean']\n",
    "    \n",
    "    washburn_L_preds = washburn(gamma, phi, eta, r, t)\n",
    "    ax.errorbar(t,L,dL,label=f\"{biscuit} True data\", alpha=0.7, color=f\"C{i}\")\n",
    "    \n",
    "    ax.plot(t, washburn_L_preds, marker='+', linestyle=\"\", color=f\"C{i}\", zorder=3, label=f'{biscuit} Washburn relationship') \n",
    "    \n",
    "ax.set_xlabel(\"Time / s\")\n",
    "ax.set_ylabel(\"Length of Tea Up Biscuit / m\")\n",
    "ax.legend()\n",
    "plt.show()"
   ]
  },
  {
   "cell_type": "markdown",
   "metadata": {},
   "source": [
    "This figure shows the Washburn relationship is likely an inaccurate model, as it does not seem to fit the Digestive or Rich Tea data effectively. However, there is a possibility the Digestive and Rich Tea biscuits used in these measurements had abnormally large/small pore sizes respectively. The following analysis determines the radii of the biscuits required for the Washburn model to accurately fit the real data. This will then be compared to the pore radius biscuit_summaries, to determine the likelihood these pore radii are accurate, or if the model is inaccurate. "
   ]
  },
  {
   "cell_type": "code",
   "execution_count": null,
   "metadata": {},
   "outputs": [
    {
     "name": "stderr",
     "output_type": "stream",
     "text": [
      "Initializing NUTS using jitter+adapt_diag...\n",
      "Multiprocess sampling (10 chains in 4 jobs)\n",
      "NUTS: [r]\n"
     ]
    },
    {
     "data": {
      "application/vnd.jupyter.widget-view+json": {
       "model_id": "1aaff26704634550857a34fec81a628d",
       "version_major": 2,
       "version_minor": 0
      },
      "text/plain": [
       "Output()"
      ]
     },
     "metadata": {},
     "output_type": "display_data"
    }
   ],
   "source": [
    "# find r for washburn to fit. \n",
    "\n",
    "for biscuit in biscuits:\n",
    "    data = biscuit_summaries[biscuit]['tr_vals']\n",
    "    \n",
    "    pymc_r = run_pymc(data)\n",
    "    \n",
    "    print(f\"Predicted pore radius: {pymc_r}\")\n",
    "    \n",
    "    # add to summary dictionary\n",
    "    biscuit_summaries[biscuit]['pymc_r'] = pymc_r\n"
   ]
  },
  {
   "cell_type": "markdown",
   "metadata": {},
   "source": [
    "The required radius for the digestive comes out at over 1.0e-6, which is significantly greater than the mean. The following analysis determines the likelihood of each biscuit having the radius required for the Washburn model to fit effectively, using the particle size distributions determined further up. "
   ]
  },
  {
   "cell_type": "code",
   "execution_count": null,
   "metadata": {},
   "outputs": [
    {
     "name": "stdout",
     "output_type": "stream",
     "text": [
      "Digestive\n",
      "Probability of this value or a more extreme value occuring: 0.06 %\n",
      "Number of stds from mean: 3.42\n",
      "\n",
      "Hobnob\n",
      "Probability of this value or a more extreme value occuring: 95.82 %\n",
      "Number of stds from mean: 0.0524\n",
      "\n",
      "Rich Tea\n",
      "Probability of this value or a more extreme value occuring: 60.22 %\n",
      "Number of stds from mean: 0.521\n",
      "\n"
     ]
    }
   ],
   "source": [
    "for biscuit in biscuits:\n",
    "    print(biscuit)\n",
    "    \n",
    "    biscuit_dict = biscuit_summaries[biscuit]\n",
    "    \n",
    "    mean = biscuit_dict['mean']\n",
    "    std = biscuit_dict['std'] \n",
    "    pymc_r = biscuit_dict['pymc_r']\n",
    "    \n",
    "    \n",
    "    # Calculate probability of this radius occuring\n",
    "    percentage_prob = calc_prob_in_distribution(mean, std, pymc_r)\n",
    "    print(f\"Probability of this value or a more extreme value occuring: {percentage_prob:.2f} %\")\n",
    "    \n",
    "    # Calculate number of standard devisations of value from mean\n",
    "    num_stds = calc_num_stds(mean, std, pymc_r)\n",
    "    print(f\"Number of stds from mean: {num_stds:.3}\\n\")\n",
    "    \n",
    "    biscuit_summaries[biscuit]['value_prob'] = percentage_prob\n",
    "    biscuit_summaries[biscuit]['num_stds'] = num_stds\n"
   ]
  },
  {
   "cell_type": "code",
   "execution_count": null,
   "metadata": {},
   "outputs": [
    {
     "name": "stdout",
     "output_type": "stream",
     "text": [
      "['Mean', 'Std', 'Required value', 'Probability of required value occuring', 'Number of stds value is from mean']\n"
     ]
    }
   ],
   "source": [
    "# put data into csv file to be used in report\n",
    "\n",
    "table_columns = ['Mean', 'Std', 'Required value', 'Probability of required value occuring', 'Number of stds value is from mean' ]\n",
    "key_names = ['mean', 'std', 'pymc_r', 'value_prob', 'num_stds']\n",
    "print(table_columns)\n",
    "\n",
    "table1 = pd.DataFrame(columns=table_columns)\n",
    "for biscuit in biscuits:\n",
    "    for i, table_column in enumerate(table_columns):\n",
    "        table1.loc[biscuit,table_column] = biscuit_summaries[biscuit][key_names[i]]\n",
    "    \n",
    "table1.to_csv('probability_table.csv', index_label='Biscuit Type')"
   ]
  },
  {
   "cell_type": "code",
   "execution_count": null,
   "metadata": {},
   "outputs": [
    {
     "data": {
      "application/vnd.microsoft.datawrangler.viewer.v0+json": {
       "columns": [
        {
         "name": "index",
         "rawType": "object",
         "type": "string"
        },
        {
         "name": "Mean",
         "rawType": "object",
         "type": "unknown"
        },
        {
         "name": "Std",
         "rawType": "object",
         "type": "unknown"
        },
        {
         "name": "Required value",
         "rawType": "object",
         "type": "unknown"
        },
        {
         "name": "Probability of required value occuring",
         "rawType": "object",
         "type": "unknown"
        },
        {
         "name": "Number of stds value is from mean",
         "rawType": "object",
         "type": "unknown"
        }
       ],
       "conversionMethod": "pd.DataFrame",
       "ref": "217ba4a6-5c06-4872-a1f9-87d297c4556f",
       "rows": [
        [
         "Digestive",
         "8.045244948629445e-07",
         "5.8475188174784964e-08",
         "1.0047998122240102e-06",
         "0.06148846458109425",
         "3.4249623406500858"
        ],
        [
         "Hobnob",
         "5.234244083396429e-07",
         "9.162929126287402e-08",
         "5.186262785799197e-07",
         "95.82381929040203",
         "0.05236458444230426"
        ],
        [
         "Rich Tea",
         "3.1837579876847194e-07",
         "7.311614594544349e-08",
         "2.8027002639565464e-07",
         "60.22499647432776",
         "0.5211676830073947"
        ]
       ],
       "shape": {
        "columns": 5,
        "rows": 3
       }
      },
      "text/html": [
       "<div>\n",
       "<style scoped>\n",
       "    .dataframe tbody tr th:only-of-type {\n",
       "        vertical-align: middle;\n",
       "    }\n",
       "\n",
       "    .dataframe tbody tr th {\n",
       "        vertical-align: top;\n",
       "    }\n",
       "\n",
       "    .dataframe thead th {\n",
       "        text-align: right;\n",
       "    }\n",
       "</style>\n",
       "<table border=\"1\" class=\"dataframe\">\n",
       "  <thead>\n",
       "    <tr style=\"text-align: right;\">\n",
       "      <th></th>\n",
       "      <th>Mean</th>\n",
       "      <th>Std</th>\n",
       "      <th>Required value</th>\n",
       "      <th>Probability of required value occuring</th>\n",
       "      <th>Number of stds value is from mean</th>\n",
       "    </tr>\n",
       "  </thead>\n",
       "  <tbody>\n",
       "    <tr>\n",
       "      <th>Digestive</th>\n",
       "      <td>0.000001</td>\n",
       "      <td>0.0</td>\n",
       "      <td>0.000001</td>\n",
       "      <td>0.061488</td>\n",
       "      <td>3.424962</td>\n",
       "    </tr>\n",
       "    <tr>\n",
       "      <th>Hobnob</th>\n",
       "      <td>0.000001</td>\n",
       "      <td>0.0</td>\n",
       "      <td>0.000001</td>\n",
       "      <td>95.823819</td>\n",
       "      <td>0.052365</td>\n",
       "    </tr>\n",
       "    <tr>\n",
       "      <th>Rich Tea</th>\n",
       "      <td>0.0</td>\n",
       "      <td>0.0</td>\n",
       "      <td>0.0</td>\n",
       "      <td>60.224996</td>\n",
       "      <td>0.521168</td>\n",
       "    </tr>\n",
       "  </tbody>\n",
       "</table>\n",
       "</div>"
      ],
      "text/plain": [
       "               Mean  Std Required value  \\\n",
       "Digestive  0.000001  0.0       0.000001   \n",
       "Hobnob     0.000001  0.0       0.000001   \n",
       "Rich Tea        0.0  0.0            0.0   \n",
       "\n",
       "          Probability of required value occuring  \\\n",
       "Digestive                               0.061488   \n",
       "Hobnob                                 95.823819   \n",
       "Rich Tea                               60.224996   \n",
       "\n",
       "          Number of stds value is from mean  \n",
       "Digestive                          3.424962  \n",
       "Hobnob                             0.052365  \n",
       "Rich Tea                           0.521168  "
      ]
     },
     "execution_count": 30,
     "metadata": {},
     "output_type": "execute_result"
    }
   ],
   "source": [
    "# Summary stats showing probability of Washburn relationship mis-fitting due to an incorrect radius size estimate\n",
    "\n",
    "table1"
   ]
  },
  {
   "cell_type": "markdown",
   "metadata": {},
   "source": [
    "From this analysis, it is clear that the Washburn equation is not a good prediction model. The probability of the Washburn model being correct for Digestives is extremely low, as the chance of the required radius occuring is less than 0.06%. This suggests there is instead something wrong with the model. \n",
    "\n",
    "The Washburn model effectively predicts the relationship between L and t for Hobnobs. Furthermore, the model for the Rich Tea biscuit is likely correct, as the required radius for the probability is relatively likely to occur. However, the predicted model for the Digestives is very unlikely, which suggests the model can and should be improved."
   ]
  },
  {
   "cell_type": "markdown",
   "metadata": {},
   "source": [
    "### An improved model?"
   ]
  },
  {
   "cell_type": "markdown",
   "metadata": {},
   "source": [
    "In this section, a correction factor is added to the Washburn relationship. This corrected model is compared to the original model for each biscuit type, to see if the corrected model signifcantly improves upon the original model. "
   ]
  },
  {
   "cell_type": "code",
   "execution_count": null,
   "metadata": {},
   "outputs": [
    {
     "name": "stdout",
     "output_type": "stream",
     "text": [
      "[ultranest] Sampling 400 live points from prior ...\n",
      "[ultranest] Explored until L=-1e+05  \n",
      "[ultranest] Likelihood function evaluations: 400\n",
      "[ultranest]   logZ = -1.083e+05 +- 3.132e-11\n",
      "[ultranest] Effective samples strategy satisfied (ESS = 400.0, need >400)\n",
      "[ultranest] Posterior uncertainty strategy is satisfied (KL: 0.45+-0.05 nat, need <0.50 nat)\n",
      "[ultranest] Evidency uncertainty strategy wants 40 minimum live points (dlogz from 0.00 to 0.00, need <0.5)\n",
      "[ultranest]   logZ error budget: single: inf bs:0.00 tail:0.69 total:0.69 required:<0.50\n",
      "[ultranest] done iterating.\n",
      "\n",
      "logZ = -108260.508 +- 0.693\n",
      "  single instance: logZ = -108260.508 +- nan\n",
      "  bootstrapped   : logZ = -108260.508 +- -0.000\n",
      "  tail           : logZ = +- 0.693\n",
      "insert order U test : converged: True correlation: inf iterations\n",
      "\n",
      "\n",
      "[ultranest] Sampling 400 live points from prior ...\n"
     ]
    },
    {
     "data": {
      "application/vnd.jupyter.widget-view+json": {
       "model_id": "4dcf46b619024eddbc27ff4ed5e96255",
       "version_major": 2,
       "version_minor": 0
      },
      "text/plain": [
       "VBox(children=(HTML(value=''), GridspecLayout(children=(HTML(value=\"<div style='background-color:#6E6BF4;'>&nb…"
      ]
     },
     "metadata": {},
     "output_type": "display_data"
    }
   ],
   "source": [
    "# determine an improved model using a correction factor. \n",
    "\n",
    "# record log(B) for later\n",
    "log_Bs = []\n",
    "\n",
    "# priors of each model\n",
    "original_priors = []  \n",
    "corrected_priors = [uniform(0, 10)]\n",
    "\n",
    "for biscuit in biscuits:\n",
    "    tr_data = biscuit_summaries[biscuit]['tr_vals']\n",
    "\n",
    "    # run original model\n",
    "    sampler_one = ultranest.ReactiveNestedSampler([], likelihood_original, original_prior_transform)\n",
    "    sampler_one.run(show_status=False)\n",
    "    sampler_one.print_results()\n",
    "\n",
    "    # run corrected model\n",
    "    sampler_two = ultranest.ReactiveNestedSampler(['a'], likelihood_corrected, corrected_prior_transform)\n",
    "    sampler_two.run(show_status=False)\n",
    "    sampler_two.print_results()\n",
    "    \n",
    "    # add correction to summary stats\n",
    "    biscuit_summaries[biscuit]['correction'] = sampler_two.results['posterior']['mean'][0]\n",
    "    \n",
    "    # record log(B)\n",
    "    log_B = sampler_two.results['logz'] - sampler_one.results['logz']\n",
    "    print(f\"log_B: {log_B:.3}\")\n",
    "    \n",
    "    log_Bs.append(log_B)"
   ]
  },
  {
   "cell_type": "code",
   "execution_count": null,
   "metadata": {},
   "outputs": [],
   "source": [
    "# corrected washburn model fittings\n",
    "\n",
    "table2 = pd.DataFrame(columns=(['log_B', 'Original model MSE', 'Corrected model MSE']))\n",
    "\n",
    "fig, ax = plt.subplots(figsize=(10,5))\n",
    "\n",
    "for i, biscuit in enumerate(biscuits):\n",
    "    data = biscuit_summaries[biscuit]['tr_vals']\n",
    "    t = data[\"t\"]\n",
    "    L = data[\"L\"]\n",
    "    dL = data[\"dL\"]\n",
    "    \n",
    "    # calculate \n",
    "    washburn_L_preds = washburn(gamma, phi, eta, biscuit_summaries[biscuit]['mean'], t )\n",
    "    ax.errorbar(t,L,dL,label=f\"{biscuit} True data\", alpha=0.4, color=f\"C{i}\", zorder=1)\n",
    "    \n",
    "    ax.plot(t, washburn_L_preds, marker='+', linestyle='', color=f\"C{i}\", zorder=3, label=f'{biscuit} Washburn relationship') \n",
    "    \n",
    "    correction = biscuit_summaries[biscuit]['correction']\n",
    "    if i == len(biscuits)-1:\n",
    "        label = 'Corrected Washburn relationships'\n",
    "    else:\n",
    "        label=None\n",
    "        \n",
    "    corrected_model = (correction)*washburn_L_preds\n",
    "    ax.plot(t, corrected_model, linestyle='--', color=\"black\", zorder=5, label=label) \n",
    "    \n",
    "    mse_original = mean_squared_error(L, washburn_L_preds)\n",
    "    mse_corrected = mean_squared_error(L, corrected_model)\n",
    "    \n",
    "    table2.loc[biscuit] = [log_Bs[i], mse_original, mse_corrected]\n",
    "    \n",
    "ax.set_xlabel(\"Time / s\")\n",
    "ax.set_ylabel(\"Length of Tea Up Biscuit / m\")\n",
    "ax.legend()\n",
    "plt.show()\n",
    "\n",
    "table2.to_csv('model_comparisons.csv', index_label='Biscuit Type')"
   ]
  },
  {
   "cell_type": "code",
   "execution_count": null,
   "metadata": {},
   "outputs": [],
   "source": [
    "# Comparison statistics between the two models.\n",
    "\n",
    "table2"
   ]
  },
  {
   "cell_type": "code",
   "execution_count": null,
   "metadata": {},
   "outputs": [],
   "source": [
    "# relationship between corrections and (estimated) pore radius.\n",
    "\n",
    "fig, ax = plt.subplots()\n",
    "\n",
    "radii_mean = np.zeros(len(biscuits))\n",
    "corrections = np.zeros(len(biscuits))\n",
    "for i, biscuit in enumerate(biscuits):\n",
    "    radii_mean[i] = (biscuit_summaries[biscuit]['mean'])\n",
    "    corrections[i] = (biscuit_summaries[biscuit]['correction'])\n",
    "    \n",
    "ax.scatter(radii_mean, corrections, marker='x')\n",
    "\n",
    "ax.set_xlabel('Radius / m')\n",
    "ax.set_ylabel('Correction');"
   ]
  },
  {
   "cell_type": "markdown",
   "metadata": {},
   "source": [
    "These corrections look like they may have a linear relationship, which would produce a neat wrapper for relating the correction function to readius. The following code determines the relationship and plots it. However, it should be considered that this relationship is very unreliable as there are only three data points. "
   ]
  },
  {
   "cell_type": "code",
   "execution_count": null,
   "metadata": {},
   "outputs": [],
   "source": [
    "# find linear relationship\n",
    "\n",
    "model = LinearRegression()\n",
    "\n",
    "x = radii_mean.reshape(-1, 1)\n",
    "y = corrections.reshape(-1, 1)\n",
    "\n",
    "model.fit(x,y)\n",
    "\n",
    "print(model.coef_)\n",
    "print(model.intercept_)"
   ]
  },
  {
   "cell_type": "code",
   "execution_count": null,
   "metadata": {},
   "outputs": [],
   "source": [
    "# Plot linear relationship\n",
    "\n",
    "fig, ax = plt.subplots()\n",
    "\n",
    "radii_mean = np.zeros(len(biscuits))\n",
    "corrections = np.zeros(len(biscuits))\n",
    "\n",
    "for i, biscuit in enumerate(biscuits):\n",
    "    radii_mean[i] = (biscuit_summaries[biscuit]['mean'])\n",
    "    corrections[i] = (biscuit_summaries[biscuit]['correction'])\n",
    "    \n",
    "ax.scatter(radii_mean, corrections, marker='x')\n",
    "\n",
    "# Plot linear regression model\n",
    "x_vals = np.array(ax.get_xlim())\n",
    "y_vals = model.intercept_[0] + model.coef_[0][0] * x_vals\n",
    "print(f\"Relationship: y = {model.intercept_[0]:.3} + {model.coef_[0][0]:.3} * r\")\n",
    "ax.plot(x_vals, y_vals, linestyle='--', color='black')\n",
    "\n",
    "ax.set_xlabel('Radius / m')\n",
    "ax.set_ylabel('Correction');"
   ]
  },
  {
   "cell_type": "code",
   "execution_count": null,
   "metadata": {},
   "outputs": [],
   "source": [
    "# Calculate r**2 value of this linear regression model\n",
    "\n",
    "predictions = model.predict(radii_mean.reshape(-1,1))\n",
    "\n",
    "r2 = r2_score(predictions, corrections)\n",
    "\n",
    "print(f\"r2 value: {r2:.3}\")"
   ]
  },
  {
   "cell_type": "markdown",
   "metadata": {},
   "source": [
    "This figure and R^2 value suggests there may be a linear relationship between the correction factor and the pore radius of a biscuit. However, with only 3 data points, this relationship is very unreliable. This unreliability is enhanced by the fact that the true pore radii of each biscuit used in this analysis was not known. "
   ]
  },
  {
   "cell_type": "markdown",
   "metadata": {},
   "source": [
    "### Conclusion\n",
    "\n",
    "The corresponding report will outline how the data produced can be used in future data-driven investigations. "
   ]
  }
 ],
 "metadata": {
  "kernelspec": {
   "display_name": "special-topics_w7",
   "language": "python",
   "name": "python3"
  },
  "language_info": {
   "codemirror_mode": {
    "name": "ipython",
    "version": 3
   },
   "file_extension": ".py",
   "mimetype": "text/x-python",
   "name": "python",
   "nbconvert_exporter": "python",
   "pygments_lexer": "ipython3",
   "version": "3.11.11"
  }
 },
 "nbformat": 4,
 "nbformat_minor": 2
}
